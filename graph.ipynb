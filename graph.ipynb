{
 "cells": [
  {
   "attachments": {},
   "cell_type": "markdown",
   "metadata": {},
   "source": [
    "## UK Deaths by Vaccination Status\n",
    "\n",
    "This notebook plots the May 2022 dataset from https://www.ons.gov.uk/peoplepopulationandcommunity/birthsdeathsandmarriages/deaths/datasets/deathsbyvaccinationstatusengland.\n",
    "Curiously they stopped reporting the data, so let's take a look at it.\n",
    "\n",
    "The .xlsx contains a bunch of tabs, but the interesting one contains standardized numbers per 100,000 which is what you need to do if you want to compare the numbers.  So we take \"Table 3\" which is \"Whole period age-standardised mortality rates by vaccination status for all cause deaths, deaths involving COVID-19 and deaths not involving COVID-19, per 100,000 person-years, England, deaths occurring between 1 January 2021 and 31 May 2022\".\n",
    "\n",
    "Then this code pivots on vaccination status so we can pull out the data for Unvaccinated and compare that with all the other kinds of vaccination status they break out, which are:\n",
    "\n",
    "- First dose, less than 21 days ago\n",
    "- First dose, at least 21 days ago\n",
    "- Second dose, less than 21 days ago\n",
    "- Second dose, between 21 days and 6 months ago\n",
    "- Second dose, at least 6 months ago\n",
    "- Third dose or booster, less than 21 days ago\n",
    "- Third dose or booster, at least 21 days ago\n",
    "- Ever vaccinated\n",
    "\n",
    "Now what I don't understand is that 'Ever vaccinated' should essentially be showing the average of all the other columns, but as you can see below it is not.  I computed the average myself (see the last chart) and it does not match.  The other problem with this kind of \"averaging\" is that one of the vaccinated groups named \"Second dose, at least 6 months ago\" cannot start until halfway through 2021 by definition, so it starts with all zeros, and those zeros are artificially pulling down the average for the vaccinated group.  So what we really have to do is look at all the charts and they all look pretty bad, except \"Third dose or booster, at least 21 days ago\" but even that is converging with unvaccinated by May 2022 when the data stops, and I suspect it crossed that path and is now much worse also which is probably why they stopped tracking it.\n",
    "\n",
    "When you look at all the charts, it also shows many of these vaccinated groups are doing very poorly.\n"
   ]
  },
  {
   "cell_type": "code",
   "execution_count": 1,
   "metadata": {},
   "outputs": [
    {
     "data": {
      "text/html": [
       "\n",
       "    <div class=\"bk-root\">\n",
       "        <a href=\"https://bokeh.org\" target=\"_blank\" class=\"bk-logo bk-logo-small bk-logo-notebook\"></a>\n",
       "        <span id=\"1002\">Loading BokehJS ...</span>\n",
       "    </div>"
      ]
     },
     "metadata": {},
     "output_type": "display_data"
    },
    {
     "data": {
      "application/javascript": "\n(function(root) {\n  function now() {\n    return new Date();\n  }\n\n  var force = true;\n\n  if (typeof root._bokeh_onload_callbacks === \"undefined\" || force === true) {\n    root._bokeh_onload_callbacks = [];\n    root._bokeh_is_loading = undefined;\n  }\n\n  var JS_MIME_TYPE = 'application/javascript';\n  var HTML_MIME_TYPE = 'text/html';\n  var EXEC_MIME_TYPE = 'application/vnd.bokehjs_exec.v0+json';\n  var CLASS_NAME = 'output_bokeh rendered_html';\n\n  /**\n   * Render data to the DOM node\n   */\n  function render(props, node) {\n    var script = document.createElement(\"script\");\n    node.appendChild(script);\n  }\n\n  /**\n   * Handle when an output is cleared or removed\n   */\n  function handleClearOutput(event, handle) {\n    var cell = handle.cell;\n\n    var id = cell.output_area._bokeh_element_id;\n    var server_id = cell.output_area._bokeh_server_id;\n    // Clean up Bokeh references\n    if (id != null && id in Bokeh.index) {\n      Bokeh.index[id].model.document.clear();\n      delete Bokeh.index[id];\n    }\n\n    if (server_id !== undefined) {\n      // Clean up Bokeh references\n      var cmd = \"from bokeh.io.state import curstate; print(curstate().uuid_to_server['\" + server_id + \"'].get_sessions()[0].document.roots[0]._id)\";\n      cell.notebook.kernel.execute(cmd, {\n        iopub: {\n          output: function(msg) {\n            var id = msg.content.text.trim();\n            if (id in Bokeh.index) {\n              Bokeh.index[id].model.document.clear();\n              delete Bokeh.index[id];\n            }\n          }\n        }\n      });\n      // Destroy server and session\n      var cmd = \"import bokeh.io.notebook as ion; ion.destroy_server('\" + server_id + \"')\";\n      cell.notebook.kernel.execute(cmd);\n    }\n  }\n\n  /**\n   * Handle when a new output is added\n   */\n  function handleAddOutput(event, handle) {\n    var output_area = handle.output_area;\n    var output = handle.output;\n\n    // limit handleAddOutput to display_data with EXEC_MIME_TYPE content only\n    if ((output.output_type != \"display_data\") || (!Object.prototype.hasOwnProperty.call(output.data, EXEC_MIME_TYPE))) {\n      return\n    }\n\n    var toinsert = output_area.element.find(\".\" + CLASS_NAME.split(' ')[0]);\n\n    if (output.metadata[EXEC_MIME_TYPE][\"id\"] !== undefined) {\n      toinsert[toinsert.length - 1].firstChild.textContent = output.data[JS_MIME_TYPE];\n      // store reference to embed id on output_area\n      output_area._bokeh_element_id = output.metadata[EXEC_MIME_TYPE][\"id\"];\n    }\n    if (output.metadata[EXEC_MIME_TYPE][\"server_id\"] !== undefined) {\n      var bk_div = document.createElement(\"div\");\n      bk_div.innerHTML = output.data[HTML_MIME_TYPE];\n      var script_attrs = bk_div.children[0].attributes;\n      for (var i = 0; i < script_attrs.length; i++) {\n        toinsert[toinsert.length - 1].firstChild.setAttribute(script_attrs[i].name, script_attrs[i].value);\n        toinsert[toinsert.length - 1].firstChild.textContent = bk_div.children[0].textContent\n      }\n      // store reference to server id on output_area\n      output_area._bokeh_server_id = output.metadata[EXEC_MIME_TYPE][\"server_id\"];\n    }\n  }\n\n  function register_renderer(events, OutputArea) {\n\n    function append_mime(data, metadata, element) {\n      // create a DOM node to render to\n      var toinsert = this.create_output_subarea(\n        metadata,\n        CLASS_NAME,\n        EXEC_MIME_TYPE\n      );\n      this.keyboard_manager.register_events(toinsert);\n      // Render to node\n      var props = {data: data, metadata: metadata[EXEC_MIME_TYPE]};\n      render(props, toinsert[toinsert.length - 1]);\n      element.append(toinsert);\n      return toinsert\n    }\n\n    /* Handle when an output is cleared or removed */\n    events.on('clear_output.CodeCell', handleClearOutput);\n    events.on('delete.Cell', handleClearOutput);\n\n    /* Handle when a new output is added */\n    events.on('output_added.OutputArea', handleAddOutput);\n\n    /**\n     * Register the mime type and append_mime function with output_area\n     */\n    OutputArea.prototype.register_mime_type(EXEC_MIME_TYPE, append_mime, {\n      /* Is output safe? */\n      safe: true,\n      /* Index of renderer in `output_area.display_order` */\n      index: 0\n    });\n  }\n\n  // register the mime type if in Jupyter Notebook environment and previously unregistered\n  if (root.Jupyter !== undefined) {\n    var events = require('base/js/events');\n    var OutputArea = require('notebook/js/outputarea').OutputArea;\n\n    if (OutputArea.prototype.mime_types().indexOf(EXEC_MIME_TYPE) == -1) {\n      register_renderer(events, OutputArea);\n    }\n  }\n\n  \n  if (typeof (root._bokeh_timeout) === \"undefined\" || force === true) {\n    root._bokeh_timeout = Date.now() + 5000;\n    root._bokeh_failed_load = false;\n  }\n\n  var NB_LOAD_WARNING = {'data': {'text/html':\n     \"<div style='background-color: #fdd'>\\n\"+\n     \"<p>\\n\"+\n     \"BokehJS does not appear to have successfully loaded. If loading BokehJS from CDN, this \\n\"+\n     \"may be due to a slow or bad network connection. Possible fixes:\\n\"+\n     \"</p>\\n\"+\n     \"<ul>\\n\"+\n     \"<li>re-rerun `output_notebook()` to attempt to load from CDN again, or</li>\\n\"+\n     \"<li>use INLINE resources instead, as so:</li>\\n\"+\n     \"</ul>\\n\"+\n     \"<code>\\n\"+\n     \"from bokeh.resources import INLINE\\n\"+\n     \"output_notebook(resources=INLINE)\\n\"+\n     \"</code>\\n\"+\n     \"</div>\"}};\n\n  function display_loaded() {\n    var el = document.getElementById(\"1002\");\n    if (el != null) {\n      el.textContent = \"BokehJS is loading...\";\n    }\n    if (root.Bokeh !== undefined) {\n      if (el != null) {\n        el.textContent = \"BokehJS \" + root.Bokeh.version + \" successfully loaded.\";\n      }\n    } else if (Date.now() < root._bokeh_timeout) {\n      setTimeout(display_loaded, 100)\n    }\n  }\n\n\n  function run_callbacks() {\n    try {\n      root._bokeh_onload_callbacks.forEach(function(callback) {\n        if (callback != null)\n          callback();\n      });\n    } finally {\n      delete root._bokeh_onload_callbacks\n    }\n    console.debug(\"Bokeh: all callbacks have finished\");\n  }\n\n  function load_libs(css_urls, js_urls, callback) {\n    if (css_urls == null) css_urls = [];\n    if (js_urls == null) js_urls = [];\n\n    root._bokeh_onload_callbacks.push(callback);\n    if (root._bokeh_is_loading > 0) {\n      console.debug(\"Bokeh: BokehJS is being loaded, scheduling callback at\", now());\n      return null;\n    }\n    if (js_urls == null || js_urls.length === 0) {\n      run_callbacks();\n      return null;\n    }\n    console.debug(\"Bokeh: BokehJS not loaded, scheduling load and callback at\", now());\n    root._bokeh_is_loading = css_urls.length + js_urls.length;\n\n    function on_load() {\n      root._bokeh_is_loading--;\n      if (root._bokeh_is_loading === 0) {\n        console.debug(\"Bokeh: all BokehJS libraries/stylesheets loaded\");\n        run_callbacks()\n      }\n    }\n\n    function on_error(url) {\n      console.error(\"failed to load \" + url);\n    }\n\n    for (let i = 0; i < css_urls.length; i++) {\n      const url = css_urls[i];\n      const element = document.createElement(\"link\");\n      element.onload = on_load;\n      element.onerror = on_error.bind(null, url);\n      element.rel = \"stylesheet\";\n      element.type = \"text/css\";\n      element.href = url;\n      console.debug(\"Bokeh: injecting link tag for BokehJS stylesheet: \", url);\n      document.body.appendChild(element);\n    }\n\n    const hashes = {\"https://cdn.bokeh.org/bokeh/release/bokeh-2.3.3.min.js\": \"dM3QQsP+wXdHg42wTqW85BjZQdLNNIXqlPw/BgKoExPmTG7ZLML4EGqLMfqHT6ON\", \"https://cdn.bokeh.org/bokeh/release/bokeh-tables-2.3.3.min.js\": \"8x57I4YuIfu8XyZfFo0XVr2WAT8EK4rh/uDe3wF7YuW2FNUSNEpJbsPaB1nJ2fz2\", \"https://cdn.bokeh.org/bokeh/release/bokeh-widgets-2.3.3.min.js\": \"3QTqdz9LyAm2i0sG5XTePsHec3UHWwVsrOL68SYRoAXsafvfAyqtQ+h440+qIBhS\"};\n\n    for (let i = 0; i < js_urls.length; i++) {\n      const url = js_urls[i];\n      const element = document.createElement('script');\n      element.onload = on_load;\n      element.onerror = on_error.bind(null, url);\n      element.async = false;\n      element.src = url;\n      if (url in hashes) {\n        element.crossOrigin = \"anonymous\";\n        element.integrity = \"sha384-\" + hashes[url];\n      }\n      console.debug(\"Bokeh: injecting script tag for BokehJS library: \", url);\n      document.head.appendChild(element);\n    }\n  };\n\n  function inject_raw_css(css) {\n    const element = document.createElement(\"style\");\n    element.appendChild(document.createTextNode(css));\n    document.body.appendChild(element);\n  }\n\n  \n  var js_urls = [\"https://cdn.bokeh.org/bokeh/release/bokeh-2.3.3.min.js\", \"https://cdn.bokeh.org/bokeh/release/bokeh-widgets-2.3.3.min.js\", \"https://cdn.bokeh.org/bokeh/release/bokeh-tables-2.3.3.min.js\"];\n  var css_urls = [];\n  \n\n  var inline_js = [\n    function(Bokeh) {\n      Bokeh.set_log_level(\"info\");\n    },\n    function(Bokeh) {\n    \n    \n    }\n  ];\n\n  function run_inline_js() {\n    \n    if (root.Bokeh !== undefined || force === true) {\n      \n    for (var i = 0; i < inline_js.length; i++) {\n      inline_js[i].call(root, root.Bokeh);\n    }\n    if (force === true) {\n        display_loaded();\n      }} else if (Date.now() < root._bokeh_timeout) {\n      setTimeout(run_inline_js, 100);\n    } else if (!root._bokeh_failed_load) {\n      console.log(\"Bokeh: BokehJS failed to load within specified timeout.\");\n      root._bokeh_failed_load = true;\n    } else if (force !== true) {\n      var cell = $(document.getElementById(\"1002\")).parents('.cell').data().cell;\n      cell.output_area.append_execute_result(NB_LOAD_WARNING)\n    }\n\n  }\n\n  if (root._bokeh_is_loading === 0) {\n    console.debug(\"Bokeh: BokehJS loaded, going straight to plotting\");\n    run_inline_js();\n  } else {\n    load_libs(css_urls, js_urls, function() {\n      console.debug(\"Bokeh: BokehJS plotting callback run at\", now());\n      run_inline_js();\n    });\n  }\n}(window));",
      "application/vnd.bokehjs_load.v0+json": ""
     },
     "metadata": {},
     "output_type": "display_data"
    },
    {
     "data": {
      "text/html": [
       "\n",
       "\n",
       "\n",
       "\n",
       "\n",
       "\n",
       "  <div class=\"bk-root\" id=\"64dfd7e3-f749-4736-881b-aa8dc67a5150\" data-root-id=\"1003\"></div>\n"
      ]
     },
     "metadata": {},
     "output_type": "display_data"
    },
    {
     "data": {
      "application/javascript": "(function(root) {\n  function embed_document(root) {\n    \n  var docs_json = {\"75a0cdb5-45ba-49a8-b85b-064da85bb5ae\":{\"defs\":[],\"roots\":{\"references\":[{\"attributes\":{\"below\":[{\"id\":\"1012\"}],\"center\":[{\"id\":\"1015\"},{\"id\":\"1019\"},{\"id\":\"1050\"}],\"height\":400,\"left\":[{\"id\":\"1016\"}],\"renderers\":[{\"id\":\"1037\"},{\"id\":\"1055\"}],\"title\":{\"id\":\"1040\"},\"toolbar\":{\"id\":\"1027\"},\"width\":1000,\"x_range\":{\"id\":\"1004\"},\"x_scale\":{\"id\":\"1008\"},\"y_range\":{\"id\":\"1006\"},\"y_scale\":{\"id\":\"1010\"}},\"id\":\"1003\",\"subtype\":\"Figure\",\"type\":\"Plot\"},{\"attributes\":{},\"id\":\"1020\",\"type\":\"PanTool\"},{\"attributes\":{\"label\":{\"value\":\"Unvaccinated\"},\"renderers\":[{\"id\":\"1037\"}]},\"id\":\"1051\",\"type\":\"LegendItem\"},{\"attributes\":{\"data\":{\"x\":[0,1,2,3,4,5,6,7,8,9,10,11,12,13,14,15,16],\"y\":{\"__ndarray__\":\"zczMzMzUlEBmZmZmZm6PQGZmZmZmIaBAMzMzMzM0oEAAAAAAAE6bQAAAAAAAeJRAAAAAAADgi0AzMzMzM7GhQM3MzMzMxIdAAAAAAAAKoEAAAAAAAEOrQGZmZmZmfp5AzczMzMyYq0BmZmZmZhqkQAAAAAAAAAAAmpmZmZmyuUAAAAAAAAAAAA==\",\"dtype\":\"float64\",\"order\":\"little\",\"shape\":[17]}},\"selected\":{\"id\":\"1068\"},\"selection_policy\":{\"id\":\"1069\"}},\"id\":\"1052\",\"type\":\"ColumnDataSource\"},{\"attributes\":{\"items\":[{\"id\":\"1051\"},{\"id\":\"1070\"}]},\"id\":\"1050\",\"type\":\"Legend\"},{\"attributes\":{\"data\":{\"x\":[0,1,2,3,4,5,6,7,8,9,10,11,12,13,14,15,16],\"y\":{\"__ndarray__\":\"MzMzMzOXo0AAAAAAgI20QJqZmZmZ16lAzczMzMz0oUAzMzMzM9uaQM3MzMzM1phAzczMzMwqmUBmZmZmZr6aQAAAAAAAAppAzczMzMxemUAAAAAAALCaQAAAAAAAWp1AAAAAAABQnEAAAAAAAKKVQM3MzMzMPpNAZmZmZmbSkkAzMzMzM0eLQA==\",\"dtype\":\"float64\",\"order\":\"little\",\"shape\":[17]}},\"selected\":{\"id\":\"1048\"},\"selection_policy\":{\"id\":\"1049\"}},\"id\":\"1034\",\"type\":\"ColumnDataSource\"},{\"attributes\":{},\"id\":\"1042\",\"type\":\"AllLabels\"},{\"attributes\":{},\"id\":\"1040\",\"type\":\"Title\"},{\"attributes\":{},\"id\":\"1041\",\"type\":\"BasicTickFormatter\"},{\"attributes\":{\"line_color\":\"blue\",\"x\":{\"field\":\"x\"},\"y\":{\"field\":\"y\"}},\"id\":\"1035\",\"type\":\"Line\"},{\"attributes\":{\"axis\":{\"id\":\"1016\"},\"dimension\":1,\"ticker\":null},\"id\":\"1019\",\"type\":\"Grid\"},{\"attributes\":{\"line_alpha\":0.1,\"line_color\":\"blue\",\"x\":{\"field\":\"x\"},\"y\":{\"field\":\"y\"}},\"id\":\"1036\",\"type\":\"Line\"},{\"attributes\":{},\"id\":\"1017\",\"type\":\"BasicTicker\"},{\"attributes\":{\"data_source\":{\"id\":\"1034\"},\"glyph\":{\"id\":\"1035\"},\"hover_glyph\":null,\"muted_glyph\":null,\"nonselection_glyph\":{\"id\":\"1036\"},\"view\":{\"id\":\"1038\"}},\"id\":\"1037\",\"type\":\"GlyphRenderer\"},{\"attributes\":{},\"id\":\"1049\",\"type\":\"UnionRenderers\"},{\"attributes\":{\"formatter\":{\"id\":\"1041\"},\"major_label_policy\":{\"id\":\"1042\"},\"ticker\":{\"id\":\"1017\"}},\"id\":\"1016\",\"type\":\"LinearAxis\"},{\"attributes\":{},\"id\":\"1048\",\"type\":\"Selection\"},{\"attributes\":{\"source\":{\"id\":\"1034\"}},\"id\":\"1038\",\"type\":\"CDSView\"},{\"attributes\":{},\"id\":\"1044\",\"type\":\"BasicTickFormatter\"},{\"attributes\":{\"bottom_units\":\"screen\",\"fill_alpha\":0.5,\"fill_color\":\"lightgrey\",\"left_units\":\"screen\",\"level\":\"overlay\",\"line_alpha\":1.0,\"line_color\":\"black\",\"line_dash\":[4,4],\"line_width\":2,\"right_units\":\"screen\",\"syncable\":false,\"top_units\":\"screen\"},\"id\":\"1026\",\"type\":\"BoxAnnotation\"},{\"attributes\":{\"axis\":{\"id\":\"1012\"},\"ticker\":null},\"id\":\"1015\",\"type\":\"Grid\"},{\"attributes\":{},\"id\":\"1013\",\"type\":\"BasicTicker\"},{\"attributes\":{},\"id\":\"1068\",\"type\":\"Selection\"},{\"attributes\":{\"label\":{\"value\":\"First dose, less than 21 days ago\"},\"renderers\":[{\"id\":\"1055\"}]},\"id\":\"1070\",\"type\":\"LegendItem\"},{\"attributes\":{},\"id\":\"1010\",\"type\":\"LinearScale\"},{\"attributes\":{},\"id\":\"1069\",\"type\":\"UnionRenderers\"},{\"attributes\":{\"active_multi\":null,\"tools\":[{\"id\":\"1020\"},{\"id\":\"1021\"},{\"id\":\"1022\"},{\"id\":\"1023\"},{\"id\":\"1024\"},{\"id\":\"1025\"}]},\"id\":\"1027\",\"type\":\"Toolbar\"},{\"attributes\":{\"line_alpha\":0.1,\"line_color\":\"green\",\"x\":{\"field\":\"x\"},\"y\":{\"field\":\"y\"}},\"id\":\"1054\",\"type\":\"Line\"},{\"attributes\":{\"formatter\":{\"id\":\"1044\"},\"major_label_policy\":{\"id\":\"1045\"},\"ticker\":{\"id\":\"1013\"}},\"id\":\"1012\",\"type\":\"LinearAxis\"},{\"attributes\":{},\"id\":\"1025\",\"type\":\"HelpTool\"},{\"attributes\":{},\"id\":\"1024\",\"type\":\"ResetTool\"},{\"attributes\":{\"source\":{\"id\":\"1052\"}},\"id\":\"1056\",\"type\":\"CDSView\"},{\"attributes\":{},\"id\":\"1004\",\"type\":\"DataRange1d\"},{\"attributes\":{},\"id\":\"1021\",\"type\":\"WheelZoomTool\"},{\"attributes\":{},\"id\":\"1023\",\"type\":\"SaveTool\"},{\"attributes\":{},\"id\":\"1006\",\"type\":\"DataRange1d\"},{\"attributes\":{\"line_color\":\"green\",\"x\":{\"field\":\"x\"},\"y\":{\"field\":\"y\"}},\"id\":\"1053\",\"type\":\"Line\"},{\"attributes\":{},\"id\":\"1008\",\"type\":\"LinearScale\"},{\"attributes\":{\"data_source\":{\"id\":\"1052\"},\"glyph\":{\"id\":\"1053\"},\"hover_glyph\":null,\"muted_glyph\":null,\"nonselection_glyph\":{\"id\":\"1054\"},\"view\":{\"id\":\"1056\"}},\"id\":\"1055\",\"type\":\"GlyphRenderer\"},{\"attributes\":{\"overlay\":{\"id\":\"1026\"}},\"id\":\"1022\",\"type\":\"BoxZoomTool\"},{\"attributes\":{},\"id\":\"1045\",\"type\":\"AllLabels\"}],\"root_ids\":[\"1003\"]},\"title\":\"Bokeh Application\",\"version\":\"2.3.3\"}};\n  var render_items = [{\"docid\":\"75a0cdb5-45ba-49a8-b85b-064da85bb5ae\",\"root_ids\":[\"1003\"],\"roots\":{\"1003\":\"64dfd7e3-f749-4736-881b-aa8dc67a5150\"}}];\n  root.Bokeh.embed.embed_items_notebook(docs_json, render_items);\n\n  }\n  if (root.Bokeh !== undefined) {\n    embed_document(root);\n  } else {\n    var attempts = 0;\n    var timer = setInterval(function(root) {\n      if (root.Bokeh !== undefined) {\n        clearInterval(timer);\n        embed_document(root);\n      } else {\n        attempts++;\n        if (attempts > 100) {\n          clearInterval(timer);\n          console.log(\"Bokeh: ERROR: Unable to run BokehJS code because BokehJS library is missing\");\n        }\n      }\n    }, 10, root)\n  }\n})(window);",
      "application/vnd.bokehjs_exec.v0+json": ""
     },
     "metadata": {
      "application/vnd.bokehjs_exec.v0+json": {
       "id": "1003"
      }
     },
     "output_type": "display_data"
    },
    {
     "data": {
      "text/html": [
       "\n",
       "\n",
       "\n",
       "\n",
       "\n",
       "\n",
       "  <div class=\"bk-root\" id=\"9d2fa357-d334-48ba-b0da-c45d82b1c153\" data-root-id=\"1149\"></div>\n"
      ]
     },
     "metadata": {},
     "output_type": "display_data"
    },
    {
     "data": {
      "application/javascript": "(function(root) {\n  function embed_document(root) {\n    \n  var docs_json = {\"e4c2e33f-d9b3-48eb-abe5-21c1ece28567\":{\"defs\":[],\"roots\":{\"references\":[{\"attributes\":{\"below\":[{\"id\":\"1158\"}],\"center\":[{\"id\":\"1161\"},{\"id\":\"1165\"},{\"id\":\"1196\"}],\"height\":400,\"left\":[{\"id\":\"1162\"}],\"renderers\":[{\"id\":\"1183\"},{\"id\":\"1201\"}],\"title\":{\"id\":\"1186\"},\"toolbar\":{\"id\":\"1173\"},\"width\":1000,\"x_range\":{\"id\":\"1150\"},\"x_scale\":{\"id\":\"1154\"},\"y_range\":{\"id\":\"1152\"},\"y_scale\":{\"id\":\"1156\"}},\"id\":\"1149\",\"subtype\":\"Figure\",\"type\":\"Plot\"},{\"attributes\":{\"formatter\":{\"id\":\"1187\"},\"major_label_policy\":{\"id\":\"1188\"},\"ticker\":{\"id\":\"1163\"}},\"id\":\"1162\",\"type\":\"LinearAxis\"},{\"attributes\":{\"items\":[{\"id\":\"1197\"},{\"id\":\"1216\"}]},\"id\":\"1196\",\"type\":\"Legend\"},{\"attributes\":{},\"id\":\"1163\",\"type\":\"BasicTicker\"},{\"attributes\":{\"line_alpha\":0.1,\"line_color\":\"green\",\"x\":{\"field\":\"x\"},\"y\":{\"field\":\"y\"}},\"id\":\"1200\",\"type\":\"Line\"},{\"attributes\":{\"axis\":{\"id\":\"1162\"},\"dimension\":1,\"ticker\":null},\"id\":\"1165\",\"type\":\"Grid\"},{\"attributes\":{\"line_color\":\"blue\",\"x\":{\"field\":\"x\"},\"y\":{\"field\":\"y\"}},\"id\":\"1181\",\"type\":\"Line\"},{\"attributes\":{},\"id\":\"1194\",\"type\":\"Selection\"},{\"attributes\":{\"axis\":{\"id\":\"1158\"},\"ticker\":null},\"id\":\"1161\",\"type\":\"Grid\"},{\"attributes\":{\"bottom_units\":\"screen\",\"fill_alpha\":0.5,\"fill_color\":\"lightgrey\",\"left_units\":\"screen\",\"level\":\"overlay\",\"line_alpha\":1.0,\"line_color\":\"black\",\"line_dash\":[4,4],\"line_width\":2,\"right_units\":\"screen\",\"syncable\":false,\"top_units\":\"screen\"},\"id\":\"1172\",\"type\":\"BoxAnnotation\"},{\"attributes\":{},\"id\":\"1186\",\"type\":\"Title\"},{\"attributes\":{},\"id\":\"1170\",\"type\":\"ResetTool\"},{\"attributes\":{\"label\":{\"value\":\"First dose, at least 21 days ago\"},\"renderers\":[{\"id\":\"1201\"}]},\"id\":\"1216\",\"type\":\"LegendItem\"},{\"attributes\":{\"data_source\":{\"id\":\"1180\"},\"glyph\":{\"id\":\"1181\"},\"hover_glyph\":null,\"muted_glyph\":null,\"nonselection_glyph\":{\"id\":\"1182\"},\"view\":{\"id\":\"1184\"}},\"id\":\"1183\",\"type\":\"GlyphRenderer\"},{\"attributes\":{\"data\":{\"x\":[0,1,2,3,4,5,6,7,8,9,10,11,12,13,14,15,16],\"y\":{\"__ndarray__\":\"MzMzMzOXo0AAAAAAgI20QJqZmZmZ16lAzczMzMz0oUAzMzMzM9uaQM3MzMzM1phAzczMzMwqmUBmZmZmZr6aQAAAAAAAAppAzczMzMxemUAAAAAAALCaQAAAAAAAWp1AAAAAAABQnEAAAAAAAKKVQM3MzMzMPpNAZmZmZmbSkkAzMzMzM0eLQA==\",\"dtype\":\"float64\",\"order\":\"little\",\"shape\":[17]}},\"selected\":{\"id\":\"1194\"},\"selection_policy\":{\"id\":\"1195\"}},\"id\":\"1180\",\"type\":\"ColumnDataSource\"},{\"attributes\":{},\"id\":\"1169\",\"type\":\"SaveTool\"},{\"attributes\":{\"source\":{\"id\":\"1180\"}},\"id\":\"1184\",\"type\":\"CDSView\"},{\"attributes\":{},\"id\":\"1187\",\"type\":\"BasicTickFormatter\"},{\"attributes\":{},\"id\":\"1190\",\"type\":\"BasicTickFormatter\"},{\"attributes\":{},\"id\":\"1159\",\"type\":\"BasicTicker\"},{\"attributes\":{},\"id\":\"1188\",\"type\":\"AllLabels\"},{\"attributes\":{\"formatter\":{\"id\":\"1190\"},\"major_label_policy\":{\"id\":\"1191\"},\"ticker\":{\"id\":\"1159\"}},\"id\":\"1158\",\"type\":\"LinearAxis\"},{\"attributes\":{},\"id\":\"1156\",\"type\":\"LinearScale\"},{\"attributes\":{},\"id\":\"1215\",\"type\":\"UnionRenderers\"},{\"attributes\":{\"label\":{\"value\":\"Unvaccinated\"},\"renderers\":[{\"id\":\"1183\"}]},\"id\":\"1197\",\"type\":\"LegendItem\"},{\"attributes\":{},\"id\":\"1154\",\"type\":\"LinearScale\"},{\"attributes\":{},\"id\":\"1150\",\"type\":\"DataRange1d\"},{\"attributes\":{},\"id\":\"1191\",\"type\":\"AllLabels\"},{\"attributes\":{\"line_alpha\":0.1,\"line_color\":\"blue\",\"x\":{\"field\":\"x\"},\"y\":{\"field\":\"y\"}},\"id\":\"1182\",\"type\":\"Line\"},{\"attributes\":{\"data\":{\"x\":[0,1,2,3,4,5,6,7,8,9,10,11,12,13,14,15,16],\"y\":{\"__ndarray__\":\"zczMzMzamkCamZmZmT+QQAAAAAAATI9AMzMzMzPhmkCamZmZGS60QAAAAAAALblAmpmZmZkAuEAzMzMzsxezQJqZmZkZhbJAmpmZmZkmskDNzMzMzH2uQJqZmZmZKrBAAAAAAAAFrkDNzMzMzJOlQAAAAAAAxaJAzczMzMyDo0CamZmZmUWdQA==\",\"dtype\":\"float64\",\"order\":\"little\",\"shape\":[17]}},\"selected\":{\"id\":\"1214\"},\"selection_policy\":{\"id\":\"1215\"}},\"id\":\"1198\",\"type\":\"ColumnDataSource\"},{\"attributes\":{\"source\":{\"id\":\"1198\"}},\"id\":\"1202\",\"type\":\"CDSView\"},{\"attributes\":{\"active_multi\":null,\"tools\":[{\"id\":\"1166\"},{\"id\":\"1167\"},{\"id\":\"1168\"},{\"id\":\"1169\"},{\"id\":\"1170\"},{\"id\":\"1171\"}]},\"id\":\"1173\",\"type\":\"Toolbar\"},{\"attributes\":{},\"id\":\"1171\",\"type\":\"HelpTool\"},{\"attributes\":{\"line_color\":\"green\",\"x\":{\"field\":\"x\"},\"y\":{\"field\":\"y\"}},\"id\":\"1199\",\"type\":\"Line\"},{\"attributes\":{\"data_source\":{\"id\":\"1198\"},\"glyph\":{\"id\":\"1199\"},\"hover_glyph\":null,\"muted_glyph\":null,\"nonselection_glyph\":{\"id\":\"1200\"},\"view\":{\"id\":\"1202\"}},\"id\":\"1201\",\"type\":\"GlyphRenderer\"},{\"attributes\":{},\"id\":\"1152\",\"type\":\"DataRange1d\"},{\"attributes\":{},\"id\":\"1214\",\"type\":\"Selection\"},{\"attributes\":{},\"id\":\"1166\",\"type\":\"PanTool\"},{\"attributes\":{\"overlay\":{\"id\":\"1172\"}},\"id\":\"1168\",\"type\":\"BoxZoomTool\"},{\"attributes\":{},\"id\":\"1167\",\"type\":\"WheelZoomTool\"},{\"attributes\":{},\"id\":\"1195\",\"type\":\"UnionRenderers\"}],\"root_ids\":[\"1149\"]},\"title\":\"Bokeh Application\",\"version\":\"2.3.3\"}};\n  var render_items = [{\"docid\":\"e4c2e33f-d9b3-48eb-abe5-21c1ece28567\",\"root_ids\":[\"1149\"],\"roots\":{\"1149\":\"9d2fa357-d334-48ba-b0da-c45d82b1c153\"}}];\n  root.Bokeh.embed.embed_items_notebook(docs_json, render_items);\n\n  }\n  if (root.Bokeh !== undefined) {\n    embed_document(root);\n  } else {\n    var attempts = 0;\n    var timer = setInterval(function(root) {\n      if (root.Bokeh !== undefined) {\n        clearInterval(timer);\n        embed_document(root);\n      } else {\n        attempts++;\n        if (attempts > 100) {\n          clearInterval(timer);\n          console.log(\"Bokeh: ERROR: Unable to run BokehJS code because BokehJS library is missing\");\n        }\n      }\n    }, 10, root)\n  }\n})(window);",
      "application/vnd.bokehjs_exec.v0+json": ""
     },
     "metadata": {
      "application/vnd.bokehjs_exec.v0+json": {
       "id": "1149"
      }
     },
     "output_type": "display_data"
    },
    {
     "data": {
      "text/html": [
       "\n",
       "\n",
       "\n",
       "\n",
       "\n",
       "\n",
       "  <div class=\"bk-root\" id=\"f46babc5-6079-4d90-8bd5-9586ed4e3d14\" data-root-id=\"1308\"></div>\n"
      ]
     },
     "metadata": {},
     "output_type": "display_data"
    },
    {
     "data": {
      "application/javascript": "(function(root) {\n  function embed_document(root) {\n    \n  var docs_json = {\"1d6085fe-ad9c-456f-9a51-ea397de3064f\":{\"defs\":[],\"roots\":{\"references\":[{\"attributes\":{\"below\":[{\"id\":\"1317\"}],\"center\":[{\"id\":\"1320\"},{\"id\":\"1324\"},{\"id\":\"1355\"}],\"height\":400,\"left\":[{\"id\":\"1321\"}],\"renderers\":[{\"id\":\"1342\"},{\"id\":\"1360\"}],\"title\":{\"id\":\"1345\"},\"toolbar\":{\"id\":\"1332\"},\"width\":1000,\"x_range\":{\"id\":\"1309\"},\"x_scale\":{\"id\":\"1313\"},\"y_range\":{\"id\":\"1311\"},\"y_scale\":{\"id\":\"1315\"}},\"id\":\"1308\",\"subtype\":\"Figure\",\"type\":\"Plot\"},{\"attributes\":{\"source\":{\"id\":\"1339\"}},\"id\":\"1343\",\"type\":\"CDSView\"},{\"attributes\":{\"label\":{\"value\":\"Unvaccinated\"},\"renderers\":[{\"id\":\"1342\"}]},\"id\":\"1356\",\"type\":\"LegendItem\"},{\"attributes\":{\"line_color\":\"blue\",\"x\":{\"field\":\"x\"},\"y\":{\"field\":\"y\"}},\"id\":\"1340\",\"type\":\"Line\"},{\"attributes\":{\"line_color\":\"green\",\"x\":{\"field\":\"x\"},\"y\":{\"field\":\"y\"}},\"id\":\"1358\",\"type\":\"Line\"},{\"attributes\":{},\"id\":\"1325\",\"type\":\"PanTool\"},{\"attributes\":{\"data_source\":{\"id\":\"1357\"},\"glyph\":{\"id\":\"1358\"},\"hover_glyph\":null,\"muted_glyph\":null,\"nonselection_glyph\":{\"id\":\"1359\"},\"view\":{\"id\":\"1361\"}},\"id\":\"1360\",\"type\":\"GlyphRenderer\"},{\"attributes\":{\"overlay\":{\"id\":\"1331\"}},\"id\":\"1327\",\"type\":\"BoxZoomTool\"},{\"attributes\":{\"data\":{\"x\":[0,1,2,3,4,5,6,7,8,9,10,11,12,13,14,15,16],\"y\":{\"__ndarray__\":\"AAAAAACYcECamZmZmQWGQDMzMzMzh4BAzczMzMwUf0DNzMzMzBSJQAAAAAAAYpdAMzMzMzMVnEAAAAAAAGyXQDMzMzMzc4lAzczMzMxYnUDNzMzMzNWgQAAAAAAAjptAAAAAAAD4oUAzMzMzM5eaQAAAAAAAAAAAZmZmZmbEpUAAAAAAAAAAAA==\",\"dtype\":\"float64\",\"order\":\"little\",\"shape\":[17]}},\"selected\":{\"id\":\"1373\"},\"selection_policy\":{\"id\":\"1374\"}},\"id\":\"1357\",\"type\":\"ColumnDataSource\"},{\"attributes\":{},\"id\":\"1329\",\"type\":\"ResetTool\"},{\"attributes\":{},\"id\":\"1326\",\"type\":\"WheelZoomTool\"},{\"attributes\":{},\"id\":\"1315\",\"type\":\"LinearScale\"},{\"attributes\":{\"axis\":{\"id\":\"1317\"},\"ticker\":null},\"id\":\"1320\",\"type\":\"Grid\"},{\"attributes\":{\"source\":{\"id\":\"1357\"}},\"id\":\"1361\",\"type\":\"CDSView\"},{\"attributes\":{},\"id\":\"1328\",\"type\":\"SaveTool\"},{\"attributes\":{\"line_alpha\":0.1,\"line_color\":\"green\",\"x\":{\"field\":\"x\"},\"y\":{\"field\":\"y\"}},\"id\":\"1359\",\"type\":\"Line\"},{\"attributes\":{},\"id\":\"1373\",\"type\":\"Selection\"},{\"attributes\":{},\"id\":\"1347\",\"type\":\"AllLabels\"},{\"attributes\":{},\"id\":\"1374\",\"type\":\"UnionRenderers\"},{\"attributes\":{},\"id\":\"1330\",\"type\":\"HelpTool\"},{\"attributes\":{},\"id\":\"1345\",\"type\":\"Title\"},{\"attributes\":{\"active_multi\":null,\"tools\":[{\"id\":\"1325\"},{\"id\":\"1326\"},{\"id\":\"1327\"},{\"id\":\"1328\"},{\"id\":\"1329\"},{\"id\":\"1330\"}]},\"id\":\"1332\",\"type\":\"Toolbar\"},{\"attributes\":{\"data_source\":{\"id\":\"1339\"},\"glyph\":{\"id\":\"1340\"},\"hover_glyph\":null,\"muted_glyph\":null,\"nonselection_glyph\":{\"id\":\"1341\"},\"view\":{\"id\":\"1343\"}},\"id\":\"1342\",\"type\":\"GlyphRenderer\"},{\"attributes\":{},\"id\":\"1349\",\"type\":\"BasicTickFormatter\"},{\"attributes\":{\"axis\":{\"id\":\"1321\"},\"dimension\":1,\"ticker\":null},\"id\":\"1324\",\"type\":\"Grid\"},{\"attributes\":{},\"id\":\"1346\",\"type\":\"BasicTickFormatter\"},{\"attributes\":{},\"id\":\"1350\",\"type\":\"AllLabels\"},{\"attributes\":{},\"id\":\"1322\",\"type\":\"BasicTicker\"},{\"attributes\":{\"data\":{\"x\":[0,1,2,3,4,5,6,7,8,9,10,11,12,13,14,15,16],\"y\":{\"__ndarray__\":\"MzMzMzOXo0AAAAAAgI20QJqZmZmZ16lAzczMzMz0oUAzMzMzM9uaQM3MzMzM1phAzczMzMwqmUBmZmZmZr6aQAAAAAAAAppAzczMzMxemUAAAAAAALCaQAAAAAAAWp1AAAAAAABQnEAAAAAAAKKVQM3MzMzMPpNAZmZmZmbSkkAzMzMzM0eLQA==\",\"dtype\":\"float64\",\"order\":\"little\",\"shape\":[17]}},\"selected\":{\"id\":\"1353\"},\"selection_policy\":{\"id\":\"1354\"}},\"id\":\"1339\",\"type\":\"ColumnDataSource\"},{\"attributes\":{\"bottom_units\":\"screen\",\"fill_alpha\":0.5,\"fill_color\":\"lightgrey\",\"left_units\":\"screen\",\"level\":\"overlay\",\"line_alpha\":1.0,\"line_color\":\"black\",\"line_dash\":[4,4],\"line_width\":2,\"right_units\":\"screen\",\"syncable\":false,\"top_units\":\"screen\"},\"id\":\"1331\",\"type\":\"BoxAnnotation\"},{\"attributes\":{\"formatter\":{\"id\":\"1346\"},\"major_label_policy\":{\"id\":\"1347\"},\"ticker\":{\"id\":\"1322\"}},\"id\":\"1321\",\"type\":\"LinearAxis\"},{\"attributes\":{},\"id\":\"1311\",\"type\":\"DataRange1d\"},{\"attributes\":{},\"id\":\"1354\",\"type\":\"UnionRenderers\"},{\"attributes\":{\"label\":{\"value\":\"Second dose, less than 21 days ago\"},\"renderers\":[{\"id\":\"1360\"}]},\"id\":\"1375\",\"type\":\"LegendItem\"},{\"attributes\":{},\"id\":\"1309\",\"type\":\"DataRange1d\"},{\"attributes\":{},\"id\":\"1313\",\"type\":\"LinearScale\"},{\"attributes\":{},\"id\":\"1353\",\"type\":\"Selection\"},{\"attributes\":{},\"id\":\"1318\",\"type\":\"BasicTicker\"},{\"attributes\":{\"formatter\":{\"id\":\"1349\"},\"major_label_policy\":{\"id\":\"1350\"},\"ticker\":{\"id\":\"1318\"}},\"id\":\"1317\",\"type\":\"LinearAxis\"},{\"attributes\":{\"items\":[{\"id\":\"1356\"},{\"id\":\"1375\"}]},\"id\":\"1355\",\"type\":\"Legend\"},{\"attributes\":{\"line_alpha\":0.1,\"line_color\":\"blue\",\"x\":{\"field\":\"x\"},\"y\":{\"field\":\"y\"}},\"id\":\"1341\",\"type\":\"Line\"}],\"root_ids\":[\"1308\"]},\"title\":\"Bokeh Application\",\"version\":\"2.3.3\"}};\n  var render_items = [{\"docid\":\"1d6085fe-ad9c-456f-9a51-ea397de3064f\",\"root_ids\":[\"1308\"],\"roots\":{\"1308\":\"f46babc5-6079-4d90-8bd5-9586ed4e3d14\"}}];\n  root.Bokeh.embed.embed_items_notebook(docs_json, render_items);\n\n  }\n  if (root.Bokeh !== undefined) {\n    embed_document(root);\n  } else {\n    var attempts = 0;\n    var timer = setInterval(function(root) {\n      if (root.Bokeh !== undefined) {\n        clearInterval(timer);\n        embed_document(root);\n      } else {\n        attempts++;\n        if (attempts > 100) {\n          clearInterval(timer);\n          console.log(\"Bokeh: ERROR: Unable to run BokehJS code because BokehJS library is missing\");\n        }\n      }\n    }, 10, root)\n  }\n})(window);",
      "application/vnd.bokehjs_exec.v0+json": ""
     },
     "metadata": {
      "application/vnd.bokehjs_exec.v0+json": {
       "id": "1308"
      }
     },
     "output_type": "display_data"
    },
    {
     "data": {
      "text/html": [
       "\n",
       "\n",
       "\n",
       "\n",
       "\n",
       "\n",
       "  <div class=\"bk-root\" id=\"4797f371-1a3b-472a-ae91-78bc07bee685\" data-root-id=\"1480\"></div>\n"
      ]
     },
     "metadata": {},
     "output_type": "display_data"
    },
    {
     "data": {
      "application/javascript": "(function(root) {\n  function embed_document(root) {\n    \n  var docs_json = {\"f9eb295e-6974-4fa5-820a-89b207f819d1\":{\"defs\":[],\"roots\":{\"references\":[{\"attributes\":{\"below\":[{\"id\":\"1489\"}],\"center\":[{\"id\":\"1492\"},{\"id\":\"1496\"},{\"id\":\"1527\"}],\"height\":400,\"left\":[{\"id\":\"1493\"}],\"renderers\":[{\"id\":\"1514\"},{\"id\":\"1532\"}],\"title\":{\"id\":\"1517\"},\"toolbar\":{\"id\":\"1504\"},\"width\":1000,\"x_range\":{\"id\":\"1481\"},\"x_scale\":{\"id\":\"1485\"},\"y_range\":{\"id\":\"1483\"},\"y_scale\":{\"id\":\"1487\"}},\"id\":\"1480\",\"subtype\":\"Figure\",\"type\":\"Plot\"},{\"attributes\":{},\"id\":\"1487\",\"type\":\"LinearScale\"},{\"attributes\":{\"data_source\":{\"id\":\"1529\"},\"glyph\":{\"id\":\"1530\"},\"hover_glyph\":null,\"muted_glyph\":null,\"nonselection_glyph\":{\"id\":\"1531\"},\"view\":{\"id\":\"1533\"}},\"id\":\"1532\",\"type\":\"GlyphRenderer\"},{\"attributes\":{},\"id\":\"1545\",\"type\":\"Selection\"},{\"attributes\":{\"formatter\":{\"id\":\"1521\"},\"major_label_policy\":{\"id\":\"1522\"},\"ticker\":{\"id\":\"1490\"}},\"id\":\"1489\",\"type\":\"LinearAxis\"},{\"attributes\":{\"source\":{\"id\":\"1529\"}},\"id\":\"1533\",\"type\":\"CDSView\"},{\"attributes\":{\"label\":{\"value\":\"Second dose, between 21 days and 6 months ago\"},\"renderers\":[{\"id\":\"1532\"}]},\"id\":\"1547\",\"type\":\"LegendItem\"},{\"attributes\":{},\"id\":\"1490\",\"type\":\"BasicTicker\"},{\"attributes\":{\"bottom_units\":\"screen\",\"fill_alpha\":0.5,\"fill_color\":\"lightgrey\",\"left_units\":\"screen\",\"level\":\"overlay\",\"line_alpha\":1.0,\"line_color\":\"black\",\"line_dash\":[4,4],\"line_width\":2,\"right_units\":\"screen\",\"syncable\":false,\"top_units\":\"screen\"},\"id\":\"1503\",\"type\":\"BoxAnnotation\"},{\"attributes\":{\"axis\":{\"id\":\"1489\"},\"ticker\":null},\"id\":\"1492\",\"type\":\"Grid\"},{\"attributes\":{\"source\":{\"id\":\"1511\"}},\"id\":\"1515\",\"type\":\"CDSView\"},{\"attributes\":{},\"id\":\"1517\",\"type\":\"Title\"},{\"attributes\":{\"formatter\":{\"id\":\"1518\"},\"major_label_policy\":{\"id\":\"1519\"},\"ticker\":{\"id\":\"1494\"}},\"id\":\"1493\",\"type\":\"LinearAxis\"},{\"attributes\":{},\"id\":\"1494\",\"type\":\"BasicTicker\"},{\"attributes\":{\"line_alpha\":0.1,\"line_color\":\"blue\",\"x\":{\"field\":\"x\"},\"y\":{\"field\":\"y\"}},\"id\":\"1513\",\"type\":\"Line\"},{\"attributes\":{\"axis\":{\"id\":\"1493\"},\"dimension\":1,\"ticker\":null},\"id\":\"1496\",\"type\":\"Grid\"},{\"attributes\":{},\"id\":\"1518\",\"type\":\"BasicTickFormatter\"},{\"attributes\":{\"line_color\":\"blue\",\"x\":{\"field\":\"x\"},\"y\":{\"field\":\"y\"}},\"id\":\"1512\",\"type\":\"Line\"},{\"attributes\":{},\"id\":\"1519\",\"type\":\"AllLabels\"},{\"attributes\":{\"data_source\":{\"id\":\"1511\"},\"glyph\":{\"id\":\"1512\"},\"hover_glyph\":null,\"muted_glyph\":null,\"nonselection_glyph\":{\"id\":\"1513\"},\"view\":{\"id\":\"1515\"}},\"id\":\"1514\",\"type\":\"GlyphRenderer\"},{\"attributes\":{},\"id\":\"1521\",\"type\":\"BasicTickFormatter\"},{\"attributes\":{},\"id\":\"1497\",\"type\":\"PanTool\"},{\"attributes\":{},\"id\":\"1522\",\"type\":\"AllLabels\"},{\"attributes\":{},\"id\":\"1498\",\"type\":\"WheelZoomTool\"},{\"attributes\":{},\"id\":\"1525\",\"type\":\"Selection\"},{\"attributes\":{},\"id\":\"1483\",\"type\":\"DataRange1d\"},{\"attributes\":{\"overlay\":{\"id\":\"1503\"}},\"id\":\"1499\",\"type\":\"BoxZoomTool\"},{\"attributes\":{\"data\":{\"x\":[0,1,2,3,4,5,6,7,8,9,10,11,12,13,14,15,16],\"y\":{\"__ndarray__\":\"MzMzMzOXo0AAAAAAgI20QJqZmZmZ16lAzczMzMz0oUAzMzMzM9uaQM3MzMzM1phAzczMzMwqmUBmZmZmZr6aQAAAAAAAAppAzczMzMxemUAAAAAAALCaQAAAAAAAWp1AAAAAAABQnEAAAAAAAKKVQM3MzMzMPpNAZmZmZmbSkkAzMzMzM0eLQA==\",\"dtype\":\"float64\",\"order\":\"little\",\"shape\":[17]}},\"selected\":{\"id\":\"1525\"},\"selection_policy\":{\"id\":\"1526\"}},\"id\":\"1511\",\"type\":\"ColumnDataSource\"},{\"attributes\":{},\"id\":\"1526\",\"type\":\"UnionRenderers\"},{\"attributes\":{},\"id\":\"1500\",\"type\":\"SaveTool\"},{\"attributes\":{\"items\":[{\"id\":\"1528\"},{\"id\":\"1547\"}]},\"id\":\"1527\",\"type\":\"Legend\"},{\"attributes\":{},\"id\":\"1485\",\"type\":\"LinearScale\"},{\"attributes\":{},\"id\":\"1501\",\"type\":\"ResetTool\"},{\"attributes\":{\"label\":{\"value\":\"Unvaccinated\"},\"renderers\":[{\"id\":\"1514\"}]},\"id\":\"1528\",\"type\":\"LegendItem\"},{\"attributes\":{},\"id\":\"1502\",\"type\":\"HelpTool\"},{\"attributes\":{\"data\":{\"x\":[0,1,2,3,4,5,6,7,8,9,10,11,12,13,14,15,16],\"y\":{\"__ndarray__\":\"MzMzMzPDZEAAAAAAAHB8QM3MzMzMrIJAAAAAAABgh0AzMzMzMxOLQAAAAAAARIlAMzMzMzPrjEAzMzMzM6uNQAAAAAAAaI9AzczMzMy6kkAzMzMzM12dQGZmZmZml6JAmpmZmZlUpUAAAAAAAKafQGZmZmZmmKFAAAAAAAA7okCamZmZmV+cQA==\",\"dtype\":\"float64\",\"order\":\"little\",\"shape\":[17]}},\"selected\":{\"id\":\"1545\"},\"selection_policy\":{\"id\":\"1546\"}},\"id\":\"1529\",\"type\":\"ColumnDataSource\"},{\"attributes\":{},\"id\":\"1481\",\"type\":\"DataRange1d\"},{\"attributes\":{\"line_color\":\"green\",\"x\":{\"field\":\"x\"},\"y\":{\"field\":\"y\"}},\"id\":\"1530\",\"type\":\"Line\"},{\"attributes\":{\"active_multi\":null,\"tools\":[{\"id\":\"1497\"},{\"id\":\"1498\"},{\"id\":\"1499\"},{\"id\":\"1500\"},{\"id\":\"1501\"},{\"id\":\"1502\"}]},\"id\":\"1504\",\"type\":\"Toolbar\"},{\"attributes\":{\"line_alpha\":0.1,\"line_color\":\"green\",\"x\":{\"field\":\"x\"},\"y\":{\"field\":\"y\"}},\"id\":\"1531\",\"type\":\"Line\"},{\"attributes\":{},\"id\":\"1546\",\"type\":\"UnionRenderers\"}],\"root_ids\":[\"1480\"]},\"title\":\"Bokeh Application\",\"version\":\"2.3.3\"}};\n  var render_items = [{\"docid\":\"f9eb295e-6974-4fa5-820a-89b207f819d1\",\"root_ids\":[\"1480\"],\"roots\":{\"1480\":\"4797f371-1a3b-472a-ae91-78bc07bee685\"}}];\n  root.Bokeh.embed.embed_items_notebook(docs_json, render_items);\n\n  }\n  if (root.Bokeh !== undefined) {\n    embed_document(root);\n  } else {\n    var attempts = 0;\n    var timer = setInterval(function(root) {\n      if (root.Bokeh !== undefined) {\n        clearInterval(timer);\n        embed_document(root);\n      } else {\n        attempts++;\n        if (attempts > 100) {\n          clearInterval(timer);\n          console.log(\"Bokeh: ERROR: Unable to run BokehJS code because BokehJS library is missing\");\n        }\n      }\n    }, 10, root)\n  }\n})(window);",
      "application/vnd.bokehjs_exec.v0+json": ""
     },
     "metadata": {
      "application/vnd.bokehjs_exec.v0+json": {
       "id": "1480"
      }
     },
     "output_type": "display_data"
    },
    {
     "data": {
      "text/html": [
       "\n",
       "\n",
       "\n",
       "\n",
       "\n",
       "\n",
       "  <div class=\"bk-root\" id=\"7da108b8-0b88-48bd-a687-647b0b2a7975\" data-root-id=\"1665\"></div>\n"
      ]
     },
     "metadata": {},
     "output_type": "display_data"
    },
    {
     "data": {
      "application/javascript": "(function(root) {\n  function embed_document(root) {\n    \n  var docs_json = {\"848bc12f-539f-40da-b899-c31403d87ed0\":{\"defs\":[],\"roots\":{\"references\":[{\"attributes\":{\"below\":[{\"id\":\"1674\"}],\"center\":[{\"id\":\"1677\"},{\"id\":\"1681\"},{\"id\":\"1712\"}],\"height\":400,\"left\":[{\"id\":\"1678\"}],\"renderers\":[{\"id\":\"1699\"},{\"id\":\"1717\"}],\"title\":{\"id\":\"1702\"},\"toolbar\":{\"id\":\"1689\"},\"width\":1000,\"x_range\":{\"id\":\"1666\"},\"x_scale\":{\"id\":\"1670\"},\"y_range\":{\"id\":\"1668\"},\"y_scale\":{\"id\":\"1672\"}},\"id\":\"1665\",\"subtype\":\"Figure\",\"type\":\"Plot\"},{\"attributes\":{},\"id\":\"1670\",\"type\":\"LinearScale\"},{\"attributes\":{\"data_source\":{\"id\":\"1714\"},\"glyph\":{\"id\":\"1715\"},\"hover_glyph\":null,\"muted_glyph\":null,\"nonselection_glyph\":{\"id\":\"1716\"},\"view\":{\"id\":\"1718\"}},\"id\":\"1717\",\"type\":\"GlyphRenderer\"},{\"attributes\":{},\"id\":\"1666\",\"type\":\"DataRange1d\"},{\"attributes\":{\"line_color\":\"green\",\"x\":{\"field\":\"x\"},\"y\":{\"field\":\"y\"}},\"id\":\"1715\",\"type\":\"Line\"},{\"attributes\":{\"source\":{\"id\":\"1714\"}},\"id\":\"1718\",\"type\":\"CDSView\"},{\"attributes\":{},\"id\":\"1683\",\"type\":\"WheelZoomTool\"},{\"attributes\":{},\"id\":\"1668\",\"type\":\"DataRange1d\"},{\"attributes\":{\"data\":{\"x\":[0,1,2,3,4,5,6,7,8,9,10,11,12,13,14,15,16],\"y\":{\"__ndarray__\":\"AAAAAAAAAAAAAAAAAAAAAAAAAAAAAAAAAAAAAAAAAAAAAAAAAAAAAAAAAAAAAAAAZmZmZmYegUAAAAAAACCHQAAAAAAAHJFAmpmZmZmXm0DNzMzMzPqlQJqZmZmZsLJAmpmZmRkNs0CamZmZmRGpQDMzMzMz1qRAMzMzMzNnokDNzMzMzJ6aQA==\",\"dtype\":\"float64\",\"order\":\"little\",\"shape\":[17]}},\"selected\":{\"id\":\"1730\"},\"selection_policy\":{\"id\":\"1731\"}},\"id\":\"1714\",\"type\":\"ColumnDataSource\"},{\"attributes\":{},\"id\":\"1686\",\"type\":\"ResetTool\"},{\"attributes\":{},\"id\":\"1682\",\"type\":\"PanTool\"},{\"attributes\":{\"line_alpha\":0.1,\"line_color\":\"green\",\"x\":{\"field\":\"x\"},\"y\":{\"field\":\"y\"}},\"id\":\"1716\",\"type\":\"Line\"},{\"attributes\":{},\"id\":\"1707\",\"type\":\"AllLabels\"},{\"attributes\":{},\"id\":\"1685\",\"type\":\"SaveTool\"},{\"attributes\":{},\"id\":\"1730\",\"type\":\"Selection\"},{\"attributes\":{\"items\":[{\"id\":\"1713\"},{\"id\":\"1732\"}]},\"id\":\"1712\",\"type\":\"Legend\"},{\"attributes\":{\"overlay\":{\"id\":\"1688\"}},\"id\":\"1684\",\"type\":\"BoxZoomTool\"},{\"attributes\":{},\"id\":\"1731\",\"type\":\"UnionRenderers\"},{\"attributes\":{\"data\":{\"x\":[0,1,2,3,4,5,6,7,8,9,10,11,12,13,14,15,16],\"y\":{\"__ndarray__\":\"MzMzMzOXo0AAAAAAgI20QJqZmZmZ16lAzczMzMz0oUAzMzMzM9uaQM3MzMzM1phAzczMzMwqmUBmZmZmZr6aQAAAAAAAAppAzczMzMxemUAAAAAAALCaQAAAAAAAWp1AAAAAAABQnEAAAAAAAKKVQM3MzMzMPpNAZmZmZmbSkkAzMzMzM0eLQA==\",\"dtype\":\"float64\",\"order\":\"little\",\"shape\":[17]}},\"selected\":{\"id\":\"1710\"},\"selection_policy\":{\"id\":\"1711\"}},\"id\":\"1696\",\"type\":\"ColumnDataSource\"},{\"attributes\":{},\"id\":\"1706\",\"type\":\"BasicTickFormatter\"},{\"attributes\":{\"label\":{\"value\":\"Second dose, at least 6 months ago\"},\"renderers\":[{\"id\":\"1717\"}]},\"id\":\"1732\",\"type\":\"LegendItem\"},{\"attributes\":{\"active_multi\":null,\"tools\":[{\"id\":\"1682\"},{\"id\":\"1683\"},{\"id\":\"1684\"},{\"id\":\"1685\"},{\"id\":\"1686\"},{\"id\":\"1687\"}]},\"id\":\"1689\",\"type\":\"Toolbar\"},{\"attributes\":{\"label\":{\"value\":\"Unvaccinated\"},\"renderers\":[{\"id\":\"1699\"}]},\"id\":\"1713\",\"type\":\"LegendItem\"},{\"attributes\":{\"line_color\":\"blue\",\"x\":{\"field\":\"x\"},\"y\":{\"field\":\"y\"}},\"id\":\"1697\",\"type\":\"Line\"},{\"attributes\":{\"formatter\":{\"id\":\"1703\"},\"major_label_policy\":{\"id\":\"1704\"},\"ticker\":{\"id\":\"1679\"}},\"id\":\"1678\",\"type\":\"LinearAxis\"},{\"attributes\":{},\"id\":\"1704\",\"type\":\"AllLabels\"},{\"attributes\":{\"data_source\":{\"id\":\"1696\"},\"glyph\":{\"id\":\"1697\"},\"hover_glyph\":null,\"muted_glyph\":null,\"nonselection_glyph\":{\"id\":\"1698\"},\"view\":{\"id\":\"1700\"}},\"id\":\"1699\",\"type\":\"GlyphRenderer\"},{\"attributes\":{},\"id\":\"1687\",\"type\":\"HelpTool\"},{\"attributes\":{},\"id\":\"1710\",\"type\":\"Selection\"},{\"attributes\":{\"axis\":{\"id\":\"1678\"},\"dimension\":1,\"ticker\":null},\"id\":\"1681\",\"type\":\"Grid\"},{\"attributes\":{\"bottom_units\":\"screen\",\"fill_alpha\":0.5,\"fill_color\":\"lightgrey\",\"left_units\":\"screen\",\"level\":\"overlay\",\"line_alpha\":1.0,\"line_color\":\"black\",\"line_dash\":[4,4],\"line_width\":2,\"right_units\":\"screen\",\"syncable\":false,\"top_units\":\"screen\"},\"id\":\"1688\",\"type\":\"BoxAnnotation\"},{\"attributes\":{},\"id\":\"1711\",\"type\":\"UnionRenderers\"},{\"attributes\":{},\"id\":\"1679\",\"type\":\"BasicTicker\"},{\"attributes\":{\"source\":{\"id\":\"1696\"}},\"id\":\"1700\",\"type\":\"CDSView\"},{\"attributes\":{},\"id\":\"1672\",\"type\":\"LinearScale\"},{\"attributes\":{\"axis\":{\"id\":\"1674\"},\"ticker\":null},\"id\":\"1677\",\"type\":\"Grid\"},{\"attributes\":{},\"id\":\"1702\",\"type\":\"Title\"},{\"attributes\":{},\"id\":\"1703\",\"type\":\"BasicTickFormatter\"},{\"attributes\":{},\"id\":\"1675\",\"type\":\"BasicTicker\"},{\"attributes\":{\"line_alpha\":0.1,\"line_color\":\"blue\",\"x\":{\"field\":\"x\"},\"y\":{\"field\":\"y\"}},\"id\":\"1698\",\"type\":\"Line\"},{\"attributes\":{\"formatter\":{\"id\":\"1706\"},\"major_label_policy\":{\"id\":\"1707\"},\"ticker\":{\"id\":\"1675\"}},\"id\":\"1674\",\"type\":\"LinearAxis\"}],\"root_ids\":[\"1665\"]},\"title\":\"Bokeh Application\",\"version\":\"2.3.3\"}};\n  var render_items = [{\"docid\":\"848bc12f-539f-40da-b899-c31403d87ed0\",\"root_ids\":[\"1665\"],\"roots\":{\"1665\":\"7da108b8-0b88-48bd-a687-647b0b2a7975\"}}];\n  root.Bokeh.embed.embed_items_notebook(docs_json, render_items);\n\n  }\n  if (root.Bokeh !== undefined) {\n    embed_document(root);\n  } else {\n    var attempts = 0;\n    var timer = setInterval(function(root) {\n      if (root.Bokeh !== undefined) {\n        clearInterval(timer);\n        embed_document(root);\n      } else {\n        attempts++;\n        if (attempts > 100) {\n          clearInterval(timer);\n          console.log(\"Bokeh: ERROR: Unable to run BokehJS code because BokehJS library is missing\");\n        }\n      }\n    }, 10, root)\n  }\n})(window);",
      "application/vnd.bokehjs_exec.v0+json": ""
     },
     "metadata": {
      "application/vnd.bokehjs_exec.v0+json": {
       "id": "1665"
      }
     },
     "output_type": "display_data"
    },
    {
     "data": {
      "text/html": [
       "\n",
       "\n",
       "\n",
       "\n",
       "\n",
       "\n",
       "  <div class=\"bk-root\" id=\"c62af195-21ee-40bb-8fbd-d8619e4d585c\" data-root-id=\"1863\"></div>\n"
      ]
     },
     "metadata": {},
     "output_type": "display_data"
    },
    {
     "data": {
      "application/javascript": "(function(root) {\n  function embed_document(root) {\n    \n  var docs_json = {\"4926dec1-b661-4161-9e81-496930e1f574\":{\"defs\":[],\"roots\":{\"references\":[{\"attributes\":{\"below\":[{\"id\":\"1872\"}],\"center\":[{\"id\":\"1875\"},{\"id\":\"1879\"},{\"id\":\"1910\"}],\"height\":400,\"left\":[{\"id\":\"1876\"}],\"renderers\":[{\"id\":\"1897\"},{\"id\":\"1915\"}],\"title\":{\"id\":\"1900\"},\"toolbar\":{\"id\":\"1887\"},\"width\":1000,\"x_range\":{\"id\":\"1864\"},\"x_scale\":{\"id\":\"1868\"},\"y_range\":{\"id\":\"1866\"},\"y_scale\":{\"id\":\"1870\"}},\"id\":\"1863\",\"subtype\":\"Figure\",\"type\":\"Plot\"},{\"attributes\":{},\"id\":\"1901\",\"type\":\"BasicTickFormatter\"},{\"attributes\":{},\"id\":\"1870\",\"type\":\"LinearScale\"},{\"attributes\":{\"axis\":{\"id\":\"1872\"},\"ticker\":null},\"id\":\"1875\",\"type\":\"Grid\"},{\"attributes\":{},\"id\":\"1902\",\"type\":\"AllLabels\"},{\"attributes\":{},\"id\":\"1873\",\"type\":\"BasicTicker\"},{\"attributes\":{},\"id\":\"1904\",\"type\":\"BasicTickFormatter\"},{\"attributes\":{\"line_alpha\":0.1,\"line_color\":\"blue\",\"x\":{\"field\":\"x\"},\"y\":{\"field\":\"y\"}},\"id\":\"1896\",\"type\":\"Line\"},{\"attributes\":{\"line_color\":\"blue\",\"x\":{\"field\":\"x\"},\"y\":{\"field\":\"y\"}},\"id\":\"1895\",\"type\":\"Line\"},{\"attributes\":{\"formatter\":{\"id\":\"1904\"},\"major_label_policy\":{\"id\":\"1905\"},\"ticker\":{\"id\":\"1873\"}},\"id\":\"1872\",\"type\":\"LinearAxis\"},{\"attributes\":{},\"id\":\"1905\",\"type\":\"AllLabels\"},{\"attributes\":{},\"id\":\"1908\",\"type\":\"Selection\"},{\"attributes\":{},\"id\":\"1868\",\"type\":\"LinearScale\"},{\"attributes\":{},\"id\":\"1909\",\"type\":\"UnionRenderers\"},{\"attributes\":{},\"id\":\"1864\",\"type\":\"DataRange1d\"},{\"attributes\":{\"items\":[{\"id\":\"1911\"},{\"id\":\"1930\"}]},\"id\":\"1910\",\"type\":\"Legend\"},{\"attributes\":{},\"id\":\"1881\",\"type\":\"WheelZoomTool\"},{\"attributes\":{\"label\":{\"value\":\"Unvaccinated\"},\"renderers\":[{\"id\":\"1897\"}]},\"id\":\"1911\",\"type\":\"LegendItem\"},{\"attributes\":{},\"id\":\"1900\",\"type\":\"Title\"},{\"attributes\":{},\"id\":\"1866\",\"type\":\"DataRange1d\"},{\"attributes\":{\"source\":{\"id\":\"1894\"}},\"id\":\"1898\",\"type\":\"CDSView\"},{\"attributes\":{\"data\":{\"x\":[0,1,2,3,4,5,6,7,8,9,10,11,12,13,14,15,16],\"y\":{\"__ndarray__\":\"AAAAAAAAAAAAAAAAAAAAAAAAAAAAAAAAAAAAAAAAAAAAAAAAAAAAAAAAAAAAAAAAAAAAAAAAAAAAAAAAAAAAAM3MzMzM3GtAMzMzMzNjeUBmZmZmZmaCQGZmZmZmPpFAzczMzMzOm0CamZmZmbWeQDMzMzMzjZ5AAAAAAADKl0AAAAAAABCgQA==\",\"dtype\":\"float64\",\"order\":\"little\",\"shape\":[17]}},\"selected\":{\"id\":\"1928\"},\"selection_policy\":{\"id\":\"1929\"}},\"id\":\"1912\",\"type\":\"ColumnDataSource\"},{\"attributes\":{},\"id\":\"1880\",\"type\":\"PanTool\"},{\"attributes\":{},\"id\":\"1884\",\"type\":\"ResetTool\"},{\"attributes\":{\"data_source\":{\"id\":\"1912\"},\"glyph\":{\"id\":\"1913\"},\"hover_glyph\":null,\"muted_glyph\":null,\"nonselection_glyph\":{\"id\":\"1914\"},\"view\":{\"id\":\"1916\"}},\"id\":\"1915\",\"type\":\"GlyphRenderer\"},{\"attributes\":{\"data_source\":{\"id\":\"1894\"},\"glyph\":{\"id\":\"1895\"},\"hover_glyph\":null,\"muted_glyph\":null,\"nonselection_glyph\":{\"id\":\"1896\"},\"view\":{\"id\":\"1898\"}},\"id\":\"1897\",\"type\":\"GlyphRenderer\"},{\"attributes\":{\"line_color\":\"green\",\"x\":{\"field\":\"x\"},\"y\":{\"field\":\"y\"}},\"id\":\"1913\",\"type\":\"Line\"},{\"attributes\":{},\"id\":\"1883\",\"type\":\"SaveTool\"},{\"attributes\":{},\"id\":\"1928\",\"type\":\"Selection\"},{\"attributes\":{\"source\":{\"id\":\"1912\"}},\"id\":\"1916\",\"type\":\"CDSView\"},{\"attributes\":{\"overlay\":{\"id\":\"1886\"}},\"id\":\"1882\",\"type\":\"BoxZoomTool\"},{\"attributes\":{\"data\":{\"x\":[0,1,2,3,4,5,6,7,8,9,10,11,12,13,14,15,16],\"y\":{\"__ndarray__\":\"MzMzMzOXo0AAAAAAgI20QJqZmZmZ16lAzczMzMz0oUAzMzMzM9uaQM3MzMzM1phAzczMzMwqmUBmZmZmZr6aQAAAAAAAAppAzczMzMxemUAAAAAAALCaQAAAAAAAWp1AAAAAAABQnEAAAAAAAKKVQM3MzMzMPpNAZmZmZmbSkkAzMzMzM0eLQA==\",\"dtype\":\"float64\",\"order\":\"little\",\"shape\":[17]}},\"selected\":{\"id\":\"1908\"},\"selection_policy\":{\"id\":\"1909\"}},\"id\":\"1894\",\"type\":\"ColumnDataSource\"},{\"attributes\":{\"bottom_units\":\"screen\",\"fill_alpha\":0.5,\"fill_color\":\"lightgrey\",\"left_units\":\"screen\",\"level\":\"overlay\",\"line_alpha\":1.0,\"line_color\":\"black\",\"line_dash\":[4,4],\"line_width\":2,\"right_units\":\"screen\",\"syncable\":false,\"top_units\":\"screen\"},\"id\":\"1886\",\"type\":\"BoxAnnotation\"},{\"attributes\":{\"active_multi\":null,\"tools\":[{\"id\":\"1880\"},{\"id\":\"1881\"},{\"id\":\"1882\"},{\"id\":\"1883\"},{\"id\":\"1884\"},{\"id\":\"1885\"}]},\"id\":\"1887\",\"type\":\"Toolbar\"},{\"attributes\":{\"line_alpha\":0.1,\"line_color\":\"green\",\"x\":{\"field\":\"x\"},\"y\":{\"field\":\"y\"}},\"id\":\"1914\",\"type\":\"Line\"},{\"attributes\":{},\"id\":\"1885\",\"type\":\"HelpTool\"},{\"attributes\":{\"formatter\":{\"id\":\"1901\"},\"major_label_policy\":{\"id\":\"1902\"},\"ticker\":{\"id\":\"1877\"}},\"id\":\"1876\",\"type\":\"LinearAxis\"},{\"attributes\":{},\"id\":\"1929\",\"type\":\"UnionRenderers\"},{\"attributes\":{\"label\":{\"value\":\"Third dose or booster, less than 21 days ago\"},\"renderers\":[{\"id\":\"1915\"}]},\"id\":\"1930\",\"type\":\"LegendItem\"},{\"attributes\":{\"axis\":{\"id\":\"1876\"},\"dimension\":1,\"ticker\":null},\"id\":\"1879\",\"type\":\"Grid\"},{\"attributes\":{},\"id\":\"1877\",\"type\":\"BasicTicker\"}],\"root_ids\":[\"1863\"]},\"title\":\"Bokeh Application\",\"version\":\"2.3.3\"}};\n  var render_items = [{\"docid\":\"4926dec1-b661-4161-9e81-496930e1f574\",\"root_ids\":[\"1863\"],\"roots\":{\"1863\":\"c62af195-21ee-40bb-8fbd-d8619e4d585c\"}}];\n  root.Bokeh.embed.embed_items_notebook(docs_json, render_items);\n\n  }\n  if (root.Bokeh !== undefined) {\n    embed_document(root);\n  } else {\n    var attempts = 0;\n    var timer = setInterval(function(root) {\n      if (root.Bokeh !== undefined) {\n        clearInterval(timer);\n        embed_document(root);\n      } else {\n        attempts++;\n        if (attempts > 100) {\n          clearInterval(timer);\n          console.log(\"Bokeh: ERROR: Unable to run BokehJS code because BokehJS library is missing\");\n        }\n      }\n    }, 10, root)\n  }\n})(window);",
      "application/vnd.bokehjs_exec.v0+json": ""
     },
     "metadata": {
      "application/vnd.bokehjs_exec.v0+json": {
       "id": "1863"
      }
     },
     "output_type": "display_data"
    },
    {
     "data": {
      "text/html": [
       "\n",
       "\n",
       "\n",
       "\n",
       "\n",
       "\n",
       "  <div class=\"bk-root\" id=\"5bd930a1-3a1a-487a-a528-7407d87c1f06\" data-root-id=\"2074\"></div>\n"
      ]
     },
     "metadata": {},
     "output_type": "display_data"
    },
    {
     "data": {
      "application/javascript": "(function(root) {\n  function embed_document(root) {\n    \n  var docs_json = {\"b557a6e9-af4c-409c-8d18-267dded0f554\":{\"defs\":[],\"roots\":{\"references\":[{\"attributes\":{\"below\":[{\"id\":\"2083\"}],\"center\":[{\"id\":\"2086\"},{\"id\":\"2090\"},{\"id\":\"2121\"}],\"height\":400,\"left\":[{\"id\":\"2087\"}],\"renderers\":[{\"id\":\"2108\"},{\"id\":\"2126\"}],\"title\":{\"id\":\"2111\"},\"toolbar\":{\"id\":\"2098\"},\"width\":1000,\"x_range\":{\"id\":\"2075\"},\"x_scale\":{\"id\":\"2079\"},\"y_range\":{\"id\":\"2077\"},\"y_scale\":{\"id\":\"2081\"}},\"id\":\"2074\",\"subtype\":\"Figure\",\"type\":\"Plot\"},{\"attributes\":{},\"id\":\"2113\",\"type\":\"AllLabels\"},{\"attributes\":{},\"id\":\"2112\",\"type\":\"BasicTickFormatter\"},{\"attributes\":{},\"id\":\"2092\",\"type\":\"WheelZoomTool\"},{\"attributes\":{\"data\":{\"x\":[0,1,2,3,4,5,6,7,8,9,10,11,12,13,14,15,16],\"y\":{\"__ndarray__\":\"MzMzMzOXo0AAAAAAgI20QJqZmZmZ16lAzczMzMz0oUAzMzMzM9uaQM3MzMzM1phAzczMzMwqmUBmZmZmZr6aQAAAAAAAAppAzczMzMxemUAAAAAAALCaQAAAAAAAWp1AAAAAAABQnEAAAAAAAKKVQM3MzMzMPpNAZmZmZmbSkkAzMzMzM0eLQA==\",\"dtype\":\"float64\",\"order\":\"little\",\"shape\":[17]}},\"selected\":{\"id\":\"2119\"},\"selection_policy\":{\"id\":\"2120\"}},\"id\":\"2105\",\"type\":\"ColumnDataSource\"},{\"attributes\":{},\"id\":\"2096\",\"type\":\"HelpTool\"},{\"attributes\":{\"overlay\":{\"id\":\"2097\"}},\"id\":\"2093\",\"type\":\"BoxZoomTool\"},{\"attributes\":{\"axis\":{\"id\":\"2087\"},\"dimension\":1,\"ticker\":null},\"id\":\"2090\",\"type\":\"Grid\"},{\"attributes\":{},\"id\":\"2095\",\"type\":\"ResetTool\"},{\"attributes\":{\"line_color\":\"green\",\"x\":{\"field\":\"x\"},\"y\":{\"field\":\"y\"}},\"id\":\"2124\",\"type\":\"Line\"},{\"attributes\":{},\"id\":\"2091\",\"type\":\"PanTool\"},{\"attributes\":{\"line_color\":\"blue\",\"x\":{\"field\":\"x\"},\"y\":{\"field\":\"y\"}},\"id\":\"2106\",\"type\":\"Line\"},{\"attributes\":{},\"id\":\"2119\",\"type\":\"Selection\"},{\"attributes\":{},\"id\":\"2088\",\"type\":\"BasicTicker\"},{\"attributes\":{},\"id\":\"2115\",\"type\":\"BasicTickFormatter\"},{\"attributes\":{},\"id\":\"2139\",\"type\":\"Selection\"},{\"attributes\":{},\"id\":\"2116\",\"type\":\"AllLabels\"},{\"attributes\":{\"formatter\":{\"id\":\"2112\"},\"major_label_policy\":{\"id\":\"2113\"},\"ticker\":{\"id\":\"2088\"}},\"id\":\"2087\",\"type\":\"LinearAxis\"},{\"attributes\":{\"active_multi\":null,\"tools\":[{\"id\":\"2091\"},{\"id\":\"2092\"},{\"id\":\"2093\"},{\"id\":\"2094\"},{\"id\":\"2095\"},{\"id\":\"2096\"}]},\"id\":\"2098\",\"type\":\"Toolbar\"},{\"attributes\":{\"axis\":{\"id\":\"2083\"},\"ticker\":null},\"id\":\"2086\",\"type\":\"Grid\"},{\"attributes\":{\"data_source\":{\"id\":\"2123\"},\"glyph\":{\"id\":\"2124\"},\"hover_glyph\":null,\"muted_glyph\":null,\"nonselection_glyph\":{\"id\":\"2125\"},\"view\":{\"id\":\"2127\"}},\"id\":\"2126\",\"type\":\"GlyphRenderer\"},{\"attributes\":{},\"id\":\"2084\",\"type\":\"BasicTicker\"},{\"attributes\":{\"label\":{\"value\":\"Third dose or booster, at least 21 days ago\"},\"renderers\":[{\"id\":\"2126\"}]},\"id\":\"2141\",\"type\":\"LegendItem\"},{\"attributes\":{\"formatter\":{\"id\":\"2115\"},\"major_label_policy\":{\"id\":\"2116\"},\"ticker\":{\"id\":\"2084\"}},\"id\":\"2083\",\"type\":\"LinearAxis\"},{\"attributes\":{},\"id\":\"2120\",\"type\":\"UnionRenderers\"},{\"attributes\":{\"source\":{\"id\":\"2123\"}},\"id\":\"2127\",\"type\":\"CDSView\"},{\"attributes\":{\"items\":[{\"id\":\"2122\"},{\"id\":\"2141\"}]},\"id\":\"2121\",\"type\":\"Legend\"},{\"attributes\":{},\"id\":\"2081\",\"type\":\"LinearScale\"},{\"attributes\":{\"label\":{\"value\":\"Unvaccinated\"},\"renderers\":[{\"id\":\"2108\"}]},\"id\":\"2122\",\"type\":\"LegendItem\"},{\"attributes\":{\"bottom_units\":\"screen\",\"fill_alpha\":0.5,\"fill_color\":\"lightgrey\",\"left_units\":\"screen\",\"level\":\"overlay\",\"line_alpha\":1.0,\"line_color\":\"black\",\"line_dash\":[4,4],\"line_width\":2,\"right_units\":\"screen\",\"syncable\":false,\"top_units\":\"screen\"},\"id\":\"2097\",\"type\":\"BoxAnnotation\"},{\"attributes\":{},\"id\":\"2079\",\"type\":\"LinearScale\"},{\"attributes\":{\"data\":{\"x\":[0,1,2,3,4,5,6,7,8,9,10,11,12,13,14,15,16],\"y\":{\"__ndarray__\":\"AAAAAAAAAAAAAAAAAAAAAAAAAAAAAAAAAAAAAAAAAAAAAAAAAAAAAAAAAAAAAAAAAAAAAAAAAAAAAAAAAAAAAAAAAAAAAAAAzczMzMzEf0BmZmZmZm6GQJqZmZmZpYpAMzMzMzM/jUDNzMzMzOSMQM3MzMzMoI5AzczMzMwwjkAAAAAAAOiIQA==\",\"dtype\":\"float64\",\"order\":\"little\",\"shape\":[17]}},\"selected\":{\"id\":\"2139\"},\"selection_policy\":{\"id\":\"2140\"}},\"id\":\"2123\",\"type\":\"ColumnDataSource\"},{\"attributes\":{},\"id\":\"2077\",\"type\":\"DataRange1d\"},{\"attributes\":{\"line_alpha\":0.1,\"line_color\":\"green\",\"x\":{\"field\":\"x\"},\"y\":{\"field\":\"y\"}},\"id\":\"2125\",\"type\":\"Line\"},{\"attributes\":{},\"id\":\"2075\",\"type\":\"DataRange1d\"},{\"attributes\":{},\"id\":\"2140\",\"type\":\"UnionRenderers\"},{\"attributes\":{\"data_source\":{\"id\":\"2105\"},\"glyph\":{\"id\":\"2106\"},\"hover_glyph\":null,\"muted_glyph\":null,\"nonselection_glyph\":{\"id\":\"2107\"},\"view\":{\"id\":\"2109\"}},\"id\":\"2108\",\"type\":\"GlyphRenderer\"},{\"attributes\":{\"line_alpha\":0.1,\"line_color\":\"blue\",\"x\":{\"field\":\"x\"},\"y\":{\"field\":\"y\"}},\"id\":\"2107\",\"type\":\"Line\"},{\"attributes\":{\"source\":{\"id\":\"2105\"}},\"id\":\"2109\",\"type\":\"CDSView\"},{\"attributes\":{},\"id\":\"2094\",\"type\":\"SaveTool\"},{\"attributes\":{},\"id\":\"2111\",\"type\":\"Title\"}],\"root_ids\":[\"2074\"]},\"title\":\"Bokeh Application\",\"version\":\"2.3.3\"}};\n  var render_items = [{\"docid\":\"b557a6e9-af4c-409c-8d18-267dded0f554\",\"root_ids\":[\"2074\"],\"roots\":{\"2074\":\"5bd930a1-3a1a-487a-a528-7407d87c1f06\"}}];\n  root.Bokeh.embed.embed_items_notebook(docs_json, render_items);\n\n  }\n  if (root.Bokeh !== undefined) {\n    embed_document(root);\n  } else {\n    var attempts = 0;\n    var timer = setInterval(function(root) {\n      if (root.Bokeh !== undefined) {\n        clearInterval(timer);\n        embed_document(root);\n      } else {\n        attempts++;\n        if (attempts > 100) {\n          clearInterval(timer);\n          console.log(\"Bokeh: ERROR: Unable to run BokehJS code because BokehJS library is missing\");\n        }\n      }\n    }, 10, root)\n  }\n})(window);",
      "application/vnd.bokehjs_exec.v0+json": ""
     },
     "metadata": {
      "application/vnd.bokehjs_exec.v0+json": {
       "id": "2074"
      }
     },
     "output_type": "display_data"
    },
    {
     "data": {
      "text/html": [
       "\n",
       "\n",
       "\n",
       "\n",
       "\n",
       "\n",
       "  <div class=\"bk-root\" id=\"3294c58f-1190-4de1-8619-f4cf0175f72a\" data-root-id=\"2298\"></div>\n"
      ]
     },
     "metadata": {},
     "output_type": "display_data"
    },
    {
     "data": {
      "application/javascript": "(function(root) {\n  function embed_document(root) {\n    \n  var docs_json = {\"a6225af8-6e36-47e5-a7b0-5d906089c20c\":{\"defs\":[],\"roots\":{\"references\":[{\"attributes\":{\"below\":[{\"id\":\"2307\"}],\"center\":[{\"id\":\"2310\"},{\"id\":\"2314\"},{\"id\":\"2345\"}],\"height\":400,\"left\":[{\"id\":\"2311\"}],\"renderers\":[{\"id\":\"2332\"},{\"id\":\"2350\"}],\"title\":{\"id\":\"2335\"},\"toolbar\":{\"id\":\"2322\"},\"width\":1000,\"x_range\":{\"id\":\"2299\"},\"x_scale\":{\"id\":\"2303\"},\"y_range\":{\"id\":\"2301\"},\"y_scale\":{\"id\":\"2305\"}},\"id\":\"2298\",\"subtype\":\"Figure\",\"type\":\"Plot\"},{\"attributes\":{\"source\":{\"id\":\"2347\"}},\"id\":\"2351\",\"type\":\"CDSView\"},{\"attributes\":{\"data_source\":{\"id\":\"2347\"},\"glyph\":{\"id\":\"2348\"},\"hover_glyph\":null,\"muted_glyph\":null,\"nonselection_glyph\":{\"id\":\"2349\"},\"view\":{\"id\":\"2351\"}},\"id\":\"2350\",\"type\":\"GlyphRenderer\"},{\"attributes\":{},\"id\":\"2305\",\"type\":\"LinearScale\"},{\"attributes\":{},\"id\":\"2363\",\"type\":\"Selection\"},{\"attributes\":{\"formatter\":{\"id\":\"2339\"},\"major_label_policy\":{\"id\":\"2340\"},\"ticker\":{\"id\":\"2308\"}},\"id\":\"2307\",\"type\":\"LinearAxis\"},{\"attributes\":{\"bottom_units\":\"screen\",\"fill_alpha\":0.5,\"fill_color\":\"lightgrey\",\"left_units\":\"screen\",\"level\":\"overlay\",\"line_alpha\":1.0,\"line_color\":\"black\",\"line_dash\":[4,4],\"line_width\":2,\"right_units\":\"screen\",\"syncable\":false,\"top_units\":\"screen\"},\"id\":\"2321\",\"type\":\"BoxAnnotation\"},{\"attributes\":{},\"id\":\"2308\",\"type\":\"BasicTicker\"},{\"attributes\":{\"source\":{\"id\":\"2329\"}},\"id\":\"2333\",\"type\":\"CDSView\"},{\"attributes\":{},\"id\":\"2299\",\"type\":\"DataRange1d\"},{\"attributes\":{},\"id\":\"2335\",\"type\":\"Title\"},{\"attributes\":{\"axis\":{\"id\":\"2307\"},\"ticker\":null},\"id\":\"2310\",\"type\":\"Grid\"},{\"attributes\":{\"data\":{\"x\":[0,1,2,3,4,5,6,7,8,9,10,11,12,13,14,15,16],\"y\":{\"__ndarray__\":\"MzMzMzOXo0AAAAAAgI20QJqZmZmZ16lAzczMzMz0oUAzMzMzM9uaQM3MzMzM1phAzczMzMwqmUBmZmZmZr6aQAAAAAAAAppAzczMzMxemUAAAAAAALCaQAAAAAAAWp1AAAAAAABQnEAAAAAAAKKVQM3MzMzMPpNAZmZmZmbSkkAzMzMzM0eLQA==\",\"dtype\":\"float64\",\"order\":\"little\",\"shape\":[17]}},\"selected\":{\"id\":\"2343\"},\"selection_policy\":{\"id\":\"2344\"}},\"id\":\"2329\",\"type\":\"ColumnDataSource\"},{\"attributes\":{\"formatter\":{\"id\":\"2336\"},\"major_label_policy\":{\"id\":\"2337\"},\"ticker\":{\"id\":\"2312\"}},\"id\":\"2311\",\"type\":\"LinearAxis\"},{\"attributes\":{\"active_multi\":null,\"tools\":[{\"id\":\"2315\"},{\"id\":\"2316\"},{\"id\":\"2317\"},{\"id\":\"2318\"},{\"id\":\"2319\"},{\"id\":\"2320\"}]},\"id\":\"2322\",\"type\":\"Toolbar\"},{\"attributes\":{\"line_alpha\":0.1,\"line_color\":\"blue\",\"x\":{\"field\":\"x\"},\"y\":{\"field\":\"y\"}},\"id\":\"2331\",\"type\":\"Line\"},{\"attributes\":{},\"id\":\"2312\",\"type\":\"BasicTicker\"},{\"attributes\":{},\"id\":\"2336\",\"type\":\"BasicTickFormatter\"},{\"attributes\":{\"axis\":{\"id\":\"2311\"},\"dimension\":1,\"ticker\":null},\"id\":\"2314\",\"type\":\"Grid\"},{\"attributes\":{},\"id\":\"2337\",\"type\":\"AllLabels\"},{\"attributes\":{\"line_color\":\"blue\",\"x\":{\"field\":\"x\"},\"y\":{\"field\":\"y\"}},\"id\":\"2330\",\"type\":\"Line\"},{\"attributes\":{},\"id\":\"2339\",\"type\":\"BasicTickFormatter\"},{\"attributes\":{\"data_source\":{\"id\":\"2329\"},\"glyph\":{\"id\":\"2330\"},\"hover_glyph\":null,\"muted_glyph\":null,\"nonselection_glyph\":{\"id\":\"2331\"},\"view\":{\"id\":\"2333\"}},\"id\":\"2332\",\"type\":\"GlyphRenderer\"},{\"attributes\":{},\"id\":\"2301\",\"type\":\"DataRange1d\"},{\"attributes\":{},\"id\":\"2340\",\"type\":\"AllLabels\"},{\"attributes\":{},\"id\":\"2315\",\"type\":\"PanTool\"},{\"attributes\":{\"line_alpha\":0.1,\"line_color\":\"green\",\"x\":{\"field\":\"x\"},\"y\":{\"field\":\"y\"}},\"id\":\"2349\",\"type\":\"Line\"},{\"attributes\":{},\"id\":\"2364\",\"type\":\"UnionRenderers\"},{\"attributes\":{},\"id\":\"2316\",\"type\":\"WheelZoomTool\"},{\"attributes\":{\"label\":{\"value\":\"Ever vaccinated\"},\"renderers\":[{\"id\":\"2350\"}]},\"id\":\"2365\",\"type\":\"LegendItem\"},{\"attributes\":{\"overlay\":{\"id\":\"2321\"}},\"id\":\"2317\",\"type\":\"BoxZoomTool\"},{\"attributes\":{\"line_color\":\"green\",\"x\":{\"field\":\"x\"},\"y\":{\"field\":\"y\"}},\"id\":\"2348\",\"type\":\"Line\"},{\"attributes\":{},\"id\":\"2318\",\"type\":\"SaveTool\"},{\"attributes\":{},\"id\":\"2319\",\"type\":\"ResetTool\"},{\"attributes\":{},\"id\":\"2320\",\"type\":\"HelpTool\"},{\"attributes\":{\"data\":{\"x\":[0,1,2,3,4,5,6,7,8,9,10,11,12,13,14,15,16],\"y\":{\"__ndarray__\":\"MzMzMzOPk0CamZmZmU2MQJqZmZmZLYxAZmZmZmYii0DNzMzMzCyMQDMzMzMzd4tAzczMzMyEjUAAAAAAAHSNQGZmZmZm8o5AzczMzMxakECamZmZmceQQM3MzMzMmpFAAAAAAADykECamZmZmb2PQM3MzMzMBI9AZmZmZmaGj0DNzMzMzLSJQA==\",\"dtype\":\"float64\",\"order\":\"little\",\"shape\":[17]}},\"selected\":{\"id\":\"2363\"},\"selection_policy\":{\"id\":\"2364\"}},\"id\":\"2347\",\"type\":\"ColumnDataSource\"},{\"attributes\":{\"label\":{\"value\":\"Unvaccinated\"},\"renderers\":[{\"id\":\"2332\"}]},\"id\":\"2346\",\"type\":\"LegendItem\"},{\"attributes\":{\"items\":[{\"id\":\"2346\"},{\"id\":\"2365\"}]},\"id\":\"2345\",\"type\":\"Legend\"},{\"attributes\":{},\"id\":\"2343\",\"type\":\"Selection\"},{\"attributes\":{},\"id\":\"2303\",\"type\":\"LinearScale\"},{\"attributes\":{},\"id\":\"2344\",\"type\":\"UnionRenderers\"}],\"root_ids\":[\"2298\"]},\"title\":\"Bokeh Application\",\"version\":\"2.3.3\"}};\n  var render_items = [{\"docid\":\"a6225af8-6e36-47e5-a7b0-5d906089c20c\",\"root_ids\":[\"2298\"],\"roots\":{\"2298\":\"3294c58f-1190-4de1-8619-f4cf0175f72a\"}}];\n  root.Bokeh.embed.embed_items_notebook(docs_json, render_items);\n\n  }\n  if (root.Bokeh !== undefined) {\n    embed_document(root);\n  } else {\n    var attempts = 0;\n    var timer = setInterval(function(root) {\n      if (root.Bokeh !== undefined) {\n        clearInterval(timer);\n        embed_document(root);\n      } else {\n        attempts++;\n        if (attempts > 100) {\n          clearInterval(timer);\n          console.log(\"Bokeh: ERROR: Unable to run BokehJS code because BokehJS library is missing\");\n        }\n      }\n    }, 10, root)\n  }\n})(window);",
      "application/vnd.bokehjs_exec.v0+json": ""
     },
     "metadata": {
      "application/vnd.bokehjs_exec.v0+json": {
       "id": "2298"
      }
     },
     "output_type": "display_data"
    },
    {
     "data": {
      "text/html": [
       "\n",
       "\n",
       "\n",
       "\n",
       "\n",
       "\n",
       "  <div class=\"bk-root\" id=\"42d53bd7-3367-4716-aec1-7abb134c0e08\" data-root-id=\"2535\"></div>\n"
      ]
     },
     "metadata": {},
     "output_type": "display_data"
    },
    {
     "data": {
      "application/javascript": "(function(root) {\n  function embed_document(root) {\n    \n  var docs_json = {\"cd7ae03f-53e5-40b7-a357-94964368098c\":{\"defs\":[],\"roots\":{\"references\":[{\"attributes\":{\"below\":[{\"id\":\"2544\"}],\"center\":[{\"id\":\"2547\"},{\"id\":\"2551\"},{\"id\":\"2582\"}],\"height\":400,\"left\":[{\"id\":\"2548\"}],\"renderers\":[{\"id\":\"2569\"},{\"id\":\"2587\"}],\"title\":{\"id\":\"2572\"},\"toolbar\":{\"id\":\"2559\"},\"width\":1000,\"x_range\":{\"id\":\"2536\"},\"x_scale\":{\"id\":\"2540\"},\"y_range\":{\"id\":\"2538\"},\"y_scale\":{\"id\":\"2542\"}},\"id\":\"2535\",\"subtype\":\"Figure\",\"type\":\"Plot\"},{\"attributes\":{},\"id\":\"2540\",\"type\":\"LinearScale\"},{\"attributes\":{},\"id\":\"2572\",\"type\":\"Title\"},{\"attributes\":{},\"id\":\"2542\",\"type\":\"LinearScale\"},{\"attributes\":{},\"id\":\"2580\",\"type\":\"Selection\"},{\"attributes\":{\"bottom_units\":\"screen\",\"fill_alpha\":0.5,\"fill_color\":\"lightgrey\",\"left_units\":\"screen\",\"level\":\"overlay\",\"line_alpha\":1.0,\"line_color\":\"black\",\"line_dash\":[4,4],\"line_width\":2,\"right_units\":\"screen\",\"syncable\":false,\"top_units\":\"screen\"},\"id\":\"2558\",\"type\":\"BoxAnnotation\"},{\"attributes\":{\"formatter\":{\"id\":\"2576\"},\"major_label_policy\":{\"id\":\"2577\"},\"ticker\":{\"id\":\"2545\"}},\"id\":\"2544\",\"type\":\"LinearAxis\"},{\"attributes\":{},\"id\":\"2581\",\"type\":\"UnionRenderers\"},{\"attributes\":{},\"id\":\"2545\",\"type\":\"BasicTicker\"},{\"attributes\":{\"items\":[{\"id\":\"2583\"},{\"id\":\"2602\"}]},\"id\":\"2582\",\"type\":\"Legend\"},{\"attributes\":{\"axis\":{\"id\":\"2544\"},\"ticker\":null},\"id\":\"2547\",\"type\":\"Grid\"},{\"attributes\":{\"label\":{\"value\":\"Unvaccinated\"},\"renderers\":[{\"id\":\"2569\"}]},\"id\":\"2583\",\"type\":\"LegendItem\"},{\"attributes\":{\"formatter\":{\"id\":\"2573\"},\"major_label_policy\":{\"id\":\"2574\"},\"ticker\":{\"id\":\"2549\"}},\"id\":\"2548\",\"type\":\"LinearAxis\"},{\"attributes\":{},\"id\":\"2549\",\"type\":\"BasicTicker\"},{\"attributes\":{},\"id\":\"2600\",\"type\":\"Selection\"},{\"attributes\":{\"axis\":{\"id\":\"2548\"},\"dimension\":1,\"ticker\":null},\"id\":\"2551\",\"type\":\"Grid\"},{\"attributes\":{\"line_color\":\"green\",\"x\":{\"field\":\"x\"},\"y\":{\"field\":\"y\"}},\"id\":\"2585\",\"type\":\"Line\"},{\"attributes\":{\"source\":{\"id\":\"2584\"}},\"id\":\"2588\",\"type\":\"CDSView\"},{\"attributes\":{},\"id\":\"2574\",\"type\":\"AllLabels\"},{\"attributes\":{\"line_color\":\"blue\",\"x\":{\"field\":\"x\"},\"y\":{\"field\":\"y\"}},\"id\":\"2567\",\"type\":\"Line\"},{\"attributes\":{},\"id\":\"2573\",\"type\":\"BasicTickFormatter\"},{\"attributes\":{\"data_source\":{\"id\":\"2584\"},\"glyph\":{\"id\":\"2585\"},\"hover_glyph\":null,\"muted_glyph\":null,\"nonselection_glyph\":{\"id\":\"2586\"},\"view\":{\"id\":\"2588\"}},\"id\":\"2587\",\"type\":\"GlyphRenderer\"},{\"attributes\":{},\"id\":\"2577\",\"type\":\"AllLabels\"},{\"attributes\":{},\"id\":\"2552\",\"type\":\"PanTool\"},{\"attributes\":{\"data\":{\"x\":[0,1,2,3,4,5,6,7,8,9,10,11,12,13,14,15,16],\"y\":{\"__ndarray__\":\"MzMzMzOXo0AAAAAAgI20QJqZmZmZ16lAzczMzMz0oUAzMzMzM9uaQM3MzMzM1phAzczMzMwqmUBmZmZmZr6aQAAAAAAAAppAzczMzMxemUAAAAAAALCaQAAAAAAAWp1AAAAAAABQnEAAAAAAAKKVQM3MzMzMPpNAZmZmZmbSkkAzMzMzM0eLQA==\",\"dtype\":\"float64\",\"order\":\"little\",\"shape\":[17]}},\"selected\":{\"id\":\"2580\"},\"selection_policy\":{\"id\":\"2581\"}},\"id\":\"2566\",\"type\":\"ColumnDataSource\"},{\"attributes\":{\"line_alpha\":0.1,\"line_color\":\"green\",\"x\":{\"field\":\"x\"},\"y\":{\"field\":\"y\"}},\"id\":\"2586\",\"type\":\"Line\"},{\"attributes\":{\"active_multi\":null,\"tools\":[{\"id\":\"2552\"},{\"id\":\"2553\"},{\"id\":\"2554\"},{\"id\":\"2555\"},{\"id\":\"2556\"},{\"id\":\"2557\"}]},\"id\":\"2559\",\"type\":\"Toolbar\"},{\"attributes\":{\"line_alpha\":0.1,\"line_color\":\"blue\",\"x\":{\"field\":\"x\"},\"y\":{\"field\":\"y\"}},\"id\":\"2568\",\"type\":\"Line\"},{\"attributes\":{},\"id\":\"2553\",\"type\":\"WheelZoomTool\"},{\"attributes\":{\"data_source\":{\"id\":\"2566\"},\"glyph\":{\"id\":\"2567\"},\"hover_glyph\":null,\"muted_glyph\":null,\"nonselection_glyph\":{\"id\":\"2568\"},\"view\":{\"id\":\"2570\"}},\"id\":\"2569\",\"type\":\"GlyphRenderer\"},{\"attributes\":{},\"id\":\"2601\",\"type\":\"UnionRenderers\"},{\"attributes\":{\"overlay\":{\"id\":\"2558\"}},\"id\":\"2554\",\"type\":\"BoxZoomTool\"},{\"attributes\":{\"label\":{\"value\":\"Average vaccinated\"},\"renderers\":[{\"id\":\"2587\"}]},\"id\":\"2602\",\"type\":\"LegendItem\"},{\"attributes\":{},\"id\":\"2555\",\"type\":\"SaveTool\"},{\"attributes\":{},\"id\":\"2538\",\"type\":\"DataRange1d\"},{\"attributes\":{\"data\":{\"x\":[0,1,2,3,4,5,6,7,8,9,10,11,12,13,14,15,16],\"y\":{\"__ndarray__\":\"JUmSJEkaf0DqoA7qoJ58QDqogzqot4JAOqiDOqh/hkDGV3zFVyiTQEmSJEmSdJZAe8VXfMUBl0Cv+Iqv+BSXQEmSJEmSSJNAhTqogzrOm0C94iu+4lmhQM7MzMzM8aJAja/4iq9RpkB9xVd8xeugQNNBHdRB5ZZAQR3UQR1ApUAAAAAAAGiSQA==\",\"dtype\":\"float64\",\"order\":\"little\",\"shape\":[17]}},\"selected\":{\"id\":\"2600\"},\"selection_policy\":{\"id\":\"2601\"}},\"id\":\"2584\",\"type\":\"ColumnDataSource\"},{\"attributes\":{},\"id\":\"2556\",\"type\":\"ResetTool\"},{\"attributes\":{},\"id\":\"2557\",\"type\":\"HelpTool\"},{\"attributes\":{\"source\":{\"id\":\"2566\"}},\"id\":\"2570\",\"type\":\"CDSView\"},{\"attributes\":{},\"id\":\"2536\",\"type\":\"DataRange1d\"},{\"attributes\":{},\"id\":\"2576\",\"type\":\"BasicTickFormatter\"}],\"root_ids\":[\"2535\"]},\"title\":\"Bokeh Application\",\"version\":\"2.3.3\"}};\n  var render_items = [{\"docid\":\"cd7ae03f-53e5-40b7-a357-94964368098c\",\"root_ids\":[\"2535\"],\"roots\":{\"2535\":\"42d53bd7-3367-4716-aec1-7abb134c0e08\"}}];\n  root.Bokeh.embed.embed_items_notebook(docs_json, render_items);\n\n  }\n  if (root.Bokeh !== undefined) {\n    embed_document(root);\n  } else {\n    var attempts = 0;\n    var timer = setInterval(function(root) {\n      if (root.Bokeh !== undefined) {\n        clearInterval(timer);\n        embed_document(root);\n      } else {\n        attempts++;\n        if (attempts > 100) {\n          clearInterval(timer);\n          console.log(\"Bokeh: ERROR: Unable to run BokehJS code because BokehJS library is missing\");\n        }\n      }\n    }, 10, root)\n  }\n})(window);",
      "application/vnd.bokehjs_exec.v0+json": ""
     },
     "metadata": {
      "application/vnd.bokehjs_exec.v0+json": {
       "id": "2535"
      }
     },
     "output_type": "display_data"
    }
   ],
   "source": [
    "import pandas as pd\n",
    "import numpy as np\n",
    "from bokeh.plotting import figure, show\n",
    "from bokeh.io import output_notebook\n",
    "output_notebook()\n",
    "\n",
    "data = pd.read_csv('table.csv')\n",
    "df = pd.DataFrame(data, columns=['Year', 'Month', 'Vaccination status', 'Age-standardised mortality rate / 100,000 person-years'])\n",
    "\n",
    "# pivot table to break status out as columns\n",
    "columns = ['Date']\n",
    "for i, row in df.iterrows():\n",
    "    status = row['Vaccination status']\n",
    "    if not status in columns:\n",
    "        columns += [status]   \n",
    "\n",
    "dp = pd.DataFrame(columns=columns)\n",
    "\n",
    "data = {}\n",
    "for i, row in df.iterrows():\n",
    "    year = row['Year']\n",
    "    month = row['Month']\n",
    "    status = row['Vaccination status']\n",
    "    rate = row['Age-standardised mortality rate / 100,000 person-years']\n",
    "    if rate == 'x':\n",
    "        rate = 0\n",
    "    rate = float(rate)\n",
    "    \n",
    "    if status == 'Unvaccinated':\n",
    "        data['Date'] = f\"{year}.{month}\"\n",
    "\n",
    "    data[status] = rate\n",
    "\n",
    "    if status == 'Ever vaccinated':\n",
    "        dp = dp.append(data, ignore_index=True)\n",
    "        data = {}\n",
    "\n",
    "dates = dp[columns[0]]\n",
    "xs = list(range(len(dates)))\n",
    "\n",
    "averages = np.zeros(len(dates))\n",
    "count = 0\n",
    "for i in range(2, len(columns)):\n",
    "    unvax = dp[columns[1]]\n",
    "    label = columns[i]\n",
    "    vax = dp[label]\n",
    "    vs = np.array(vax)\n",
    "    if label != 'Ever vaccinated':\n",
    "        averages += vs\n",
    "        count += 1\n",
    "    p = figure(width=1000, height=400) \n",
    "    p.line(xs, unvax, color='blue', legend_label=columns[1])\n",
    "    p.line(xs, vax, color='green', legend_label=label)\n",
    "    show(p)\n",
    "\n",
    "averages /= count # average back to per 100k\n",
    "p = figure(width=1000, height=400) \n",
    "p.line(xs, unvax, color='blue', legend_label=columns[1])\n",
    "p.line(xs, averages, color='green', legend_label=\"Average vaccinated\")\n",
    "show(p)\n"
   ]
  },
  {
   "cell_type": "code",
   "execution_count": null,
   "metadata": {},
   "outputs": [],
   "source": []
  }
 ],
 "metadata": {
  "kernelspec": {
   "display_name": "ell",
   "language": "python",
   "name": "python3"
  },
  "language_info": {
   "codemirror_mode": {
    "name": "ipython",
    "version": 3
   },
   "file_extension": ".py",
   "mimetype": "text/x-python",
   "name": "python",
   "nbconvert_exporter": "python",
   "pygments_lexer": "ipython3",
   "version": "3.6.13"
  },
  "orig_nbformat": 4,
  "vscode": {
   "interpreter": {
    "hash": "cebab090d7928b292f43d9775080494349b1447d35f136748a1b854a78dda8bf"
   }
  }
 },
 "nbformat": 4,
 "nbformat_minor": 2
}
