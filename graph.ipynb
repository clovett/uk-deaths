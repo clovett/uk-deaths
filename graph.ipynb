{
 "cells": [
  {
   "attachments": {},
   "cell_type": "markdown",
   "metadata": {},
   "source": [
    "## UK Deaths by Vaccination Status\n"
   ]
  },
  {
   "cell_type": "code",
   "execution_count": 7,
   "metadata": {},
   "outputs": [
    {
     "data": {
      "text/html": [
       "\n",
       "    <div class=\"bk-root\">\n",
       "        <a href=\"https://bokeh.org\" target=\"_blank\" class=\"bk-logo bk-logo-small bk-logo-notebook\"></a>\n",
       "        <span id=\"20448\">Loading BokehJS ...</span>\n",
       "    </div>"
      ]
     },
     "metadata": {},
     "output_type": "display_data"
    },
    {
     "data": {
      "application/javascript": "\n(function(root) {\n  function now() {\n    return new Date();\n  }\n\n  var force = true;\n\n  if (typeof root._bokeh_onload_callbacks === \"undefined\" || force === true) {\n    root._bokeh_onload_callbacks = [];\n    root._bokeh_is_loading = undefined;\n  }\n\n  var JS_MIME_TYPE = 'application/javascript';\n  var HTML_MIME_TYPE = 'text/html';\n  var EXEC_MIME_TYPE = 'application/vnd.bokehjs_exec.v0+json';\n  var CLASS_NAME = 'output_bokeh rendered_html';\n\n  /**\n   * Render data to the DOM node\n   */\n  function render(props, node) {\n    var script = document.createElement(\"script\");\n    node.appendChild(script);\n  }\n\n  /**\n   * Handle when an output is cleared or removed\n   */\n  function handleClearOutput(event, handle) {\n    var cell = handle.cell;\n\n    var id = cell.output_area._bokeh_element_id;\n    var server_id = cell.output_area._bokeh_server_id;\n    // Clean up Bokeh references\n    if (id != null && id in Bokeh.index) {\n      Bokeh.index[id].model.document.clear();\n      delete Bokeh.index[id];\n    }\n\n    if (server_id !== undefined) {\n      // Clean up Bokeh references\n      var cmd = \"from bokeh.io.state import curstate; print(curstate().uuid_to_server['\" + server_id + \"'].get_sessions()[0].document.roots[0]._id)\";\n      cell.notebook.kernel.execute(cmd, {\n        iopub: {\n          output: function(msg) {\n            var id = msg.content.text.trim();\n            if (id in Bokeh.index) {\n              Bokeh.index[id].model.document.clear();\n              delete Bokeh.index[id];\n            }\n          }\n        }\n      });\n      // Destroy server and session\n      var cmd = \"import bokeh.io.notebook as ion; ion.destroy_server('\" + server_id + \"')\";\n      cell.notebook.kernel.execute(cmd);\n    }\n  }\n\n  /**\n   * Handle when a new output is added\n   */\n  function handleAddOutput(event, handle) {\n    var output_area = handle.output_area;\n    var output = handle.output;\n\n    // limit handleAddOutput to display_data with EXEC_MIME_TYPE content only\n    if ((output.output_type != \"display_data\") || (!Object.prototype.hasOwnProperty.call(output.data, EXEC_MIME_TYPE))) {\n      return\n    }\n\n    var toinsert = output_area.element.find(\".\" + CLASS_NAME.split(' ')[0]);\n\n    if (output.metadata[EXEC_MIME_TYPE][\"id\"] !== undefined) {\n      toinsert[toinsert.length - 1].firstChild.textContent = output.data[JS_MIME_TYPE];\n      // store reference to embed id on output_area\n      output_area._bokeh_element_id = output.metadata[EXEC_MIME_TYPE][\"id\"];\n    }\n    if (output.metadata[EXEC_MIME_TYPE][\"server_id\"] !== undefined) {\n      var bk_div = document.createElement(\"div\");\n      bk_div.innerHTML = output.data[HTML_MIME_TYPE];\n      var script_attrs = bk_div.children[0].attributes;\n      for (var i = 0; i < script_attrs.length; i++) {\n        toinsert[toinsert.length - 1].firstChild.setAttribute(script_attrs[i].name, script_attrs[i].value);\n        toinsert[toinsert.length - 1].firstChild.textContent = bk_div.children[0].textContent\n      }\n      // store reference to server id on output_area\n      output_area._bokeh_server_id = output.metadata[EXEC_MIME_TYPE][\"server_id\"];\n    }\n  }\n\n  function register_renderer(events, OutputArea) {\n\n    function append_mime(data, metadata, element) {\n      // create a DOM node to render to\n      var toinsert = this.create_output_subarea(\n        metadata,\n        CLASS_NAME,\n        EXEC_MIME_TYPE\n      );\n      this.keyboard_manager.register_events(toinsert);\n      // Render to node\n      var props = {data: data, metadata: metadata[EXEC_MIME_TYPE]};\n      render(props, toinsert[toinsert.length - 1]);\n      element.append(toinsert);\n      return toinsert\n    }\n\n    /* Handle when an output is cleared or removed */\n    events.on('clear_output.CodeCell', handleClearOutput);\n    events.on('delete.Cell', handleClearOutput);\n\n    /* Handle when a new output is added */\n    events.on('output_added.OutputArea', handleAddOutput);\n\n    /**\n     * Register the mime type and append_mime function with output_area\n     */\n    OutputArea.prototype.register_mime_type(EXEC_MIME_TYPE, append_mime, {\n      /* Is output safe? */\n      safe: true,\n      /* Index of renderer in `output_area.display_order` */\n      index: 0\n    });\n  }\n\n  // register the mime type if in Jupyter Notebook environment and previously unregistered\n  if (root.Jupyter !== undefined) {\n    var events = require('base/js/events');\n    var OutputArea = require('notebook/js/outputarea').OutputArea;\n\n    if (OutputArea.prototype.mime_types().indexOf(EXEC_MIME_TYPE) == -1) {\n      register_renderer(events, OutputArea);\n    }\n  }\n\n  \n  if (typeof (root._bokeh_timeout) === \"undefined\" || force === true) {\n    root._bokeh_timeout = Date.now() + 5000;\n    root._bokeh_failed_load = false;\n  }\n\n  var NB_LOAD_WARNING = {'data': {'text/html':\n     \"<div style='background-color: #fdd'>\\n\"+\n     \"<p>\\n\"+\n     \"BokehJS does not appear to have successfully loaded. If loading BokehJS from CDN, this \\n\"+\n     \"may be due to a slow or bad network connection. Possible fixes:\\n\"+\n     \"</p>\\n\"+\n     \"<ul>\\n\"+\n     \"<li>re-rerun `output_notebook()` to attempt to load from CDN again, or</li>\\n\"+\n     \"<li>use INLINE resources instead, as so:</li>\\n\"+\n     \"</ul>\\n\"+\n     \"<code>\\n\"+\n     \"from bokeh.resources import INLINE\\n\"+\n     \"output_notebook(resources=INLINE)\\n\"+\n     \"</code>\\n\"+\n     \"</div>\"}};\n\n  function display_loaded() {\n    var el = document.getElementById(\"20448\");\n    if (el != null) {\n      el.textContent = \"BokehJS is loading...\";\n    }\n    if (root.Bokeh !== undefined) {\n      if (el != null) {\n        el.textContent = \"BokehJS \" + root.Bokeh.version + \" successfully loaded.\";\n      }\n    } else if (Date.now() < root._bokeh_timeout) {\n      setTimeout(display_loaded, 100)\n    }\n  }\n\n\n  function run_callbacks() {\n    try {\n      root._bokeh_onload_callbacks.forEach(function(callback) {\n        if (callback != null)\n          callback();\n      });\n    } finally {\n      delete root._bokeh_onload_callbacks\n    }\n    console.debug(\"Bokeh: all callbacks have finished\");\n  }\n\n  function load_libs(css_urls, js_urls, callback) {\n    if (css_urls == null) css_urls = [];\n    if (js_urls == null) js_urls = [];\n\n    root._bokeh_onload_callbacks.push(callback);\n    if (root._bokeh_is_loading > 0) {\n      console.debug(\"Bokeh: BokehJS is being loaded, scheduling callback at\", now());\n      return null;\n    }\n    if (js_urls == null || js_urls.length === 0) {\n      run_callbacks();\n      return null;\n    }\n    console.debug(\"Bokeh: BokehJS not loaded, scheduling load and callback at\", now());\n    root._bokeh_is_loading = css_urls.length + js_urls.length;\n\n    function on_load() {\n      root._bokeh_is_loading--;\n      if (root._bokeh_is_loading === 0) {\n        console.debug(\"Bokeh: all BokehJS libraries/stylesheets loaded\");\n        run_callbacks()\n      }\n    }\n\n    function on_error(url) {\n      console.error(\"failed to load \" + url);\n    }\n\n    for (let i = 0; i < css_urls.length; i++) {\n      const url = css_urls[i];\n      const element = document.createElement(\"link\");\n      element.onload = on_load;\n      element.onerror = on_error.bind(null, url);\n      element.rel = \"stylesheet\";\n      element.type = \"text/css\";\n      element.href = url;\n      console.debug(\"Bokeh: injecting link tag for BokehJS stylesheet: \", url);\n      document.body.appendChild(element);\n    }\n\n    const hashes = {\"https://cdn.bokeh.org/bokeh/release/bokeh-2.3.3.min.js\": \"dM3QQsP+wXdHg42wTqW85BjZQdLNNIXqlPw/BgKoExPmTG7ZLML4EGqLMfqHT6ON\", \"https://cdn.bokeh.org/bokeh/release/bokeh-tables-2.3.3.min.js\": \"8x57I4YuIfu8XyZfFo0XVr2WAT8EK4rh/uDe3wF7YuW2FNUSNEpJbsPaB1nJ2fz2\", \"https://cdn.bokeh.org/bokeh/release/bokeh-widgets-2.3.3.min.js\": \"3QTqdz9LyAm2i0sG5XTePsHec3UHWwVsrOL68SYRoAXsafvfAyqtQ+h440+qIBhS\"};\n\n    for (let i = 0; i < js_urls.length; i++) {\n      const url = js_urls[i];\n      const element = document.createElement('script');\n      element.onload = on_load;\n      element.onerror = on_error.bind(null, url);\n      element.async = false;\n      element.src = url;\n      if (url in hashes) {\n        element.crossOrigin = \"anonymous\";\n        element.integrity = \"sha384-\" + hashes[url];\n      }\n      console.debug(\"Bokeh: injecting script tag for BokehJS library: \", url);\n      document.head.appendChild(element);\n    }\n  };\n\n  function inject_raw_css(css) {\n    const element = document.createElement(\"style\");\n    element.appendChild(document.createTextNode(css));\n    document.body.appendChild(element);\n  }\n\n  \n  var js_urls = [\"https://cdn.bokeh.org/bokeh/release/bokeh-2.3.3.min.js\", \"https://cdn.bokeh.org/bokeh/release/bokeh-widgets-2.3.3.min.js\", \"https://cdn.bokeh.org/bokeh/release/bokeh-tables-2.3.3.min.js\"];\n  var css_urls = [];\n  \n\n  var inline_js = [\n    function(Bokeh) {\n      Bokeh.set_log_level(\"info\");\n    },\n    function(Bokeh) {\n    \n    \n    }\n  ];\n\n  function run_inline_js() {\n    \n    if (root.Bokeh !== undefined || force === true) {\n      \n    for (var i = 0; i < inline_js.length; i++) {\n      inline_js[i].call(root, root.Bokeh);\n    }\n    if (force === true) {\n        display_loaded();\n      }} else if (Date.now() < root._bokeh_timeout) {\n      setTimeout(run_inline_js, 100);\n    } else if (!root._bokeh_failed_load) {\n      console.log(\"Bokeh: BokehJS failed to load within specified timeout.\");\n      root._bokeh_failed_load = true;\n    } else if (force !== true) {\n      var cell = $(document.getElementById(\"20448\")).parents('.cell').data().cell;\n      cell.output_area.append_execute_result(NB_LOAD_WARNING)\n    }\n\n  }\n\n  if (root._bokeh_is_loading === 0) {\n    console.debug(\"Bokeh: BokehJS loaded, going straight to plotting\");\n    run_inline_js();\n  } else {\n    load_libs(css_urls, js_urls, function() {\n      console.debug(\"Bokeh: BokehJS plotting callback run at\", now());\n      run_inline_js();\n    });\n  }\n}(window));",
      "application/vnd.bokehjs_load.v0+json": ""
     },
     "metadata": {},
     "output_type": "display_data"
    },
    {
     "data": {
      "text/html": [
       "\n",
       "\n",
       "\n",
       "\n",
       "\n",
       "\n",
       "  <div class=\"bk-root\" id=\"35707c20-2849-443a-a5d0-9af4be666e97\" data-root-id=\"20449\"></div>\n"
      ]
     },
     "metadata": {},
     "output_type": "display_data"
    },
    {
     "data": {
      "application/javascript": "(function(root) {\n  function embed_document(root) {\n    \n  var docs_json = {\"3c69aa52-a8e9-4acf-85d6-43406c433c65\":{\"defs\":[],\"roots\":{\"references\":[{\"attributes\":{\"below\":[{\"id\":\"20458\"}],\"center\":[{\"id\":\"20461\"},{\"id\":\"20465\"},{\"id\":\"20496\"}],\"height\":400,\"left\":[{\"id\":\"20462\"}],\"renderers\":[{\"id\":\"20483\"},{\"id\":\"20501\"}],\"title\":{\"id\":\"20485\"},\"toolbar\":{\"id\":\"20473\"},\"width\":1000,\"x_range\":{\"id\":\"20450\"},\"x_scale\":{\"id\":\"20454\"},\"y_range\":{\"id\":\"20452\"},\"y_scale\":{\"id\":\"20456\"}},\"id\":\"20449\",\"subtype\":\"Figure\",\"type\":\"Plot\"},{\"attributes\":{},\"id\":\"20491\",\"type\":\"BasicTickFormatter\"},{\"attributes\":{},\"id\":\"20469\",\"type\":\"SaveTool\"},{\"attributes\":{\"bottom_units\":\"screen\",\"fill_alpha\":0.5,\"fill_color\":\"lightgrey\",\"left_units\":\"screen\",\"level\":\"overlay\",\"line_alpha\":1.0,\"line_color\":\"black\",\"line_dash\":[4,4],\"line_width\":2,\"right_units\":\"screen\",\"syncable\":false,\"top_units\":\"screen\"},\"id\":\"20472\",\"type\":\"BoxAnnotation\"},{\"attributes\":{},\"id\":\"20467\",\"type\":\"WheelZoomTool\"},{\"attributes\":{},\"id\":\"20490\",\"type\":\"AllLabels\"},{\"attributes\":{},\"id\":\"20456\",\"type\":\"LinearScale\"},{\"attributes\":{},\"id\":\"20454\",\"type\":\"LinearScale\"},{\"attributes\":{\"data_source\":{\"id\":\"20480\"},\"glyph\":{\"id\":\"20481\"},\"hover_glyph\":null,\"muted_glyph\":null,\"nonselection_glyph\":{\"id\":\"20482\"},\"view\":{\"id\":\"20484\"}},\"id\":\"20483\",\"type\":\"GlyphRenderer\"},{\"attributes\":{\"formatter\":{\"id\":\"20488\"},\"major_label_policy\":{\"id\":\"20487\"},\"ticker\":{\"id\":\"20463\"}},\"id\":\"20462\",\"type\":\"LinearAxis\"},{\"attributes\":{},\"id\":\"20485\",\"type\":\"Title\"},{\"attributes\":{\"active_multi\":null,\"tools\":[{\"id\":\"20466\"},{\"id\":\"20467\"},{\"id\":\"20468\"},{\"id\":\"20469\"},{\"id\":\"20470\"},{\"id\":\"20471\"}]},\"id\":\"20473\",\"type\":\"Toolbar\"},{\"attributes\":{},\"id\":\"20488\",\"type\":\"BasicTickFormatter\"},{\"attributes\":{},\"id\":\"20450\",\"type\":\"DataRange1d\"},{\"attributes\":{\"source\":{\"id\":\"20480\"}},\"id\":\"20484\",\"type\":\"CDSView\"},{\"attributes\":{\"data\":{\"x\":[0,1,2,3,4,5,6,7,8,9,10,11,12,13,14,15,16],\"y\":{\"__ndarray__\":\"MzMzMzOXo0AAAAAAgI20QJqZmZmZ16lAzczMzMz0oUAzMzMzM9uaQM3MzMzM1phAzczMzMwqmUBmZmZmZr6aQAAAAAAAAppAzczMzMxemUAAAAAAALCaQAAAAAAAWp1AAAAAAABQnEAAAAAAAKKVQM3MzMzMPpNAZmZmZmbSkkAzMzMzM0eLQA==\",\"dtype\":\"float64\",\"order\":\"little\",\"shape\":[17]}},\"selected\":{\"id\":\"20494\"},\"selection_policy\":{\"id\":\"20493\"}},\"id\":\"20480\",\"type\":\"ColumnDataSource\"},{\"attributes\":{\"axis\":{\"id\":\"20462\"},\"dimension\":1,\"ticker\":null},\"id\":\"20465\",\"type\":\"Grid\"},{\"attributes\":{},\"id\":\"20466\",\"type\":\"PanTool\"},{\"attributes\":{},\"id\":\"20493\",\"type\":\"UnionRenderers\"},{\"attributes\":{},\"id\":\"20452\",\"type\":\"DataRange1d\"},{\"attributes\":{\"overlay\":{\"id\":\"20472\"}},\"id\":\"20468\",\"type\":\"BoxZoomTool\"},{\"attributes\":{},\"id\":\"20487\",\"type\":\"AllLabels\"},{\"attributes\":{\"line_color\":\"blue\",\"x\":{\"field\":\"x\"},\"y\":{\"field\":\"y\"}},\"id\":\"20481\",\"type\":\"Line\"},{\"attributes\":{},\"id\":\"20494\",\"type\":\"Selection\"},{\"attributes\":{\"items\":[{\"id\":\"20497\"},{\"id\":\"20516\"}]},\"id\":\"20496\",\"type\":\"Legend\"},{\"attributes\":{},\"id\":\"20463\",\"type\":\"BasicTicker\"},{\"attributes\":{\"axis\":{\"id\":\"20458\"},\"ticker\":null},\"id\":\"20461\",\"type\":\"Grid\"},{\"attributes\":{\"label\":{\"value\":\"Unvaccinated\"},\"renderers\":[{\"id\":\"20483\"}]},\"id\":\"20497\",\"type\":\"LegendItem\"},{\"attributes\":{\"formatter\":{\"id\":\"20491\"},\"major_label_policy\":{\"id\":\"20490\"},\"ticker\":{\"id\":\"20459\"}},\"id\":\"20458\",\"type\":\"LinearAxis\"},{\"attributes\":{\"data\":{\"x\":[0,1,2,3,4,5,6,7,8,9,10,11,12,13,14,15,16],\"y\":{\"__ndarray__\":\"zczMzMzUlEBmZmZmZm6PQGZmZmZmIaBAMzMzMzM0oEAAAAAAAE6bQAAAAAAAeJRAAAAAAADgi0AzMzMzM7GhQM3MzMzMxIdAAAAAAAAKoEAAAAAAAEOrQGZmZmZmfp5AzczMzMyYq0BmZmZmZhqkQAAAAAAAAAAAmpmZmZmyuUAAAAAAAAAAAA==\",\"dtype\":\"float64\",\"order\":\"little\",\"shape\":[17]}},\"selected\":{\"id\":\"20514\"},\"selection_policy\":{\"id\":\"20513\"}},\"id\":\"20498\",\"type\":\"ColumnDataSource\"},{\"attributes\":{},\"id\":\"20513\",\"type\":\"UnionRenderers\"},{\"attributes\":{\"line_alpha\":0.1,\"line_color\":\"blue\",\"x\":{\"field\":\"x\"},\"y\":{\"field\":\"y\"}},\"id\":\"20482\",\"type\":\"Line\"},{\"attributes\":{},\"id\":\"20470\",\"type\":\"ResetTool\"},{\"attributes\":{\"data_source\":{\"id\":\"20498\"},\"glyph\":{\"id\":\"20499\"},\"hover_glyph\":null,\"muted_glyph\":null,\"nonselection_glyph\":{\"id\":\"20500\"},\"view\":{\"id\":\"20502\"}},\"id\":\"20501\",\"type\":\"GlyphRenderer\"},{\"attributes\":{\"line_color\":\"green\",\"x\":{\"field\":\"x\"},\"y\":{\"field\":\"y\"}},\"id\":\"20499\",\"type\":\"Line\"},{\"attributes\":{},\"id\":\"20459\",\"type\":\"BasicTicker\"},{\"attributes\":{\"source\":{\"id\":\"20498\"}},\"id\":\"20502\",\"type\":\"CDSView\"},{\"attributes\":{\"line_alpha\":0.1,\"line_color\":\"green\",\"x\":{\"field\":\"x\"},\"y\":{\"field\":\"y\"}},\"id\":\"20500\",\"type\":\"Line\"},{\"attributes\":{},\"id\":\"20471\",\"type\":\"HelpTool\"},{\"attributes\":{},\"id\":\"20514\",\"type\":\"Selection\"},{\"attributes\":{\"label\":{\"value\":\"First dose, less than 21 days ago\"},\"renderers\":[{\"id\":\"20501\"}]},\"id\":\"20516\",\"type\":\"LegendItem\"}],\"root_ids\":[\"20449\"]},\"title\":\"Bokeh Application\",\"version\":\"2.3.3\"}};\n  var render_items = [{\"docid\":\"3c69aa52-a8e9-4acf-85d6-43406c433c65\",\"root_ids\":[\"20449\"],\"roots\":{\"20449\":\"35707c20-2849-443a-a5d0-9af4be666e97\"}}];\n  root.Bokeh.embed.embed_items_notebook(docs_json, render_items);\n\n  }\n  if (root.Bokeh !== undefined) {\n    embed_document(root);\n  } else {\n    var attempts = 0;\n    var timer = setInterval(function(root) {\n      if (root.Bokeh !== undefined) {\n        clearInterval(timer);\n        embed_document(root);\n      } else {\n        attempts++;\n        if (attempts > 100) {\n          clearInterval(timer);\n          console.log(\"Bokeh: ERROR: Unable to run BokehJS code because BokehJS library is missing\");\n        }\n      }\n    }, 10, root)\n  }\n})(window);",
      "application/vnd.bokehjs_exec.v0+json": ""
     },
     "metadata": {
      "application/vnd.bokehjs_exec.v0+json": {
       "id": "20449"
      }
     },
     "output_type": "display_data"
    },
    {
     "data": {
      "text/html": [
       "\n",
       "\n",
       "\n",
       "\n",
       "\n",
       "\n",
       "  <div class=\"bk-root\" id=\"8283e619-e2fb-42af-b799-1ae429428e82\" data-root-id=\"21180\"></div>\n"
      ]
     },
     "metadata": {},
     "output_type": "display_data"
    },
    {
     "data": {
      "application/javascript": "(function(root) {\n  function embed_document(root) {\n    \n  var docs_json = {\"eaf59377-607f-4b16-be3e-76bddfac611a\":{\"defs\":[],\"roots\":{\"references\":[{\"attributes\":{\"below\":[{\"id\":\"21189\"}],\"center\":[{\"id\":\"21192\"},{\"id\":\"21196\"},{\"id\":\"21227\"}],\"height\":400,\"left\":[{\"id\":\"21193\"}],\"renderers\":[{\"id\":\"21214\"},{\"id\":\"21232\"}],\"title\":{\"id\":\"21216\"},\"toolbar\":{\"id\":\"21204\"},\"width\":1000,\"x_range\":{\"id\":\"21181\"},\"x_scale\":{\"id\":\"21185\"},\"y_range\":{\"id\":\"21183\"},\"y_scale\":{\"id\":\"21187\"}},\"id\":\"21180\",\"subtype\":\"Figure\",\"type\":\"Plot\"},{\"attributes\":{\"axis\":{\"id\":\"21193\"},\"dimension\":1,\"ticker\":null},\"id\":\"21196\",\"type\":\"Grid\"},{\"attributes\":{\"line_color\":\"blue\",\"x\":{\"field\":\"x\"},\"y\":{\"field\":\"y\"}},\"id\":\"21212\",\"type\":\"Line\"},{\"attributes\":{},\"id\":\"21225\",\"type\":\"Selection\"},{\"attributes\":{},\"id\":\"21194\",\"type\":\"BasicTicker\"},{\"attributes\":{},\"id\":\"21219\",\"type\":\"BasicTickFormatter\"},{\"attributes\":{\"axis\":{\"id\":\"21189\"},\"ticker\":null},\"id\":\"21192\",\"type\":\"Grid\"},{\"attributes\":{\"formatter\":{\"id\":\"21219\"},\"major_label_policy\":{\"id\":\"21218\"},\"ticker\":{\"id\":\"21194\"}},\"id\":\"21193\",\"type\":\"LinearAxis\"},{\"attributes\":{},\"id\":\"21221\",\"type\":\"AllLabels\"},{\"attributes\":{},\"id\":\"21190\",\"type\":\"BasicTicker\"},{\"attributes\":{\"active_multi\":null,\"tools\":[{\"id\":\"21197\"},{\"id\":\"21198\"},{\"id\":\"21199\"},{\"id\":\"21200\"},{\"id\":\"21201\"},{\"id\":\"21202\"}]},\"id\":\"21204\",\"type\":\"Toolbar\"},{\"attributes\":{},\"id\":\"21218\",\"type\":\"AllLabels\"},{\"attributes\":{},\"id\":\"21222\",\"type\":\"BasicTickFormatter\"},{\"attributes\":{},\"id\":\"21202\",\"type\":\"HelpTool\"},{\"attributes\":{\"line_alpha\":0.1,\"line_color\":\"blue\",\"x\":{\"field\":\"x\"},\"y\":{\"field\":\"y\"}},\"id\":\"21213\",\"type\":\"Line\"},{\"attributes\":{},\"id\":\"21224\",\"type\":\"UnionRenderers\"},{\"attributes\":{\"bottom_units\":\"screen\",\"fill_alpha\":0.5,\"fill_color\":\"lightgrey\",\"left_units\":\"screen\",\"level\":\"overlay\",\"line_alpha\":1.0,\"line_color\":\"black\",\"line_dash\":[4,4],\"line_width\":2,\"right_units\":\"screen\",\"syncable\":false,\"top_units\":\"screen\"},\"id\":\"21203\",\"type\":\"BoxAnnotation\"},{\"attributes\":{\"overlay\":{\"id\":\"21203\"}},\"id\":\"21199\",\"type\":\"BoxZoomTool\"},{\"attributes\":{},\"id\":\"21201\",\"type\":\"ResetTool\"},{\"attributes\":{},\"id\":\"21244\",\"type\":\"UnionRenderers\"},{\"attributes\":{},\"id\":\"21198\",\"type\":\"WheelZoomTool\"},{\"attributes\":{\"label\":{\"value\":\"First dose, at least 21 days ago\"},\"renderers\":[{\"id\":\"21232\"}]},\"id\":\"21247\",\"type\":\"LegendItem\"},{\"attributes\":{\"data\":{\"x\":[0,1,2,3,4,5,6,7,8,9,10,11,12,13,14,15,16],\"y\":{\"__ndarray__\":\"zczMzMzamkCamZmZmT+QQAAAAAAATI9AMzMzMzPhmkCamZmZGS60QAAAAAAALblAmpmZmZkAuEAzMzMzsxezQJqZmZkZhbJAmpmZmZkmskDNzMzMzH2uQJqZmZmZKrBAAAAAAAAFrkDNzMzMzJOlQAAAAAAAxaJAzczMzMyDo0CamZmZmUWdQA==\",\"dtype\":\"float64\",\"order\":\"little\",\"shape\":[17]}},\"selected\":{\"id\":\"21245\"},\"selection_policy\":{\"id\":\"21244\"}},\"id\":\"21229\",\"type\":\"ColumnDataSource\"},{\"attributes\":{},\"id\":\"21197\",\"type\":\"PanTool\"},{\"attributes\":{\"label\":{\"value\":\"Unvaccinated\"},\"renderers\":[{\"id\":\"21214\"}]},\"id\":\"21228\",\"type\":\"LegendItem\"},{\"attributes\":{\"data_source\":{\"id\":\"21211\"},\"glyph\":{\"id\":\"21212\"},\"hover_glyph\":null,\"muted_glyph\":null,\"nonselection_glyph\":{\"id\":\"21213\"},\"view\":{\"id\":\"21215\"}},\"id\":\"21214\",\"type\":\"GlyphRenderer\"},{\"attributes\":{},\"id\":\"21216\",\"type\":\"Title\"},{\"attributes\":{},\"id\":\"21200\",\"type\":\"SaveTool\"},{\"attributes\":{\"items\":[{\"id\":\"21228\"},{\"id\":\"21247\"}]},\"id\":\"21227\",\"type\":\"Legend\"},{\"attributes\":{},\"id\":\"21187\",\"type\":\"LinearScale\"},{\"attributes\":{\"source\":{\"id\":\"21211\"}},\"id\":\"21215\",\"type\":\"CDSView\"},{\"attributes\":{},\"id\":\"21185\",\"type\":\"LinearScale\"},{\"attributes\":{\"source\":{\"id\":\"21229\"}},\"id\":\"21233\",\"type\":\"CDSView\"},{\"attributes\":{\"line_color\":\"green\",\"x\":{\"field\":\"x\"},\"y\":{\"field\":\"y\"}},\"id\":\"21230\",\"type\":\"Line\"},{\"attributes\":{\"data_source\":{\"id\":\"21229\"},\"glyph\":{\"id\":\"21230\"},\"hover_glyph\":null,\"muted_glyph\":null,\"nonselection_glyph\":{\"id\":\"21231\"},\"view\":{\"id\":\"21233\"}},\"id\":\"21232\",\"type\":\"GlyphRenderer\"},{\"attributes\":{\"data\":{\"x\":[0,1,2,3,4,5,6,7,8,9,10,11,12,13,14,15,16],\"y\":{\"__ndarray__\":\"MzMzMzOXo0AAAAAAgI20QJqZmZmZ16lAzczMzMz0oUAzMzMzM9uaQM3MzMzM1phAzczMzMwqmUBmZmZmZr6aQAAAAAAAAppAzczMzMxemUAAAAAAALCaQAAAAAAAWp1AAAAAAABQnEAAAAAAAKKVQM3MzMzMPpNAZmZmZmbSkkAzMzMzM0eLQA==\",\"dtype\":\"float64\",\"order\":\"little\",\"shape\":[17]}},\"selected\":{\"id\":\"21225\"},\"selection_policy\":{\"id\":\"21224\"}},\"id\":\"21211\",\"type\":\"ColumnDataSource\"},{\"attributes\":{\"line_alpha\":0.1,\"line_color\":\"green\",\"x\":{\"field\":\"x\"},\"y\":{\"field\":\"y\"}},\"id\":\"21231\",\"type\":\"Line\"},{\"attributes\":{},\"id\":\"21245\",\"type\":\"Selection\"},{\"attributes\":{},\"id\":\"21181\",\"type\":\"DataRange1d\"},{\"attributes\":{\"formatter\":{\"id\":\"21222\"},\"major_label_policy\":{\"id\":\"21221\"},\"ticker\":{\"id\":\"21190\"}},\"id\":\"21189\",\"type\":\"LinearAxis\"},{\"attributes\":{},\"id\":\"21183\",\"type\":\"DataRange1d\"}],\"root_ids\":[\"21180\"]},\"title\":\"Bokeh Application\",\"version\":\"2.3.3\"}};\n  var render_items = [{\"docid\":\"eaf59377-607f-4b16-be3e-76bddfac611a\",\"root_ids\":[\"21180\"],\"roots\":{\"21180\":\"8283e619-e2fb-42af-b799-1ae429428e82\"}}];\n  root.Bokeh.embed.embed_items_notebook(docs_json, render_items);\n\n  }\n  if (root.Bokeh !== undefined) {\n    embed_document(root);\n  } else {\n    var attempts = 0;\n    var timer = setInterval(function(root) {\n      if (root.Bokeh !== undefined) {\n        clearInterval(timer);\n        embed_document(root);\n      } else {\n        attempts++;\n        if (attempts > 100) {\n          clearInterval(timer);\n          console.log(\"Bokeh: ERROR: Unable to run BokehJS code because BokehJS library is missing\");\n        }\n      }\n    }, 10, root)\n  }\n})(window);",
      "application/vnd.bokehjs_exec.v0+json": ""
     },
     "metadata": {
      "application/vnd.bokehjs_exec.v0+json": {
       "id": "21180"
      }
     },
     "output_type": "display_data"
    },
    {
     "data": {
      "text/html": [
       "\n",
       "\n",
       "\n",
       "\n",
       "\n",
       "\n",
       "  <div class=\"bk-root\" id=\"26865578-7557-4d2a-b47c-b115f3365489\" data-root-id=\"21924\"></div>\n"
      ]
     },
     "metadata": {},
     "output_type": "display_data"
    },
    {
     "data": {
      "application/javascript": "(function(root) {\n  function embed_document(root) {\n    \n  var docs_json = {\"87191db4-0744-4317-9aa6-6e76e6da8bbc\":{\"defs\":[],\"roots\":{\"references\":[{\"attributes\":{\"below\":[{\"id\":\"21933\"}],\"center\":[{\"id\":\"21936\"},{\"id\":\"21940\"},{\"id\":\"21971\"}],\"height\":400,\"left\":[{\"id\":\"21937\"}],\"renderers\":[{\"id\":\"21958\"},{\"id\":\"21976\"}],\"title\":{\"id\":\"21960\"},\"toolbar\":{\"id\":\"21948\"},\"width\":1000,\"x_range\":{\"id\":\"21925\"},\"x_scale\":{\"id\":\"21929\"},\"y_range\":{\"id\":\"21927\"},\"y_scale\":{\"id\":\"21931\"}},\"id\":\"21924\",\"subtype\":\"Figure\",\"type\":\"Plot\"},{\"attributes\":{},\"id\":\"21938\",\"type\":\"BasicTicker\"},{\"attributes\":{},\"id\":\"21966\",\"type\":\"BasicTickFormatter\"},{\"attributes\":{},\"id\":\"21968\",\"type\":\"UnionRenderers\"},{\"attributes\":{\"axis\":{\"id\":\"21937\"},\"dimension\":1,\"ticker\":null},\"id\":\"21940\",\"type\":\"Grid\"},{\"attributes\":{},\"id\":\"21969\",\"type\":\"Selection\"},{\"attributes\":{\"formatter\":{\"id\":\"21966\"},\"major_label_policy\":{\"id\":\"21965\"},\"ticker\":{\"id\":\"21934\"}},\"id\":\"21933\",\"type\":\"LinearAxis\"},{\"attributes\":{\"items\":[{\"id\":\"21972\"},{\"id\":\"21991\"}]},\"id\":\"21971\",\"type\":\"Legend\"},{\"attributes\":{},\"id\":\"21942\",\"type\":\"WheelZoomTool\"},{\"attributes\":{\"label\":{\"value\":\"Unvaccinated\"},\"renderers\":[{\"id\":\"21958\"}]},\"id\":\"21972\",\"type\":\"LegendItem\"},{\"attributes\":{},\"id\":\"21941\",\"type\":\"PanTool\"},{\"attributes\":{\"axis\":{\"id\":\"21933\"},\"ticker\":null},\"id\":\"21936\",\"type\":\"Grid\"},{\"attributes\":{},\"id\":\"21963\",\"type\":\"BasicTickFormatter\"},{\"attributes\":{\"data\":{\"x\":[0,1,2,3,4,5,6,7,8,9,10,11,12,13,14,15,16],\"y\":{\"__ndarray__\":\"AAAAAACYcECamZmZmQWGQDMzMzMzh4BAzczMzMwUf0DNzMzMzBSJQAAAAAAAYpdAMzMzMzMVnEAAAAAAAGyXQDMzMzMzc4lAzczMzMxYnUDNzMzMzNWgQAAAAAAAjptAAAAAAAD4oUAzMzMzM5eaQAAAAAAAAAAAZmZmZmbEpUAAAAAAAAAAAA==\",\"dtype\":\"float64\",\"order\":\"little\",\"shape\":[17]}},\"selected\":{\"id\":\"21989\"},\"selection_policy\":{\"id\":\"21988\"}},\"id\":\"21973\",\"type\":\"ColumnDataSource\"},{\"attributes\":{\"overlay\":{\"id\":\"21947\"}},\"id\":\"21943\",\"type\":\"BoxZoomTool\"},{\"attributes\":{},\"id\":\"21934\",\"type\":\"BasicTicker\"},{\"attributes\":{},\"id\":\"21931\",\"type\":\"LinearScale\"},{\"attributes\":{},\"id\":\"21965\",\"type\":\"AllLabels\"},{\"attributes\":{},\"id\":\"21927\",\"type\":\"DataRange1d\"},{\"attributes\":{},\"id\":\"21946\",\"type\":\"HelpTool\"},{\"attributes\":{\"data_source\":{\"id\":\"21973\"},\"glyph\":{\"id\":\"21974\"},\"hover_glyph\":null,\"muted_glyph\":null,\"nonselection_glyph\":{\"id\":\"21975\"},\"view\":{\"id\":\"21977\"}},\"id\":\"21976\",\"type\":\"GlyphRenderer\"},{\"attributes\":{\"line_color\":\"green\",\"x\":{\"field\":\"x\"},\"y\":{\"field\":\"y\"}},\"id\":\"21974\",\"type\":\"Line\"},{\"attributes\":{\"source\":{\"id\":\"21973\"}},\"id\":\"21977\",\"type\":\"CDSView\"},{\"attributes\":{\"line_alpha\":0.1,\"line_color\":\"green\",\"x\":{\"field\":\"x\"},\"y\":{\"field\":\"y\"}},\"id\":\"21975\",\"type\":\"Line\"},{\"attributes\":{\"active_multi\":null,\"tools\":[{\"id\":\"21941\"},{\"id\":\"21942\"},{\"id\":\"21943\"},{\"id\":\"21944\"},{\"id\":\"21945\"},{\"id\":\"21946\"}]},\"id\":\"21948\",\"type\":\"Toolbar\"},{\"attributes\":{},\"id\":\"21929\",\"type\":\"LinearScale\"},{\"attributes\":{},\"id\":\"21945\",\"type\":\"ResetTool\"},{\"attributes\":{},\"id\":\"21925\",\"type\":\"DataRange1d\"},{\"attributes\":{\"line_color\":\"blue\",\"x\":{\"field\":\"x\"},\"y\":{\"field\":\"y\"}},\"id\":\"21956\",\"type\":\"Line\"},{\"attributes\":{\"label\":{\"value\":\"Second dose, less than 21 days ago\"},\"renderers\":[{\"id\":\"21976\"}]},\"id\":\"21991\",\"type\":\"LegendItem\"},{\"attributes\":{\"line_alpha\":0.1,\"line_color\":\"blue\",\"x\":{\"field\":\"x\"},\"y\":{\"field\":\"y\"}},\"id\":\"21957\",\"type\":\"Line\"},{\"attributes\":{},\"id\":\"21989\",\"type\":\"Selection\"},{\"attributes\":{},\"id\":\"21988\",\"type\":\"UnionRenderers\"},{\"attributes\":{\"bottom_units\":\"screen\",\"fill_alpha\":0.5,\"fill_color\":\"lightgrey\",\"left_units\":\"screen\",\"level\":\"overlay\",\"line_alpha\":1.0,\"line_color\":\"black\",\"line_dash\":[4,4],\"line_width\":2,\"right_units\":\"screen\",\"syncable\":false,\"top_units\":\"screen\"},\"id\":\"21947\",\"type\":\"BoxAnnotation\"},{\"attributes\":{\"formatter\":{\"id\":\"21963\"},\"major_label_policy\":{\"id\":\"21962\"},\"ticker\":{\"id\":\"21938\"}},\"id\":\"21937\",\"type\":\"LinearAxis\"},{\"attributes\":{},\"id\":\"21960\",\"type\":\"Title\"},{\"attributes\":{},\"id\":\"21944\",\"type\":\"SaveTool\"},{\"attributes\":{},\"id\":\"21962\",\"type\":\"AllLabels\"},{\"attributes\":{\"data\":{\"x\":[0,1,2,3,4,5,6,7,8,9,10,11,12,13,14,15,16],\"y\":{\"__ndarray__\":\"MzMzMzOXo0AAAAAAgI20QJqZmZmZ16lAzczMzMz0oUAzMzMzM9uaQM3MzMzM1phAzczMzMwqmUBmZmZmZr6aQAAAAAAAAppAzczMzMxemUAAAAAAALCaQAAAAAAAWp1AAAAAAABQnEAAAAAAAKKVQM3MzMzMPpNAZmZmZmbSkkAzMzMzM0eLQA==\",\"dtype\":\"float64\",\"order\":\"little\",\"shape\":[17]}},\"selected\":{\"id\":\"21969\"},\"selection_policy\":{\"id\":\"21968\"}},\"id\":\"21955\",\"type\":\"ColumnDataSource\"},{\"attributes\":{\"data_source\":{\"id\":\"21955\"},\"glyph\":{\"id\":\"21956\"},\"hover_glyph\":null,\"muted_glyph\":null,\"nonselection_glyph\":{\"id\":\"21957\"},\"view\":{\"id\":\"21959\"}},\"id\":\"21958\",\"type\":\"GlyphRenderer\"},{\"attributes\":{\"source\":{\"id\":\"21955\"}},\"id\":\"21959\",\"type\":\"CDSView\"}],\"root_ids\":[\"21924\"]},\"title\":\"Bokeh Application\",\"version\":\"2.3.3\"}};\n  var render_items = [{\"docid\":\"87191db4-0744-4317-9aa6-6e76e6da8bbc\",\"root_ids\":[\"21924\"],\"roots\":{\"21924\":\"26865578-7557-4d2a-b47c-b115f3365489\"}}];\n  root.Bokeh.embed.embed_items_notebook(docs_json, render_items);\n\n  }\n  if (root.Bokeh !== undefined) {\n    embed_document(root);\n  } else {\n    var attempts = 0;\n    var timer = setInterval(function(root) {\n      if (root.Bokeh !== undefined) {\n        clearInterval(timer);\n        embed_document(root);\n      } else {\n        attempts++;\n        if (attempts > 100) {\n          clearInterval(timer);\n          console.log(\"Bokeh: ERROR: Unable to run BokehJS code because BokehJS library is missing\");\n        }\n      }\n    }, 10, root)\n  }\n})(window);",
      "application/vnd.bokehjs_exec.v0+json": ""
     },
     "metadata": {
      "application/vnd.bokehjs_exec.v0+json": {
       "id": "21924"
      }
     },
     "output_type": "display_data"
    },
    {
     "data": {
      "text/html": [
       "\n",
       "\n",
       "\n",
       "\n",
       "\n",
       "\n",
       "  <div class=\"bk-root\" id=\"16edad17-9ecf-42f4-aee0-adae0f76cb44\" data-root-id=\"22681\"></div>\n"
      ]
     },
     "metadata": {},
     "output_type": "display_data"
    },
    {
     "data": {
      "application/javascript": "(function(root) {\n  function embed_document(root) {\n    \n  var docs_json = {\"fb0ae940-027d-4c51-8089-3f7d0935ff03\":{\"defs\":[],\"roots\":{\"references\":[{\"attributes\":{\"below\":[{\"id\":\"22690\"}],\"center\":[{\"id\":\"22693\"},{\"id\":\"22697\"},{\"id\":\"22728\"}],\"height\":400,\"left\":[{\"id\":\"22694\"}],\"renderers\":[{\"id\":\"22715\"},{\"id\":\"22733\"}],\"title\":{\"id\":\"22717\"},\"toolbar\":{\"id\":\"22705\"},\"width\":1000,\"x_range\":{\"id\":\"22682\"},\"x_scale\":{\"id\":\"22686\"},\"y_range\":{\"id\":\"22684\"},\"y_scale\":{\"id\":\"22688\"}},\"id\":\"22681\",\"subtype\":\"Figure\",\"type\":\"Plot\"},{\"attributes\":{\"axis\":{\"id\":\"22694\"},\"dimension\":1,\"ticker\":null},\"id\":\"22697\",\"type\":\"Grid\"},{\"attributes\":{\"data_source\":{\"id\":\"22712\"},\"glyph\":{\"id\":\"22713\"},\"hover_glyph\":null,\"muted_glyph\":null,\"nonselection_glyph\":{\"id\":\"22714\"},\"view\":{\"id\":\"22716\"}},\"id\":\"22715\",\"type\":\"GlyphRenderer\"},{\"attributes\":{},\"id\":\"22717\",\"type\":\"Title\"},{\"attributes\":{},\"id\":\"22695\",\"type\":\"BasicTicker\"},{\"attributes\":{\"source\":{\"id\":\"22712\"}},\"id\":\"22716\",\"type\":\"CDSView\"},{\"attributes\":{},\"id\":\"22688\",\"type\":\"LinearScale\"},{\"attributes\":{},\"id\":\"22719\",\"type\":\"AllLabels\"},{\"attributes\":{\"axis\":{\"id\":\"22690\"},\"ticker\":null},\"id\":\"22693\",\"type\":\"Grid\"},{\"attributes\":{\"line_color\":\"green\",\"x\":{\"field\":\"x\"},\"y\":{\"field\":\"y\"}},\"id\":\"22731\",\"type\":\"Line\"},{\"attributes\":{},\"id\":\"22720\",\"type\":\"BasicTickFormatter\"},{\"attributes\":{},\"id\":\"22691\",\"type\":\"BasicTicker\"},{\"attributes\":{},\"id\":\"22722\",\"type\":\"AllLabels\"},{\"attributes\":{\"formatter\":{\"id\":\"22723\"},\"major_label_policy\":{\"id\":\"22722\"},\"ticker\":{\"id\":\"22691\"}},\"id\":\"22690\",\"type\":\"LinearAxis\"},{\"attributes\":{},\"id\":\"22698\",\"type\":\"PanTool\"},{\"attributes\":{},\"id\":\"22723\",\"type\":\"BasicTickFormatter\"},{\"attributes\":{\"line_alpha\":0.1,\"line_color\":\"blue\",\"x\":{\"field\":\"x\"},\"y\":{\"field\":\"y\"}},\"id\":\"22714\",\"type\":\"Line\"},{\"attributes\":{},\"id\":\"22725\",\"type\":\"UnionRenderers\"},{\"attributes\":{},\"id\":\"22686\",\"type\":\"LinearScale\"},{\"attributes\":{},\"id\":\"22682\",\"type\":\"DataRange1d\"},{\"attributes\":{},\"id\":\"22726\",\"type\":\"Selection\"},{\"attributes\":{\"items\":[{\"id\":\"22729\"},{\"id\":\"22748\"}]},\"id\":\"22728\",\"type\":\"Legend\"},{\"attributes\":{\"overlay\":{\"id\":\"22704\"}},\"id\":\"22700\",\"type\":\"BoxZoomTool\"},{\"attributes\":{\"label\":{\"value\":\"Unvaccinated\"},\"renderers\":[{\"id\":\"22715\"}]},\"id\":\"22729\",\"type\":\"LegendItem\"},{\"attributes\":{},\"id\":\"22684\",\"type\":\"DataRange1d\"},{\"attributes\":{\"data\":{\"x\":[0,1,2,3,4,5,6,7,8,9,10,11,12,13,14,15,16],\"y\":{\"__ndarray__\":\"MzMzMzPDZEAAAAAAAHB8QM3MzMzMrIJAAAAAAABgh0AzMzMzMxOLQAAAAAAARIlAMzMzMzPrjEAzMzMzM6uNQAAAAAAAaI9AzczMzMy6kkAzMzMzM12dQGZmZmZml6JAmpmZmZlUpUAAAAAAAKafQGZmZmZmmKFAAAAAAAA7okCamZmZmV+cQA==\",\"dtype\":\"float64\",\"order\":\"little\",\"shape\":[17]}},\"selected\":{\"id\":\"22746\"},\"selection_policy\":{\"id\":\"22745\"}},\"id\":\"22730\",\"type\":\"ColumnDataSource\"},{\"attributes\":{},\"id\":\"22699\",\"type\":\"WheelZoomTool\"},{\"attributes\":{\"bottom_units\":\"screen\",\"fill_alpha\":0.5,\"fill_color\":\"lightgrey\",\"left_units\":\"screen\",\"level\":\"overlay\",\"line_alpha\":1.0,\"line_color\":\"black\",\"line_dash\":[4,4],\"line_width\":2,\"right_units\":\"screen\",\"syncable\":false,\"top_units\":\"screen\"},\"id\":\"22704\",\"type\":\"BoxAnnotation\"},{\"attributes\":{},\"id\":\"22702\",\"type\":\"ResetTool\"},{\"attributes\":{\"data_source\":{\"id\":\"22730\"},\"glyph\":{\"id\":\"22731\"},\"hover_glyph\":null,\"muted_glyph\":null,\"nonselection_glyph\":{\"id\":\"22732\"},\"view\":{\"id\":\"22734\"}},\"id\":\"22733\",\"type\":\"GlyphRenderer\"},{\"attributes\":{},\"id\":\"22746\",\"type\":\"Selection\"},{\"attributes\":{},\"id\":\"22701\",\"type\":\"SaveTool\"},{\"attributes\":{\"label\":{\"value\":\"Second dose, between 21 days and 6 months ago\"},\"renderers\":[{\"id\":\"22733\"}]},\"id\":\"22748\",\"type\":\"LegendItem\"},{\"attributes\":{\"data\":{\"x\":[0,1,2,3,4,5,6,7,8,9,10,11,12,13,14,15,16],\"y\":{\"__ndarray__\":\"MzMzMzOXo0AAAAAAgI20QJqZmZmZ16lAzczMzMz0oUAzMzMzM9uaQM3MzMzM1phAzczMzMwqmUBmZmZmZr6aQAAAAAAAAppAzczMzMxemUAAAAAAALCaQAAAAAAAWp1AAAAAAABQnEAAAAAAAKKVQM3MzMzMPpNAZmZmZmbSkkAzMzMzM0eLQA==\",\"dtype\":\"float64\",\"order\":\"little\",\"shape\":[17]}},\"selected\":{\"id\":\"22726\"},\"selection_policy\":{\"id\":\"22725\"}},\"id\":\"22712\",\"type\":\"ColumnDataSource\"},{\"attributes\":{\"active_multi\":null,\"tools\":[{\"id\":\"22698\"},{\"id\":\"22699\"},{\"id\":\"22700\"},{\"id\":\"22701\"},{\"id\":\"22702\"},{\"id\":\"22703\"}]},\"id\":\"22705\",\"type\":\"Toolbar\"},{\"attributes\":{\"line_alpha\":0.1,\"line_color\":\"green\",\"x\":{\"field\":\"x\"},\"y\":{\"field\":\"y\"}},\"id\":\"22732\",\"type\":\"Line\"},{\"attributes\":{},\"id\":\"22703\",\"type\":\"HelpTool\"},{\"attributes\":{\"formatter\":{\"id\":\"22720\"},\"major_label_policy\":{\"id\":\"22719\"},\"ticker\":{\"id\":\"22695\"}},\"id\":\"22694\",\"type\":\"LinearAxis\"},{\"attributes\":{\"line_color\":\"blue\",\"x\":{\"field\":\"x\"},\"y\":{\"field\":\"y\"}},\"id\":\"22713\",\"type\":\"Line\"},{\"attributes\":{},\"id\":\"22745\",\"type\":\"UnionRenderers\"},{\"attributes\":{\"source\":{\"id\":\"22730\"}},\"id\":\"22734\",\"type\":\"CDSView\"}],\"root_ids\":[\"22681\"]},\"title\":\"Bokeh Application\",\"version\":\"2.3.3\"}};\n  var render_items = [{\"docid\":\"fb0ae940-027d-4c51-8089-3f7d0935ff03\",\"root_ids\":[\"22681\"],\"roots\":{\"22681\":\"16edad17-9ecf-42f4-aee0-adae0f76cb44\"}}];\n  root.Bokeh.embed.embed_items_notebook(docs_json, render_items);\n\n  }\n  if (root.Bokeh !== undefined) {\n    embed_document(root);\n  } else {\n    var attempts = 0;\n    var timer = setInterval(function(root) {\n      if (root.Bokeh !== undefined) {\n        clearInterval(timer);\n        embed_document(root);\n      } else {\n        attempts++;\n        if (attempts > 100) {\n          clearInterval(timer);\n          console.log(\"Bokeh: ERROR: Unable to run BokehJS code because BokehJS library is missing\");\n        }\n      }\n    }, 10, root)\n  }\n})(window);",
      "application/vnd.bokehjs_exec.v0+json": ""
     },
     "metadata": {
      "application/vnd.bokehjs_exec.v0+json": {
       "id": "22681"
      }
     },
     "output_type": "display_data"
    },
    {
     "data": {
      "text/html": [
       "\n",
       "\n",
       "\n",
       "\n",
       "\n",
       "\n",
       "  <div class=\"bk-root\" id=\"11e83559-3888-45ff-b339-67ff65dce582\" data-root-id=\"23451\"></div>\n"
      ]
     },
     "metadata": {},
     "output_type": "display_data"
    },
    {
     "data": {
      "application/javascript": "(function(root) {\n  function embed_document(root) {\n    \n  var docs_json = {\"8e6ff38c-cfc5-4532-9570-3cb147c0029b\":{\"defs\":[],\"roots\":{\"references\":[{\"attributes\":{\"below\":[{\"id\":\"23460\"}],\"center\":[{\"id\":\"23463\"},{\"id\":\"23467\"},{\"id\":\"23498\"}],\"height\":400,\"left\":[{\"id\":\"23464\"}],\"renderers\":[{\"id\":\"23485\"},{\"id\":\"23503\"}],\"title\":{\"id\":\"23487\"},\"toolbar\":{\"id\":\"23475\"},\"width\":1000,\"x_range\":{\"id\":\"23452\"},\"x_scale\":{\"id\":\"23456\"},\"y_range\":{\"id\":\"23454\"},\"y_scale\":{\"id\":\"23458\"}},\"id\":\"23451\",\"subtype\":\"Figure\",\"type\":\"Plot\"},{\"attributes\":{\"data\":{\"x\":[0,1,2,3,4,5,6,7,8,9,10,11,12,13,14,15,16],\"y\":{\"__ndarray__\":\"MzMzMzOXo0AAAAAAgI20QJqZmZmZ16lAzczMzMz0oUAzMzMzM9uaQM3MzMzM1phAzczMzMwqmUBmZmZmZr6aQAAAAAAAAppAzczMzMxemUAAAAAAALCaQAAAAAAAWp1AAAAAAABQnEAAAAAAAKKVQM3MzMzMPpNAZmZmZmbSkkAzMzMzM0eLQA==\",\"dtype\":\"float64\",\"order\":\"little\",\"shape\":[17]}},\"selected\":{\"id\":\"23496\"},\"selection_policy\":{\"id\":\"23495\"}},\"id\":\"23482\",\"type\":\"ColumnDataSource\"},{\"attributes\":{},\"id\":\"23516\",\"type\":\"Selection\"},{\"attributes\":{},\"id\":\"23515\",\"type\":\"UnionRenderers\"},{\"attributes\":{\"active_multi\":null,\"tools\":[{\"id\":\"23468\"},{\"id\":\"23469\"},{\"id\":\"23470\"},{\"id\":\"23471\"},{\"id\":\"23472\"},{\"id\":\"23473\"}]},\"id\":\"23475\",\"type\":\"Toolbar\"},{\"attributes\":{\"label\":{\"value\":\"Second dose, at least 6 months ago\"},\"renderers\":[{\"id\":\"23503\"}]},\"id\":\"23518\",\"type\":\"LegendItem\"},{\"attributes\":{},\"id\":\"23471\",\"type\":\"SaveTool\"},{\"attributes\":{\"data\":{\"x\":[0,1,2,3,4,5,6,7,8,9,10,11,12,13,14,15,16],\"y\":[0,0,0,0,0,0,547.8,740.0,1095.0,1765.9,2813.4,4784.6,4877.1,3208.8,2667.1,2355.6,1703.7]},\"selected\":{\"id\":\"23516\"},\"selection_policy\":{\"id\":\"23515\"}},\"id\":\"23500\",\"type\":\"ColumnDataSource\"},{\"attributes\":{},\"id\":\"23468\",\"type\":\"PanTool\"},{\"attributes\":{\"label\":{\"value\":\"Unvaccinated\"},\"renderers\":[{\"id\":\"23485\"}]},\"id\":\"23499\",\"type\":\"LegendItem\"},{\"attributes\":{\"line_color\":\"blue\",\"x\":{\"field\":\"x\"},\"y\":{\"field\":\"y\"}},\"id\":\"23483\",\"type\":\"Line\"},{\"attributes\":{\"bottom_units\":\"screen\",\"fill_alpha\":0.5,\"fill_color\":\"lightgrey\",\"left_units\":\"screen\",\"level\":\"overlay\",\"line_alpha\":1.0,\"line_color\":\"black\",\"line_dash\":[4,4],\"line_width\":2,\"right_units\":\"screen\",\"syncable\":false,\"top_units\":\"screen\"},\"id\":\"23474\",\"type\":\"BoxAnnotation\"},{\"attributes\":{\"axis\":{\"id\":\"23464\"},\"dimension\":1,\"ticker\":null},\"id\":\"23467\",\"type\":\"Grid\"},{\"attributes\":{},\"id\":\"23487\",\"type\":\"Title\"},{\"attributes\":{},\"id\":\"23465\",\"type\":\"BasicTicker\"},{\"attributes\":{\"formatter\":{\"id\":\"23490\"},\"major_label_policy\":{\"id\":\"23489\"},\"ticker\":{\"id\":\"23465\"}},\"id\":\"23464\",\"type\":\"LinearAxis\"},{\"attributes\":{\"source\":{\"id\":\"23482\"}},\"id\":\"23486\",\"type\":\"CDSView\"},{\"attributes\":{\"axis\":{\"id\":\"23460\"},\"ticker\":null},\"id\":\"23463\",\"type\":\"Grid\"},{\"attributes\":{\"data_source\":{\"id\":\"23482\"},\"glyph\":{\"id\":\"23483\"},\"hover_glyph\":null,\"muted_glyph\":null,\"nonselection_glyph\":{\"id\":\"23484\"},\"view\":{\"id\":\"23486\"}},\"id\":\"23485\",\"type\":\"GlyphRenderer\"},{\"attributes\":{},\"id\":\"23489\",\"type\":\"AllLabels\"},{\"attributes\":{},\"id\":\"23461\",\"type\":\"BasicTicker\"},{\"attributes\":{},\"id\":\"23490\",\"type\":\"BasicTickFormatter\"},{\"attributes\":{\"formatter\":{\"id\":\"23493\"},\"major_label_policy\":{\"id\":\"23492\"},\"ticker\":{\"id\":\"23461\"}},\"id\":\"23460\",\"type\":\"LinearAxis\"},{\"attributes\":{},\"id\":\"23492\",\"type\":\"AllLabels\"},{\"attributes\":{},\"id\":\"23458\",\"type\":\"LinearScale\"},{\"attributes\":{},\"id\":\"23473\",\"type\":\"HelpTool\"},{\"attributes\":{},\"id\":\"23493\",\"type\":\"BasicTickFormatter\"},{\"attributes\":{},\"id\":\"23456\",\"type\":\"LinearScale\"},{\"attributes\":{},\"id\":\"23452\",\"type\":\"DataRange1d\"},{\"attributes\":{},\"id\":\"23495\",\"type\":\"UnionRenderers\"},{\"attributes\":{\"line_alpha\":0.1,\"line_color\":\"blue\",\"x\":{\"field\":\"x\"},\"y\":{\"field\":\"y\"}},\"id\":\"23484\",\"type\":\"Line\"},{\"attributes\":{},\"id\":\"23472\",\"type\":\"ResetTool\"},{\"attributes\":{\"data_source\":{\"id\":\"23500\"},\"glyph\":{\"id\":\"23501\"},\"hover_glyph\":null,\"muted_glyph\":null,\"nonselection_glyph\":{\"id\":\"23502\"},\"view\":{\"id\":\"23504\"}},\"id\":\"23503\",\"type\":\"GlyphRenderer\"},{\"attributes\":{\"line_color\":\"green\",\"x\":{\"field\":\"x\"},\"y\":{\"field\":\"y\"}},\"id\":\"23501\",\"type\":\"Line\"},{\"attributes\":{},\"id\":\"23454\",\"type\":\"DataRange1d\"},{\"attributes\":{\"items\":[{\"id\":\"23499\"},{\"id\":\"23518\"}]},\"id\":\"23498\",\"type\":\"Legend\"},{\"attributes\":{\"source\":{\"id\":\"23500\"}},\"id\":\"23504\",\"type\":\"CDSView\"},{\"attributes\":{\"overlay\":{\"id\":\"23474\"}},\"id\":\"23470\",\"type\":\"BoxZoomTool\"},{\"attributes\":{\"line_alpha\":0.1,\"line_color\":\"green\",\"x\":{\"field\":\"x\"},\"y\":{\"field\":\"y\"}},\"id\":\"23502\",\"type\":\"Line\"},{\"attributes\":{},\"id\":\"23469\",\"type\":\"WheelZoomTool\"},{\"attributes\":{},\"id\":\"23496\",\"type\":\"Selection\"}],\"root_ids\":[\"23451\"]},\"title\":\"Bokeh Application\",\"version\":\"2.3.3\"}};\n  var render_items = [{\"docid\":\"8e6ff38c-cfc5-4532-9570-3cb147c0029b\",\"root_ids\":[\"23451\"],\"roots\":{\"23451\":\"11e83559-3888-45ff-b339-67ff65dce582\"}}];\n  root.Bokeh.embed.embed_items_notebook(docs_json, render_items);\n\n  }\n  if (root.Bokeh !== undefined) {\n    embed_document(root);\n  } else {\n    var attempts = 0;\n    var timer = setInterval(function(root) {\n      if (root.Bokeh !== undefined) {\n        clearInterval(timer);\n        embed_document(root);\n      } else {\n        attempts++;\n        if (attempts > 100) {\n          clearInterval(timer);\n          console.log(\"Bokeh: ERROR: Unable to run BokehJS code because BokehJS library is missing\");\n        }\n      }\n    }, 10, root)\n  }\n})(window);",
      "application/vnd.bokehjs_exec.v0+json": ""
     },
     "metadata": {
      "application/vnd.bokehjs_exec.v0+json": {
       "id": "23451"
      }
     },
     "output_type": "display_data"
    },
    {
     "data": {
      "text/html": [
       "\n",
       "\n",
       "\n",
       "\n",
       "\n",
       "\n",
       "  <div class=\"bk-root\" id=\"93f5cbd3-a87e-4eff-b0ae-10772c204fa7\" data-root-id=\"24234\"></div>\n"
      ]
     },
     "metadata": {},
     "output_type": "display_data"
    },
    {
     "data": {
      "application/javascript": "(function(root) {\n  function embed_document(root) {\n    \n  var docs_json = {\"1b852c8d-fa29-4629-bb76-db4fa16909fd\":{\"defs\":[],\"roots\":{\"references\":[{\"attributes\":{\"below\":[{\"id\":\"24243\"}],\"center\":[{\"id\":\"24246\"},{\"id\":\"24250\"},{\"id\":\"24281\"}],\"height\":400,\"left\":[{\"id\":\"24247\"}],\"renderers\":[{\"id\":\"24268\"},{\"id\":\"24286\"}],\"title\":{\"id\":\"24270\"},\"toolbar\":{\"id\":\"24258\"},\"width\":1000,\"x_range\":{\"id\":\"24235\"},\"x_scale\":{\"id\":\"24239\"},\"y_range\":{\"id\":\"24237\"},\"y_scale\":{\"id\":\"24241\"}},\"id\":\"24234\",\"subtype\":\"Figure\",\"type\":\"Plot\"},{\"attributes\":{\"overlay\":{\"id\":\"24257\"}},\"id\":\"24253\",\"type\":\"BoxZoomTool\"},{\"attributes\":{\"line_color\":\"green\",\"x\":{\"field\":\"x\"},\"y\":{\"field\":\"y\"}},\"id\":\"24284\",\"type\":\"Line\"},{\"attributes\":{},\"id\":\"24254\",\"type\":\"SaveTool\"},{\"attributes\":{\"label\":{\"value\":\"Third dose or booster, less than 21 days ago\"},\"renderers\":[{\"id\":\"24286\"}]},\"id\":\"24301\",\"type\":\"LegendItem\"},{\"attributes\":{\"line_alpha\":0.1,\"line_color\":\"green\",\"x\":{\"field\":\"x\"},\"y\":{\"field\":\"y\"}},\"id\":\"24285\",\"type\":\"Line\"},{\"attributes\":{},\"id\":\"24279\",\"type\":\"Selection\"},{\"attributes\":{},\"id\":\"24256\",\"type\":\"HelpTool\"},{\"attributes\":{\"line_color\":\"blue\",\"x\":{\"field\":\"x\"},\"y\":{\"field\":\"y\"}},\"id\":\"24266\",\"type\":\"Line\"},{\"attributes\":{\"data\":{\"x\":[0,1,2,3,4,5,6,7,8,9,10,11,12,13,14,15,16],\"y\":[0,0,0,0,0,0,0,0,222.9,406.2,588.8,1103.6,1779.7,1965.4,1955.3,1522.5,2056.0]},\"selected\":{\"id\":\"24299\"},\"selection_policy\":{\"id\":\"24298\"}},\"id\":\"24283\",\"type\":\"ColumnDataSource\"},{\"attributes\":{},\"id\":\"24255\",\"type\":\"ResetTool\"},{\"attributes\":{\"data\":{\"x\":[0,1,2,3,4,5,6,7,8,9,10,11,12,13,14,15,16],\"y\":{\"__ndarray__\":\"MzMzMzOXo0AAAAAAgI20QJqZmZmZ16lAzczMzMz0oUAzMzMzM9uaQM3MzMzM1phAzczMzMwqmUBmZmZmZr6aQAAAAAAAAppAzczMzMxemUAAAAAAALCaQAAAAAAAWp1AAAAAAABQnEAAAAAAAKKVQM3MzMzMPpNAZmZmZmbSkkAzMzMzM0eLQA==\",\"dtype\":\"float64\",\"order\":\"little\",\"shape\":[17]}},\"selected\":{\"id\":\"24279\"},\"selection_policy\":{\"id\":\"24278\"}},\"id\":\"24265\",\"type\":\"ColumnDataSource\"},{\"attributes\":{},\"id\":\"24252\",\"type\":\"WheelZoomTool\"},{\"attributes\":{\"data_source\":{\"id\":\"24283\"},\"glyph\":{\"id\":\"24284\"},\"hover_glyph\":null,\"muted_glyph\":null,\"nonselection_glyph\":{\"id\":\"24285\"},\"view\":{\"id\":\"24287\"}},\"id\":\"24286\",\"type\":\"GlyphRenderer\"},{\"attributes\":{},\"id\":\"24237\",\"type\":\"DataRange1d\"},{\"attributes\":{\"active_multi\":null,\"tools\":[{\"id\":\"24251\"},{\"id\":\"24252\"},{\"id\":\"24253\"},{\"id\":\"24254\"},{\"id\":\"24255\"},{\"id\":\"24256\"}]},\"id\":\"24258\",\"type\":\"Toolbar\"},{\"attributes\":{\"label\":{\"value\":\"Unvaccinated\"},\"renderers\":[{\"id\":\"24268\"}]},\"id\":\"24282\",\"type\":\"LegendItem\"},{\"attributes\":{\"source\":{\"id\":\"24283\"}},\"id\":\"24287\",\"type\":\"CDSView\"},{\"attributes\":{},\"id\":\"24298\",\"type\":\"UnionRenderers\"},{\"attributes\":{\"line_alpha\":0.1,\"line_color\":\"blue\",\"x\":{\"field\":\"x\"},\"y\":{\"field\":\"y\"}},\"id\":\"24267\",\"type\":\"Line\"},{\"attributes\":{},\"id\":\"24248\",\"type\":\"BasicTicker\"},{\"attributes\":{\"bottom_units\":\"screen\",\"fill_alpha\":0.5,\"fill_color\":\"lightgrey\",\"left_units\":\"screen\",\"level\":\"overlay\",\"line_alpha\":1.0,\"line_color\":\"black\",\"line_dash\":[4,4],\"line_width\":2,\"right_units\":\"screen\",\"syncable\":false,\"top_units\":\"screen\"},\"id\":\"24257\",\"type\":\"BoxAnnotation\"},{\"attributes\":{\"axis\":{\"id\":\"24247\"},\"dimension\":1,\"ticker\":null},\"id\":\"24250\",\"type\":\"Grid\"},{\"attributes\":{},\"id\":\"24270\",\"type\":\"Title\"},{\"attributes\":{\"data_source\":{\"id\":\"24265\"},\"glyph\":{\"id\":\"24266\"},\"hover_glyph\":null,\"muted_glyph\":null,\"nonselection_glyph\":{\"id\":\"24267\"},\"view\":{\"id\":\"24269\"}},\"id\":\"24268\",\"type\":\"GlyphRenderer\"},{\"attributes\":{\"formatter\":{\"id\":\"24273\"},\"major_label_policy\":{\"id\":\"24272\"},\"ticker\":{\"id\":\"24248\"}},\"id\":\"24247\",\"type\":\"LinearAxis\"},{\"attributes\":{\"source\":{\"id\":\"24265\"}},\"id\":\"24269\",\"type\":\"CDSView\"},{\"attributes\":{\"axis\":{\"id\":\"24243\"},\"ticker\":null},\"id\":\"24246\",\"type\":\"Grid\"},{\"attributes\":{},\"id\":\"24244\",\"type\":\"BasicTicker\"},{\"attributes\":{},\"id\":\"24235\",\"type\":\"DataRange1d\"},{\"attributes\":{},\"id\":\"24272\",\"type\":\"AllLabels\"},{\"attributes\":{},\"id\":\"24278\",\"type\":\"UnionRenderers\"},{\"attributes\":{\"formatter\":{\"id\":\"24276\"},\"major_label_policy\":{\"id\":\"24275\"},\"ticker\":{\"id\":\"24244\"}},\"id\":\"24243\",\"type\":\"LinearAxis\"},{\"attributes\":{},\"id\":\"24273\",\"type\":\"BasicTickFormatter\"},{\"attributes\":{},\"id\":\"24251\",\"type\":\"PanTool\"},{\"attributes\":{},\"id\":\"24241\",\"type\":\"LinearScale\"},{\"attributes\":{},\"id\":\"24276\",\"type\":\"BasicTickFormatter\"},{\"attributes\":{},\"id\":\"24239\",\"type\":\"LinearScale\"},{\"attributes\":{},\"id\":\"24275\",\"type\":\"AllLabels\"},{\"attributes\":{\"items\":[{\"id\":\"24282\"},{\"id\":\"24301\"}]},\"id\":\"24281\",\"type\":\"Legend\"},{\"attributes\":{},\"id\":\"24299\",\"type\":\"Selection\"}],\"root_ids\":[\"24234\"]},\"title\":\"Bokeh Application\",\"version\":\"2.3.3\"}};\n  var render_items = [{\"docid\":\"1b852c8d-fa29-4629-bb76-db4fa16909fd\",\"root_ids\":[\"24234\"],\"roots\":{\"24234\":\"93f5cbd3-a87e-4eff-b0ae-10772c204fa7\"}}];\n  root.Bokeh.embed.embed_items_notebook(docs_json, render_items);\n\n  }\n  if (root.Bokeh !== undefined) {\n    embed_document(root);\n  } else {\n    var attempts = 0;\n    var timer = setInterval(function(root) {\n      if (root.Bokeh !== undefined) {\n        clearInterval(timer);\n        embed_document(root);\n      } else {\n        attempts++;\n        if (attempts > 100) {\n          clearInterval(timer);\n          console.log(\"Bokeh: ERROR: Unable to run BokehJS code because BokehJS library is missing\");\n        }\n      }\n    }, 10, root)\n  }\n})(window);",
      "application/vnd.bokehjs_exec.v0+json": ""
     },
     "metadata": {
      "application/vnd.bokehjs_exec.v0+json": {
       "id": "24234"
      }
     },
     "output_type": "display_data"
    },
    {
     "data": {
      "text/html": [
       "\n",
       "\n",
       "\n",
       "\n",
       "\n",
       "\n",
       "  <div class=\"bk-root\" id=\"3f9402aa-cb12-4eed-bee6-1e4ca2047499\" data-root-id=\"25030\"></div>\n"
      ]
     },
     "metadata": {},
     "output_type": "display_data"
    },
    {
     "data": {
      "application/javascript": "(function(root) {\n  function embed_document(root) {\n    \n  var docs_json = {\"4d39a76e-847d-4456-9894-66051920ecb8\":{\"defs\":[],\"roots\":{\"references\":[{\"attributes\":{\"below\":[{\"id\":\"25039\"}],\"center\":[{\"id\":\"25042\"},{\"id\":\"25046\"},{\"id\":\"25077\"}],\"height\":400,\"left\":[{\"id\":\"25043\"}],\"renderers\":[{\"id\":\"25064\"},{\"id\":\"25082\"}],\"title\":{\"id\":\"25066\"},\"toolbar\":{\"id\":\"25054\"},\"width\":1000,\"x_range\":{\"id\":\"25031\"},\"x_scale\":{\"id\":\"25035\"},\"y_range\":{\"id\":\"25033\"},\"y_scale\":{\"id\":\"25037\"}},\"id\":\"25030\",\"subtype\":\"Figure\",\"type\":\"Plot\"},{\"attributes\":{\"data\":{\"x\":[0,1,2,3,4,5,6,7,8,9,10,11,12,13,14,15,16],\"y\":[0,0,0,0,0,0,0,0,0,508.3,717.8,852.7,935.9,924.6,980.1,966.1,797.0]},\"selected\":{\"id\":\"25095\"},\"selection_policy\":{\"id\":\"25094\"}},\"id\":\"25079\",\"type\":\"ColumnDataSource\"},{\"attributes\":{},\"id\":\"25047\",\"type\":\"PanTool\"},{\"attributes\":{},\"id\":\"25094\",\"type\":\"UnionRenderers\"},{\"attributes\":{},\"id\":\"25048\",\"type\":\"WheelZoomTool\"},{\"attributes\":{\"data\":{\"x\":[0,1,2,3,4,5,6,7,8,9,10,11,12,13,14,15,16],\"y\":{\"__ndarray__\":\"MzMzMzOXo0AAAAAAgI20QJqZmZmZ16lAzczMzMz0oUAzMzMzM9uaQM3MzMzM1phAzczMzMwqmUBmZmZmZr6aQAAAAAAAAppAzczMzMxemUAAAAAAALCaQAAAAAAAWp1AAAAAAABQnEAAAAAAAKKVQM3MzMzMPpNAZmZmZmbSkkAzMzMzM0eLQA==\",\"dtype\":\"float64\",\"order\":\"little\",\"shape\":[17]}},\"selected\":{\"id\":\"25075\"},\"selection_policy\":{\"id\":\"25074\"}},\"id\":\"25061\",\"type\":\"ColumnDataSource\"},{\"attributes\":{\"overlay\":{\"id\":\"25053\"}},\"id\":\"25049\",\"type\":\"BoxZoomTool\"},{\"attributes\":{},\"id\":\"25068\",\"type\":\"AllLabels\"},{\"attributes\":{\"data_source\":{\"id\":\"25079\"},\"glyph\":{\"id\":\"25080\"},\"hover_glyph\":null,\"muted_glyph\":null,\"nonselection_glyph\":{\"id\":\"25081\"},\"view\":{\"id\":\"25083\"}},\"id\":\"25082\",\"type\":\"GlyphRenderer\"},{\"attributes\":{\"line_color\":\"green\",\"x\":{\"field\":\"x\"},\"y\":{\"field\":\"y\"}},\"id\":\"25080\",\"type\":\"Line\"},{\"attributes\":{},\"id\":\"25050\",\"type\":\"SaveTool\"},{\"attributes\":{\"source\":{\"id\":\"25079\"}},\"id\":\"25083\",\"type\":\"CDSView\"},{\"attributes\":{\"line_alpha\":0.1,\"line_color\":\"green\",\"x\":{\"field\":\"x\"},\"y\":{\"field\":\"y\"}},\"id\":\"25081\",\"type\":\"Line\"},{\"attributes\":{},\"id\":\"25051\",\"type\":\"ResetTool\"},{\"attributes\":{},\"id\":\"25031\",\"type\":\"DataRange1d\"},{\"attributes\":{},\"id\":\"25052\",\"type\":\"HelpTool\"},{\"attributes\":{},\"id\":\"25095\",\"type\":\"Selection\"},{\"attributes\":{},\"id\":\"25035\",\"type\":\"LinearScale\"},{\"attributes\":{\"active_multi\":null,\"tools\":[{\"id\":\"25047\"},{\"id\":\"25048\"},{\"id\":\"25049\"},{\"id\":\"25050\"},{\"id\":\"25051\"},{\"id\":\"25052\"}]},\"id\":\"25054\",\"type\":\"Toolbar\"},{\"attributes\":{\"label\":{\"value\":\"Third dose or booster, at least 21 days ago\"},\"renderers\":[{\"id\":\"25082\"}]},\"id\":\"25097\",\"type\":\"LegendItem\"},{\"attributes\":{\"line_color\":\"blue\",\"x\":{\"field\":\"x\"},\"y\":{\"field\":\"y\"}},\"id\":\"25062\",\"type\":\"Line\"},{\"attributes\":{},\"id\":\"25074\",\"type\":\"UnionRenderers\"},{\"attributes\":{\"axis\":{\"id\":\"25039\"},\"ticker\":null},\"id\":\"25042\",\"type\":\"Grid\"},{\"attributes\":{},\"id\":\"25072\",\"type\":\"BasicTickFormatter\"},{\"attributes\":{},\"id\":\"25037\",\"type\":\"LinearScale\"},{\"attributes\":{},\"id\":\"25075\",\"type\":\"Selection\"},{\"attributes\":{},\"id\":\"25044\",\"type\":\"BasicTicker\"},{\"attributes\":{\"bottom_units\":\"screen\",\"fill_alpha\":0.5,\"fill_color\":\"lightgrey\",\"left_units\":\"screen\",\"level\":\"overlay\",\"line_alpha\":1.0,\"line_color\":\"black\",\"line_dash\":[4,4],\"line_width\":2,\"right_units\":\"screen\",\"syncable\":false,\"top_units\":\"screen\"},\"id\":\"25053\",\"type\":\"BoxAnnotation\"},{\"attributes\":{},\"id\":\"25033\",\"type\":\"DataRange1d\"},{\"attributes\":{},\"id\":\"25066\",\"type\":\"Title\"},{\"attributes\":{\"axis\":{\"id\":\"25043\"},\"dimension\":1,\"ticker\":null},\"id\":\"25046\",\"type\":\"Grid\"},{\"attributes\":{\"line_alpha\":0.1,\"line_color\":\"blue\",\"x\":{\"field\":\"x\"},\"y\":{\"field\":\"y\"}},\"id\":\"25063\",\"type\":\"Line\"},{\"attributes\":{\"source\":{\"id\":\"25061\"}},\"id\":\"25065\",\"type\":\"CDSView\"},{\"attributes\":{\"formatter\":{\"id\":\"25069\"},\"major_label_policy\":{\"id\":\"25068\"},\"ticker\":{\"id\":\"25044\"}},\"id\":\"25043\",\"type\":\"LinearAxis\"},{\"attributes\":{\"data_source\":{\"id\":\"25061\"},\"glyph\":{\"id\":\"25062\"},\"hover_glyph\":null,\"muted_glyph\":null,\"nonselection_glyph\":{\"id\":\"25063\"},\"view\":{\"id\":\"25065\"}},\"id\":\"25064\",\"type\":\"GlyphRenderer\"},{\"attributes\":{},\"id\":\"25069\",\"type\":\"BasicTickFormatter\"},{\"attributes\":{\"formatter\":{\"id\":\"25072\"},\"major_label_policy\":{\"id\":\"25071\"},\"ticker\":{\"id\":\"25040\"}},\"id\":\"25039\",\"type\":\"LinearAxis\"},{\"attributes\":{},\"id\":\"25071\",\"type\":\"AllLabels\"},{\"attributes\":{\"items\":[{\"id\":\"25078\"},{\"id\":\"25097\"}]},\"id\":\"25077\",\"type\":\"Legend\"},{\"attributes\":{},\"id\":\"25040\",\"type\":\"BasicTicker\"},{\"attributes\":{\"label\":{\"value\":\"Unvaccinated\"},\"renderers\":[{\"id\":\"25064\"}]},\"id\":\"25078\",\"type\":\"LegendItem\"}],\"root_ids\":[\"25030\"]},\"title\":\"Bokeh Application\",\"version\":\"2.3.3\"}};\n  var render_items = [{\"docid\":\"4d39a76e-847d-4456-9894-66051920ecb8\",\"root_ids\":[\"25030\"],\"roots\":{\"25030\":\"3f9402aa-cb12-4eed-bee6-1e4ca2047499\"}}];\n  root.Bokeh.embed.embed_items_notebook(docs_json, render_items);\n\n  }\n  if (root.Bokeh !== undefined) {\n    embed_document(root);\n  } else {\n    var attempts = 0;\n    var timer = setInterval(function(root) {\n      if (root.Bokeh !== undefined) {\n        clearInterval(timer);\n        embed_document(root);\n      } else {\n        attempts++;\n        if (attempts > 100) {\n          clearInterval(timer);\n          console.log(\"Bokeh: ERROR: Unable to run BokehJS code because BokehJS library is missing\");\n        }\n      }\n    }, 10, root)\n  }\n})(window);",
      "application/vnd.bokehjs_exec.v0+json": ""
     },
     "metadata": {
      "application/vnd.bokehjs_exec.v0+json": {
       "id": "25030"
      }
     },
     "output_type": "display_data"
    },
    {
     "data": {
      "text/html": [
       "\n",
       "\n",
       "\n",
       "\n",
       "\n",
       "\n",
       "  <div class=\"bk-root\" id=\"2a1af09d-3b43-4804-ae14-e7ee6db1cd9a\" data-root-id=\"25839\"></div>\n"
      ]
     },
     "metadata": {},
     "output_type": "display_data"
    },
    {
     "data": {
      "application/javascript": "(function(root) {\n  function embed_document(root) {\n    \n  var docs_json = {\"88509e6c-3fa9-43cc-aa21-4c1c3f0c786e\":{\"defs\":[],\"roots\":{\"references\":[{\"attributes\":{\"below\":[{\"id\":\"25848\"}],\"center\":[{\"id\":\"25851\"},{\"id\":\"25855\"},{\"id\":\"25886\"}],\"height\":400,\"left\":[{\"id\":\"25852\"}],\"renderers\":[{\"id\":\"25873\"},{\"id\":\"25891\"}],\"title\":{\"id\":\"25875\"},\"toolbar\":{\"id\":\"25863\"},\"width\":1000,\"x_range\":{\"id\":\"25840\"},\"x_scale\":{\"id\":\"25844\"},\"y_range\":{\"id\":\"25842\"},\"y_scale\":{\"id\":\"25846\"}},\"id\":\"25839\",\"subtype\":\"Figure\",\"type\":\"Plot\"},{\"attributes\":{},\"id\":\"25853\",\"type\":\"BasicTicker\"},{\"attributes\":{},\"id\":\"25877\",\"type\":\"AllLabels\"},{\"attributes\":{\"axis\":{\"id\":\"25852\"},\"dimension\":1,\"ticker\":null},\"id\":\"25855\",\"type\":\"Grid\"},{\"attributes\":{},\"id\":\"25878\",\"type\":\"BasicTickFormatter\"},{\"attributes\":{\"data_source\":{\"id\":\"25870\"},\"glyph\":{\"id\":\"25871\"},\"hover_glyph\":null,\"muted_glyph\":null,\"nonselection_glyph\":{\"id\":\"25872\"},\"view\":{\"id\":\"25874\"}},\"id\":\"25873\",\"type\":\"GlyphRenderer\"},{\"attributes\":{},\"id\":\"25856\",\"type\":\"PanTool\"},{\"attributes\":{},\"id\":\"25880\",\"type\":\"AllLabels\"},{\"attributes\":{\"axis\":{\"id\":\"25848\"},\"ticker\":null},\"id\":\"25851\",\"type\":\"Grid\"},{\"attributes\":{},\"id\":\"25875\",\"type\":\"Title\"},{\"attributes\":{},\"id\":\"25884\",\"type\":\"Selection\"},{\"attributes\":{},\"id\":\"25883\",\"type\":\"UnionRenderers\"},{\"attributes\":{},\"id\":\"25881\",\"type\":\"BasicTickFormatter\"},{\"attributes\":{\"formatter\":{\"id\":\"25878\"},\"major_label_policy\":{\"id\":\"25877\"},\"ticker\":{\"id\":\"25853\"}},\"id\":\"25852\",\"type\":\"LinearAxis\"},{\"attributes\":{},\"id\":\"25857\",\"type\":\"WheelZoomTool\"},{\"attributes\":{\"items\":[{\"id\":\"25887\"},{\"id\":\"25906\"}]},\"id\":\"25886\",\"type\":\"Legend\"},{\"attributes\":{\"overlay\":{\"id\":\"25862\"}},\"id\":\"25858\",\"type\":\"BoxZoomTool\"},{\"attributes\":{\"data\":{\"x\":[0,1,2,3,4,5,6,7,8,9,10,11,12,13,14,15,16],\"y\":{\"__ndarray__\":\"MzMzMzOPk0CamZmZmU2MQJqZmZmZLYxAZmZmZmYii0DNzMzMzCyMQDMzMzMzd4tAzczMzMyEjUAAAAAAAHSNQGZmZmZm8o5AzczMzMxakECamZmZmceQQM3MzMzMmpFAAAAAAADykECamZmZmb2PQM3MzMzMBI9AZmZmZmaGj0DNzMzMzLSJQA==\",\"dtype\":\"float64\",\"order\":\"little\",\"shape\":[17]}},\"selected\":{\"id\":\"25904\"},\"selection_policy\":{\"id\":\"25903\"}},\"id\":\"25888\",\"type\":\"ColumnDataSource\"},{\"attributes\":{\"active_multi\":null,\"tools\":[{\"id\":\"25856\"},{\"id\":\"25857\"},{\"id\":\"25858\"},{\"id\":\"25859\"},{\"id\":\"25860\"},{\"id\":\"25861\"}]},\"id\":\"25863\",\"type\":\"Toolbar\"},{\"attributes\":{\"label\":{\"value\":\"Unvaccinated\"},\"renderers\":[{\"id\":\"25873\"}]},\"id\":\"25887\",\"type\":\"LegendItem\"},{\"attributes\":{},\"id\":\"25861\",\"type\":\"HelpTool\"},{\"attributes\":{\"formatter\":{\"id\":\"25881\"},\"major_label_policy\":{\"id\":\"25880\"},\"ticker\":{\"id\":\"25849\"}},\"id\":\"25848\",\"type\":\"LinearAxis\"},{\"attributes\":{},\"id\":\"25903\",\"type\":\"UnionRenderers\"},{\"attributes\":{},\"id\":\"25860\",\"type\":\"ResetTool\"},{\"attributes\":{},\"id\":\"25849\",\"type\":\"BasicTicker\"},{\"attributes\":{},\"id\":\"25859\",\"type\":\"SaveTool\"},{\"attributes\":{},\"id\":\"25842\",\"type\":\"DataRange1d\"},{\"attributes\":{\"source\":{\"id\":\"25870\"}},\"id\":\"25874\",\"type\":\"CDSView\"},{\"attributes\":{},\"id\":\"25846\",\"type\":\"LinearScale\"},{\"attributes\":{\"label\":{\"value\":\"Ever vaccinated\"},\"renderers\":[{\"id\":\"25891\"}]},\"id\":\"25906\",\"type\":\"LegendItem\"},{\"attributes\":{\"data_source\":{\"id\":\"25888\"},\"glyph\":{\"id\":\"25889\"},\"hover_glyph\":null,\"muted_glyph\":null,\"nonselection_glyph\":{\"id\":\"25890\"},\"view\":{\"id\":\"25892\"}},\"id\":\"25891\",\"type\":\"GlyphRenderer\"},{\"attributes\":{\"data\":{\"x\":[0,1,2,3,4,5,6,7,8,9,10,11,12,13,14,15,16],\"y\":{\"__ndarray__\":\"MzMzMzOXo0AAAAAAgI20QJqZmZmZ16lAzczMzMz0oUAzMzMzM9uaQM3MzMzM1phAzczMzMwqmUBmZmZmZr6aQAAAAAAAAppAzczMzMxemUAAAAAAALCaQAAAAAAAWp1AAAAAAABQnEAAAAAAAKKVQM3MzMzMPpNAZmZmZmbSkkAzMzMzM0eLQA==\",\"dtype\":\"float64\",\"order\":\"little\",\"shape\":[17]}},\"selected\":{\"id\":\"25884\"},\"selection_policy\":{\"id\":\"25883\"}},\"id\":\"25870\",\"type\":\"ColumnDataSource\"},{\"attributes\":{},\"id\":\"25840\",\"type\":\"DataRange1d\"},{\"attributes\":{\"source\":{\"id\":\"25888\"}},\"id\":\"25892\",\"type\":\"CDSView\"},{\"attributes\":{\"line_color\":\"blue\",\"x\":{\"field\":\"x\"},\"y\":{\"field\":\"y\"}},\"id\":\"25871\",\"type\":\"Line\"},{\"attributes\":{},\"id\":\"25844\",\"type\":\"LinearScale\"},{\"attributes\":{},\"id\":\"25904\",\"type\":\"Selection\"},{\"attributes\":{\"bottom_units\":\"screen\",\"fill_alpha\":0.5,\"fill_color\":\"lightgrey\",\"left_units\":\"screen\",\"level\":\"overlay\",\"line_alpha\":1.0,\"line_color\":\"black\",\"line_dash\":[4,4],\"line_width\":2,\"right_units\":\"screen\",\"syncable\":false,\"top_units\":\"screen\"},\"id\":\"25862\",\"type\":\"BoxAnnotation\"},{\"attributes\":{\"line_color\":\"green\",\"x\":{\"field\":\"x\"},\"y\":{\"field\":\"y\"}},\"id\":\"25889\",\"type\":\"Line\"},{\"attributes\":{\"line_alpha\":0.1,\"line_color\":\"green\",\"x\":{\"field\":\"x\"},\"y\":{\"field\":\"y\"}},\"id\":\"25890\",\"type\":\"Line\"},{\"attributes\":{\"line_alpha\":0.1,\"line_color\":\"blue\",\"x\":{\"field\":\"x\"},\"y\":{\"field\":\"y\"}},\"id\":\"25872\",\"type\":\"Line\"}],\"root_ids\":[\"25839\"]},\"title\":\"Bokeh Application\",\"version\":\"2.3.3\"}};\n  var render_items = [{\"docid\":\"88509e6c-3fa9-43cc-aa21-4c1c3f0c786e\",\"root_ids\":[\"25839\"],\"roots\":{\"25839\":\"2a1af09d-3b43-4804-ae14-e7ee6db1cd9a\"}}];\n  root.Bokeh.embed.embed_items_notebook(docs_json, render_items);\n\n  }\n  if (root.Bokeh !== undefined) {\n    embed_document(root);\n  } else {\n    var attempts = 0;\n    var timer = setInterval(function(root) {\n      if (root.Bokeh !== undefined) {\n        clearInterval(timer);\n        embed_document(root);\n      } else {\n        attempts++;\n        if (attempts > 100) {\n          clearInterval(timer);\n          console.log(\"Bokeh: ERROR: Unable to run BokehJS code because BokehJS library is missing\");\n        }\n      }\n    }, 10, root)\n  }\n})(window);",
      "application/vnd.bokehjs_exec.v0+json": ""
     },
     "metadata": {
      "application/vnd.bokehjs_exec.v0+json": {
       "id": "25839"
      }
     },
     "output_type": "display_data"
    },
    {
     "data": {
      "text/html": [
       "\n",
       "\n",
       "\n",
       "\n",
       "\n",
       "\n",
       "  <div class=\"bk-root\" id=\"3a4c0bcb-977a-4e8d-bc90-0ae9f471901c\" data-root-id=\"26661\"></div>\n"
      ]
     },
     "metadata": {},
     "output_type": "display_data"
    },
    {
     "data": {
      "application/javascript": "(function(root) {\n  function embed_document(root) {\n    \n  var docs_json = {\"b651b567-ea24-450e-87bc-cde40375ab65\":{\"defs\":[],\"roots\":{\"references\":[{\"attributes\":{\"below\":[{\"id\":\"26670\"}],\"center\":[{\"id\":\"26673\"},{\"id\":\"26677\"},{\"id\":\"26708\"}],\"height\":400,\"left\":[{\"id\":\"26674\"}],\"renderers\":[{\"id\":\"26695\"},{\"id\":\"26713\"}],\"title\":{\"id\":\"26697\"},\"toolbar\":{\"id\":\"26685\"},\"width\":1000,\"x_range\":{\"id\":\"26662\"},\"x_scale\":{\"id\":\"26666\"},\"y_range\":{\"id\":\"26664\"},\"y_scale\":{\"id\":\"26668\"}},\"id\":\"26661\",\"subtype\":\"Figure\",\"type\":\"Plot\"},{\"attributes\":{},\"id\":\"26662\",\"type\":\"DataRange1d\"},{\"attributes\":{},\"id\":\"26666\",\"type\":\"LinearScale\"},{\"attributes\":{},\"id\":\"26679\",\"type\":\"WheelZoomTool\"},{\"attributes\":{},\"id\":\"26682\",\"type\":\"ResetTool\"},{\"attributes\":{\"items\":[{\"id\":\"26709\"},{\"id\":\"26728\"}]},\"id\":\"26708\",\"type\":\"Legend\"},{\"attributes\":{\"data_source\":{\"id\":\"26710\"},\"glyph\":{\"id\":\"26711\"},\"hover_glyph\":null,\"muted_glyph\":null,\"nonselection_glyph\":{\"id\":\"26712\"},\"view\":{\"id\":\"26714\"}},\"id\":\"26713\",\"type\":\"GlyphRenderer\"},{\"attributes\":{},\"id\":\"26706\",\"type\":\"Selection\"},{\"attributes\":{},\"id\":\"26681\",\"type\":\"SaveTool\"},{\"attributes\":{\"line_color\":\"green\",\"x\":{\"field\":\"x\"},\"y\":{\"field\":\"y\"}},\"id\":\"26711\",\"type\":\"Line\"},{\"attributes\":{},\"id\":\"26678\",\"type\":\"PanTool\"},{\"attributes\":{\"label\":{\"value\":\"Average vaccinated\"},\"renderers\":[{\"id\":\"26713\"}]},\"id\":\"26728\",\"type\":\"LegendItem\"},{\"attributes\":{\"source\":{\"id\":\"26710\"}},\"id\":\"26714\",\"type\":\"CDSView\"},{\"attributes\":{},\"id\":\"26726\",\"type\":\"Selection\"},{\"attributes\":{\"line_alpha\":0.1,\"line_color\":\"green\",\"x\":{\"field\":\"x\"},\"y\":{\"field\":\"y\"}},\"id\":\"26712\",\"type\":\"Line\"},{\"attributes\":{\"overlay\":{\"id\":\"26684\"}},\"id\":\"26680\",\"type\":\"BoxZoomTool\"},{\"attributes\":{\"active_multi\":null,\"tools\":[{\"id\":\"26678\"},{\"id\":\"26679\"},{\"id\":\"26680\"},{\"id\":\"26681\"},{\"id\":\"26682\"},{\"id\":\"26683\"}]},\"id\":\"26685\",\"type\":\"Toolbar\"},{\"attributes\":{\"data\":{\"x\":[0,1,2,3,4,5,6,7,8,9,10,11,12,13,14,15,16],\"y\":{\"__ndarray__\":\"MzMzMzOXo0AAAAAAgI20QJqZmZmZ16lAzczMzMz0oUAzMzMzM9uaQM3MzMzM1phAzczMzMwqmUBmZmZmZr6aQAAAAAAAAppAzczMzMxemUAAAAAAALCaQAAAAAAAWp1AAAAAAABQnEAAAAAAAKKVQM3MzMzMPpNAZmZmZmbSkkAzMzMzM0eLQA==\",\"dtype\":\"float64\",\"order\":\"little\",\"shape\":[17]}},\"selected\":{\"id\":\"26706\"},\"selection_policy\":{\"id\":\"26705\"}},\"id\":\"26692\",\"type\":\"ColumnDataSource\"},{\"attributes\":{},\"id\":\"26697\",\"type\":\"Title\"},{\"attributes\":{},\"id\":\"26683\",\"type\":\"HelpTool\"},{\"attributes\":{\"data\":{\"x\":[0,1,2,3,4,5,6,7,8,9,10,11,12,13,14,15,16],\"y\":{\"__ndarray__\":\"AAAAAAA3i0DNzMzMzAqJQDMzMzOzYJBAMzMzM7Ovk0DNzMzMTMOgQAAAAAAApqNAo3A9CtcaoEDhehSuRyigQFVVVVVVf5ZAhTqogzrOm0C94iu+4lmhQM7MzMzM8aJAja/4iq9RpkB9xVd8xeugQHoUrkfhBqBAQR3UQR1ApUDNzMzMzMSZQA==\",\"dtype\":\"float64\",\"order\":\"little\",\"shape\":[17]}},\"selected\":{\"id\":\"26726\"},\"selection_policy\":{\"id\":\"26725\"}},\"id\":\"26710\",\"type\":\"ColumnDataSource\"},{\"attributes\":{},\"id\":\"26725\",\"type\":\"UnionRenderers\"},{\"attributes\":{\"bottom_units\":\"screen\",\"fill_alpha\":0.5,\"fill_color\":\"lightgrey\",\"left_units\":\"screen\",\"level\":\"overlay\",\"line_alpha\":1.0,\"line_color\":\"black\",\"line_dash\":[4,4],\"line_width\":2,\"right_units\":\"screen\",\"syncable\":false,\"top_units\":\"screen\"},\"id\":\"26684\",\"type\":\"BoxAnnotation\"},{\"attributes\":{\"axis\":{\"id\":\"26674\"},\"dimension\":1,\"ticker\":null},\"id\":\"26677\",\"type\":\"Grid\"},{\"attributes\":{},\"id\":\"26675\",\"type\":\"BasicTicker\"},{\"attributes\":{\"line_color\":\"blue\",\"x\":{\"field\":\"x\"},\"y\":{\"field\":\"y\"}},\"id\":\"26693\",\"type\":\"Line\"},{\"attributes\":{\"source\":{\"id\":\"26692\"}},\"id\":\"26696\",\"type\":\"CDSView\"},{\"attributes\":{\"formatter\":{\"id\":\"26700\"},\"major_label_policy\":{\"id\":\"26699\"},\"ticker\":{\"id\":\"26675\"}},\"id\":\"26674\",\"type\":\"LinearAxis\"},{\"attributes\":{\"line_alpha\":0.1,\"line_color\":\"blue\",\"x\":{\"field\":\"x\"},\"y\":{\"field\":\"y\"}},\"id\":\"26694\",\"type\":\"Line\"},{\"attributes\":{\"axis\":{\"id\":\"26670\"},\"ticker\":null},\"id\":\"26673\",\"type\":\"Grid\"},{\"attributes\":{},\"id\":\"26671\",\"type\":\"BasicTicker\"},{\"attributes\":{\"label\":{\"value\":\"Unvaccinated\"},\"renderers\":[{\"id\":\"26695\"}]},\"id\":\"26709\",\"type\":\"LegendItem\"},{\"attributes\":{},\"id\":\"26703\",\"type\":\"BasicTickFormatter\"},{\"attributes\":{},\"id\":\"26699\",\"type\":\"AllLabels\"},{\"attributes\":{\"formatter\":{\"id\":\"26703\"},\"major_label_policy\":{\"id\":\"26702\"},\"ticker\":{\"id\":\"26671\"}},\"id\":\"26670\",\"type\":\"LinearAxis\"},{\"attributes\":{},\"id\":\"26700\",\"type\":\"BasicTickFormatter\"},{\"attributes\":{},\"id\":\"26668\",\"type\":\"LinearScale\"},{\"attributes\":{},\"id\":\"26705\",\"type\":\"UnionRenderers\"},{\"attributes\":{},\"id\":\"26664\",\"type\":\"DataRange1d\"},{\"attributes\":{},\"id\":\"26702\",\"type\":\"AllLabels\"},{\"attributes\":{\"data_source\":{\"id\":\"26692\"},\"glyph\":{\"id\":\"26693\"},\"hover_glyph\":null,\"muted_glyph\":null,\"nonselection_glyph\":{\"id\":\"26694\"},\"view\":{\"id\":\"26696\"}},\"id\":\"26695\",\"type\":\"GlyphRenderer\"}],\"root_ids\":[\"26661\"]},\"title\":\"Bokeh Application\",\"version\":\"2.3.3\"}};\n  var render_items = [{\"docid\":\"b651b567-ea24-450e-87bc-cde40375ab65\",\"root_ids\":[\"26661\"],\"roots\":{\"26661\":\"3a4c0bcb-977a-4e8d-bc90-0ae9f471901c\"}}];\n  root.Bokeh.embed.embed_items_notebook(docs_json, render_items);\n\n  }\n  if (root.Bokeh !== undefined) {\n    embed_document(root);\n  } else {\n    var attempts = 0;\n    var timer = setInterval(function(root) {\n      if (root.Bokeh !== undefined) {\n        clearInterval(timer);\n        embed_document(root);\n      } else {\n        attempts++;\n        if (attempts > 100) {\n          clearInterval(timer);\n          console.log(\"Bokeh: ERROR: Unable to run BokehJS code because BokehJS library is missing\");\n        }\n      }\n    }, 10, root)\n  }\n})(window);",
      "application/vnd.bokehjs_exec.v0+json": ""
     },
     "metadata": {
      "application/vnd.bokehjs_exec.v0+json": {
       "id": "26661"
      }
     },
     "output_type": "display_data"
    }
   ],
   "source": [
    "import pandas as pd\n",
    "import numpy as np\n",
    "from bokeh.plotting import figure, show\n",
    "from bokeh.io import output_notebook\n",
    "output_notebook()\n",
    "\n",
    "data = pd.read_csv('table.csv')\n",
    "df = pd.DataFrame(data, columns=['Year', 'Month', 'Vaccination status', 'Age-standardised mortality rate / 100,000 person-years'])\n",
    "\n",
    "# pivot table to break status out as columns\n",
    "columns = ['Date']\n",
    "row_count = 0\n",
    "for i, row in df.iterrows():\n",
    "    status = row['Vaccination status']\n",
    "    if status == 'Unvaccinated':\n",
    "        row_count += 1\n",
    "    if not status in columns:\n",
    "        columns += [status]   \n",
    "\n",
    "dp = pd.DataFrame(columns=columns)\n",
    "\n",
    "data = {}\n",
    "\n",
    "averages = np.zeros(row_count)\n",
    "\n",
    "# we keep a count of actual data per date since some data is missing by definition, for example, \n",
    "# \"Second dose, at least 6 months ago\" is not available until 6 months into the data so it cannot\n",
    "# add to the average until then otherwise it artificially brings down the average.\n",
    "counts = np.zeros(row_count)\n",
    "\n",
    "row_index = 0\n",
    "\n",
    "for i, row in df.iterrows():\n",
    "    year = row['Year']\n",
    "    month = row['Month']\n",
    "    status = row['Vaccination status']\n",
    "    rate = row['Age-standardised mortality rate / 100,000 person-years']\n",
    "\n",
    "    frate = 0 \n",
    "    if rate != 'x':\n",
    "        frate = float(rate)\n",
    "    \n",
    "    if status == 'Unvaccinated':\n",
    "        data['Date'] = f\"{year}.{month}\"\n",
    "    elif rate != 'x' and status != 'Ever vaccinated':\n",
    "        counts[row_index] += 1\n",
    "        averages[row_index] += frate\n",
    "\n",
    "    data[status] = frate\n",
    "\n",
    "    if status == 'Ever vaccinated':\n",
    "        dp = dp.append(data, ignore_index=True)\n",
    "        data = {}\n",
    "        row_index += 1\n",
    "\n",
    "dates = dp[columns[0]]\n",
    "xs = list(range(len(dates)))\n",
    "\n",
    "for i in range(2, len(columns)):\n",
    "    unvax = dp[columns[1]]\n",
    "    label = columns[i]\n",
    "    vax = dp[label]\n",
    "    vs = np.array(vax)\n",
    "    p = figure(width=1000, height=400) \n",
    "    p.line(xs, unvax, color='blue', legend_label=columns[1])\n",
    "    p.line(xs, vax, color='green', legend_label=label)\n",
    "    show(p)\n",
    "\n",
    "# averages now has sampled from 7 pools, or 700,000 people, so we have\n",
    "# to divide by the counts to get that back to \"per 100k\" \n",
    "averages /= counts \n",
    "p = figure(width=1000, height=400) \n",
    "p.line(xs, unvax, color='blue', legend_label=columns[1])\n",
    "p.line(xs, averages, color='green', legend_label=\"Average vaccinated\")\n",
    "show(p)\n"
   ]
  },
  {
   "cell_type": "code",
   "execution_count": null,
   "metadata": {},
   "outputs": [],
   "source": []
  }
 ],
 "metadata": {
  "kernelspec": {
   "display_name": "ell",
   "language": "python",
   "name": "python3"
  },
  "language_info": {
   "codemirror_mode": {
    "name": "ipython",
    "version": 3
   },
   "file_extension": ".py",
   "mimetype": "text/x-python",
   "name": "python",
   "nbconvert_exporter": "python",
   "pygments_lexer": "ipython3",
   "version": "3.6.13"
  },
  "orig_nbformat": 4,
  "vscode": {
   "interpreter": {
    "hash": "cebab090d7928b292f43d9775080494349b1447d35f136748a1b854a78dda8bf"
   }
  }
 },
 "nbformat": 4,
 "nbformat_minor": 2
}
